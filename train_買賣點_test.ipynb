{
 "cells": [
  {
   "cell_type": "markdown",
   "metadata": {
    "id": "_eorxyS1d9cT"
   },
   "source": [
    "# 套件"
   ]
  },
  {
   "cell_type": "code",
   "execution_count": 1,
   "metadata": {},
   "outputs": [],
   "source": [
    "import random\n",
    "import numpy as np\n",
    "import pandas as pd\n",
    "import tensorflow as tf\n",
    "import yfinance as yf\n",
    "from datetime import datetime, timedelta"
   ]
  },
  {
   "cell_type": "markdown",
   "metadata": {
    "id": "6vaRLIuvJlZ7"
   },
   "source": [
    "# 載入資料"
   ]
  },
  {
   "cell_type": "code",
   "execution_count": 2,
   "metadata": {
    "colab": {
     "base_uri": "https://localhost:8080/",
     "height": 473
    },
    "id": "6rjcBk4sWHYE",
    "outputId": "2104f15d-fed8-4a3d-d67d-83976a530557",
    "scrolled": true
   },
   "outputs": [
    {
     "data": {
      "text/html": [
       "<div>\n",
       "<style scoped>\n",
       "    .dataframe tbody tr th:only-of-type {\n",
       "        vertical-align: middle;\n",
       "    }\n",
       "\n",
       "    .dataframe tbody tr th {\n",
       "        vertical-align: top;\n",
       "    }\n",
       "\n",
       "    .dataframe thead th {\n",
       "        text-align: right;\n",
       "    }\n",
       "</style>\n",
       "<table border=\"1\" class=\"dataframe\">\n",
       "  <thead>\n",
       "    <tr style=\"text-align: right;\">\n",
       "      <th></th>\n",
       "      <th>Date</th>\n",
       "      <th>Open</th>\n",
       "      <th>High</th>\n",
       "      <th>Low</th>\n",
       "      <th>Close</th>\n",
       "      <th>Adj Close</th>\n",
       "      <th>Volume</th>\n",
       "      <th>Highest_high</th>\n",
       "      <th>Lowest_Low</th>\n",
       "      <th>Xh_md</th>\n",
       "      <th>triple_barrier_signal</th>\n",
       "    </tr>\n",
       "  </thead>\n",
       "  <tbody>\n",
       "    <tr>\n",
       "      <th>0</th>\n",
       "      <td>2012-01-03</td>\n",
       "      <td>7005.390137</td>\n",
       "      <td>7073.790039</td>\n",
       "      <td>7005.390137</td>\n",
       "      <td>7053.379883</td>\n",
       "      <td>7053.354004</td>\n",
       "      <td>1818200</td>\n",
       "      <td>NaN</td>\n",
       "      <td>NaN</td>\n",
       "      <td>0</td>\n",
       "      <td>0</td>\n",
       "    </tr>\n",
       "    <tr>\n",
       "      <th>1</th>\n",
       "      <td>2012-01-04</td>\n",
       "      <td>7093.069824</td>\n",
       "      <td>7116.220215</td>\n",
       "      <td>7064.580078</td>\n",
       "      <td>7082.970215</td>\n",
       "      <td>7082.943848</td>\n",
       "      <td>2132200</td>\n",
       "      <td>NaN</td>\n",
       "      <td>NaN</td>\n",
       "      <td>0</td>\n",
       "      <td>0</td>\n",
       "    </tr>\n",
       "    <tr>\n",
       "      <th>2</th>\n",
       "      <td>2012-01-05</td>\n",
       "      <td>7099.350098</td>\n",
       "      <td>7130.859863</td>\n",
       "      <td>7073.319824</td>\n",
       "      <td>7130.859863</td>\n",
       "      <td>7130.833008</td>\n",
       "      <td>2209000</td>\n",
       "      <td>NaN</td>\n",
       "      <td>NaN</td>\n",
       "      <td>0</td>\n",
       "      <td>0</td>\n",
       "    </tr>\n",
       "    <tr>\n",
       "      <th>3</th>\n",
       "      <td>2012-01-06</td>\n",
       "      <td>7129.529785</td>\n",
       "      <td>7139.040039</td>\n",
       "      <td>7090.470215</td>\n",
       "      <td>7120.509766</td>\n",
       "      <td>7120.482910</td>\n",
       "      <td>2354400</td>\n",
       "      <td>NaN</td>\n",
       "      <td>NaN</td>\n",
       "      <td>0</td>\n",
       "      <td>0</td>\n",
       "    </tr>\n",
       "    <tr>\n",
       "      <th>4</th>\n",
       "      <td>2012-01-09</td>\n",
       "      <td>7103.089844</td>\n",
       "      <td>7103.089844</td>\n",
       "      <td>7050.250000</td>\n",
       "      <td>7093.040039</td>\n",
       "      <td>7093.013672</td>\n",
       "      <td>1741000</td>\n",
       "      <td>NaN</td>\n",
       "      <td>NaN</td>\n",
       "      <td>0</td>\n",
       "      <td>0</td>\n",
       "    </tr>\n",
       "    <tr>\n",
       "      <th>...</th>\n",
       "      <td>...</td>\n",
       "      <td>...</td>\n",
       "      <td>...</td>\n",
       "      <td>...</td>\n",
       "      <td>...</td>\n",
       "      <td>...</td>\n",
       "      <td>...</td>\n",
       "      <td>...</td>\n",
       "      <td>...</td>\n",
       "      <td>...</td>\n",
       "      <td>...</td>\n",
       "    </tr>\n",
       "    <tr>\n",
       "      <th>1707</th>\n",
       "      <td>2018-12-24</td>\n",
       "      <td>9646.530273</td>\n",
       "      <td>9658.950195</td>\n",
       "      <td>9613.290039</td>\n",
       "      <td>9639.700195</td>\n",
       "      <td>9639.700195</td>\n",
       "      <td>1385100</td>\n",
       "      <td>10137.870117</td>\n",
       "      <td>9639.700195</td>\n",
       "      <td>-1</td>\n",
       "      <td>0</td>\n",
       "    </tr>\n",
       "    <tr>\n",
       "      <th>1708</th>\n",
       "      <td>2018-12-25</td>\n",
       "      <td>9559.700195</td>\n",
       "      <td>9559.700195</td>\n",
       "      <td>9479.059570</td>\n",
       "      <td>9527.089844</td>\n",
       "      <td>9527.089844</td>\n",
       "      <td>1458500</td>\n",
       "      <td>10137.870117</td>\n",
       "      <td>9527.089844</td>\n",
       "      <td>-1</td>\n",
       "      <td>0</td>\n",
       "    </tr>\n",
       "    <tr>\n",
       "      <th>1709</th>\n",
       "      <td>2018-12-26</td>\n",
       "      <td>9544.870117</td>\n",
       "      <td>9591.910156</td>\n",
       "      <td>9473.299805</td>\n",
       "      <td>9478.990234</td>\n",
       "      <td>9478.990234</td>\n",
       "      <td>1299700</td>\n",
       "      <td>10137.870117</td>\n",
       "      <td>9478.990234</td>\n",
       "      <td>-1</td>\n",
       "      <td>0</td>\n",
       "    </tr>\n",
       "    <tr>\n",
       "      <th>1710</th>\n",
       "      <td>2018-12-27</td>\n",
       "      <td>9555.009766</td>\n",
       "      <td>9670.969727</td>\n",
       "      <td>9555.009766</td>\n",
       "      <td>9641.559570</td>\n",
       "      <td>9641.559570</td>\n",
       "      <td>1511100</td>\n",
       "      <td>10137.870117</td>\n",
       "      <td>9478.990234</td>\n",
       "      <td>0</td>\n",
       "      <td>0</td>\n",
       "    </tr>\n",
       "    <tr>\n",
       "      <th>1711</th>\n",
       "      <td>2018-12-28</td>\n",
       "      <td>9649.969727</td>\n",
       "      <td>9727.410156</td>\n",
       "      <td>9630.769531</td>\n",
       "      <td>9727.410156</td>\n",
       "      <td>9727.410156</td>\n",
       "      <td>1411300</td>\n",
       "      <td>10137.870117</td>\n",
       "      <td>9478.990234</td>\n",
       "      <td>0</td>\n",
       "      <td>0</td>\n",
       "    </tr>\n",
       "  </tbody>\n",
       "</table>\n",
       "<p>1712 rows × 11 columns</p>\n",
       "</div>"
      ],
      "text/plain": [
       "           Date         Open         High          Low        Close  \\\n",
       "0    2012-01-03  7005.390137  7073.790039  7005.390137  7053.379883   \n",
       "1    2012-01-04  7093.069824  7116.220215  7064.580078  7082.970215   \n",
       "2    2012-01-05  7099.350098  7130.859863  7073.319824  7130.859863   \n",
       "3    2012-01-06  7129.529785  7139.040039  7090.470215  7120.509766   \n",
       "4    2012-01-09  7103.089844  7103.089844  7050.250000  7093.040039   \n",
       "...         ...          ...          ...          ...          ...   \n",
       "1707 2018-12-24  9646.530273  9658.950195  9613.290039  9639.700195   \n",
       "1708 2018-12-25  9559.700195  9559.700195  9479.059570  9527.089844   \n",
       "1709 2018-12-26  9544.870117  9591.910156  9473.299805  9478.990234   \n",
       "1710 2018-12-27  9555.009766  9670.969727  9555.009766  9641.559570   \n",
       "1711 2018-12-28  9649.969727  9727.410156  9630.769531  9727.410156   \n",
       "\n",
       "        Adj Close   Volume  Highest_high   Lowest_Low  Xh_md  \\\n",
       "0     7053.354004  1818200           NaN          NaN      0   \n",
       "1     7082.943848  2132200           NaN          NaN      0   \n",
       "2     7130.833008  2209000           NaN          NaN      0   \n",
       "3     7120.482910  2354400           NaN          NaN      0   \n",
       "4     7093.013672  1741000           NaN          NaN      0   \n",
       "...           ...      ...           ...          ...    ...   \n",
       "1707  9639.700195  1385100  10137.870117  9639.700195     -1   \n",
       "1708  9527.089844  1458500  10137.870117  9527.089844     -1   \n",
       "1709  9478.990234  1299700  10137.870117  9478.990234     -1   \n",
       "1710  9641.559570  1511100  10137.870117  9478.990234      0   \n",
       "1711  9727.410156  1411300  10137.870117  9478.990234      0   \n",
       "\n",
       "      triple_barrier_signal  \n",
       "0                         0  \n",
       "1                         0  \n",
       "2                         0  \n",
       "3                         0  \n",
       "4                         0  \n",
       "...                     ...  \n",
       "1707                      0  \n",
       "1708                      0  \n",
       "1709                      0  \n",
       "1710                      0  \n",
       "1711                      0  \n",
       "\n",
       "[1712 rows x 11 columns]"
      ]
     },
     "metadata": {},
     "output_type": "display_data"
    }
   ],
   "source": [
    "\n",
    "# 載入事前已處理好的 Label\n",
    "\n",
    "y_symbol = 'D:/12_ChatGPT打造AI投資助理/程式碼/test_XH_01.xlsx'\n",
    "df = pd.read_excel(y_symbol)\n",
    "\n",
    "display(df)\n"
   ]
  },
  {
   "cell_type": "markdown",
   "metadata": {
    "id": "DELsyrG_dxLV"
   },
   "source": [
    "# check 'triple_barrier_signal'"
   ]
  },
  {
   "cell_type": "code",
   "execution_count": 3,
   "metadata": {
    "colab": {
     "base_uri": "https://localhost:8080/",
     "height": 707
    },
    "id": "MHRZWGG40a3q",
    "outputId": "f055b042-81d4-4a9d-d8f0-b7b26a3d2eda"
   },
   "outputs": [
    {
     "data": {
      "text/html": [
       "<div>\n",
       "<style scoped>\n",
       "    .dataframe tbody tr th:only-of-type {\n",
       "        vertical-align: middle;\n",
       "    }\n",
       "\n",
       "    .dataframe tbody tr th {\n",
       "        vertical-align: top;\n",
       "    }\n",
       "\n",
       "    .dataframe thead th {\n",
       "        text-align: right;\n",
       "    }\n",
       "</style>\n",
       "<table border=\"1\" class=\"dataframe\">\n",
       "  <thead>\n",
       "    <tr style=\"text-align: right;\">\n",
       "      <th></th>\n",
       "      <th>Date</th>\n",
       "      <th>Open</th>\n",
       "      <th>High</th>\n",
       "      <th>Low</th>\n",
       "      <th>Close</th>\n",
       "      <th>Adj Close</th>\n",
       "      <th>Volume</th>\n",
       "      <th>Highest_high</th>\n",
       "      <th>Lowest_Low</th>\n",
       "      <th>Xh_md</th>\n",
       "      <th>triple_barrier_signal</th>\n",
       "    </tr>\n",
       "  </thead>\n",
       "  <tbody>\n",
       "    <tr>\n",
       "      <th>1692</th>\n",
       "      <td>2018-12-03</td>\n",
       "      <td>9979.209961</td>\n",
       "      <td>10148.750000</td>\n",
       "      <td>9979.209961</td>\n",
       "      <td>10137.870117</td>\n",
       "      <td>10137.870117</td>\n",
       "      <td>3055000</td>\n",
       "      <td>10137.870117</td>\n",
       "      <td>9667.299805</td>\n",
       "      <td>0</td>\n",
       "      <td>0</td>\n",
       "    </tr>\n",
       "    <tr>\n",
       "      <th>1693</th>\n",
       "      <td>2018-12-04</td>\n",
       "      <td>10120.429688</td>\n",
       "      <td>10126.019531</td>\n",
       "      <td>10061.700195</td>\n",
       "      <td>10083.540039</td>\n",
       "      <td>10083.540039</td>\n",
       "      <td>2576200</td>\n",
       "      <td>10137.870117</td>\n",
       "      <td>9667.299805</td>\n",
       "      <td>-1</td>\n",
       "      <td>0</td>\n",
       "    </tr>\n",
       "    <tr>\n",
       "      <th>1694</th>\n",
       "      <td>2018-12-05</td>\n",
       "      <td>9971.980469</td>\n",
       "      <td>9971.980469</td>\n",
       "      <td>9895.290039</td>\n",
       "      <td>9916.740234</td>\n",
       "      <td>9916.740234</td>\n",
       "      <td>2025400</td>\n",
       "      <td>10137.870117</td>\n",
       "      <td>9667.299805</td>\n",
       "      <td>-1</td>\n",
       "      <td>0</td>\n",
       "    </tr>\n",
       "    <tr>\n",
       "      <th>1695</th>\n",
       "      <td>2018-12-06</td>\n",
       "      <td>9850.080078</td>\n",
       "      <td>9850.080078</td>\n",
       "      <td>9664.750000</td>\n",
       "      <td>9684.719727</td>\n",
       "      <td>9684.719727</td>\n",
       "      <td>2658000</td>\n",
       "      <td>10137.870117</td>\n",
       "      <td>9667.299805</td>\n",
       "      <td>-1</td>\n",
       "      <td>0</td>\n",
       "    </tr>\n",
       "    <tr>\n",
       "      <th>1696</th>\n",
       "      <td>2018-12-07</td>\n",
       "      <td>9719.459961</td>\n",
       "      <td>9785.200195</td>\n",
       "      <td>9719.459961</td>\n",
       "      <td>9760.879883</td>\n",
       "      <td>9760.879883</td>\n",
       "      <td>1716300</td>\n",
       "      <td>10137.870117</td>\n",
       "      <td>9667.299805</td>\n",
       "      <td>0</td>\n",
       "      <td>0</td>\n",
       "    </tr>\n",
       "    <tr>\n",
       "      <th>1697</th>\n",
       "      <td>2018-12-10</td>\n",
       "      <td>9722.969727</td>\n",
       "      <td>9722.969727</td>\n",
       "      <td>9626.469727</td>\n",
       "      <td>9647.540039</td>\n",
       "      <td>9647.540039</td>\n",
       "      <td>1868800</td>\n",
       "      <td>10137.870117</td>\n",
       "      <td>9647.540039</td>\n",
       "      <td>-1</td>\n",
       "      <td>0</td>\n",
       "    </tr>\n",
       "    <tr>\n",
       "      <th>1698</th>\n",
       "      <td>2018-12-11</td>\n",
       "      <td>9661.719727</td>\n",
       "      <td>9720.959961</td>\n",
       "      <td>9661.719727</td>\n",
       "      <td>9707.040039</td>\n",
       "      <td>9707.040039</td>\n",
       "      <td>1768400</td>\n",
       "      <td>10137.870117</td>\n",
       "      <td>9647.540039</td>\n",
       "      <td>0</td>\n",
       "      <td>0</td>\n",
       "    </tr>\n",
       "    <tr>\n",
       "      <th>1699</th>\n",
       "      <td>2018-12-12</td>\n",
       "      <td>9741.450195</td>\n",
       "      <td>9835.559570</td>\n",
       "      <td>9741.450195</td>\n",
       "      <td>9816.450195</td>\n",
       "      <td>9816.450195</td>\n",
       "      <td>1860200</td>\n",
       "      <td>10137.870117</td>\n",
       "      <td>9647.540039</td>\n",
       "      <td>0</td>\n",
       "      <td>0</td>\n",
       "    </tr>\n",
       "    <tr>\n",
       "      <th>1700</th>\n",
       "      <td>2018-12-13</td>\n",
       "      <td>9827.320312</td>\n",
       "      <td>9871.959961</td>\n",
       "      <td>9815.500000</td>\n",
       "      <td>9858.759766</td>\n",
       "      <td>9858.759766</td>\n",
       "      <td>2034600</td>\n",
       "      <td>10137.870117</td>\n",
       "      <td>9647.540039</td>\n",
       "      <td>0</td>\n",
       "      <td>0</td>\n",
       "    </tr>\n",
       "    <tr>\n",
       "      <th>1701</th>\n",
       "      <td>2018-12-14</td>\n",
       "      <td>9818.950195</td>\n",
       "      <td>9818.950195</td>\n",
       "      <td>9718.940430</td>\n",
       "      <td>9774.160156</td>\n",
       "      <td>9774.160156</td>\n",
       "      <td>1837600</td>\n",
       "      <td>10137.870117</td>\n",
       "      <td>9647.540039</td>\n",
       "      <td>-1</td>\n",
       "      <td>0</td>\n",
       "    </tr>\n",
       "    <tr>\n",
       "      <th>1702</th>\n",
       "      <td>2018-12-17</td>\n",
       "      <td>9762.490234</td>\n",
       "      <td>9826.879883</td>\n",
       "      <td>9733.980469</td>\n",
       "      <td>9787.530273</td>\n",
       "      <td>9787.530273</td>\n",
       "      <td>1597900</td>\n",
       "      <td>10137.870117</td>\n",
       "      <td>9647.540039</td>\n",
       "      <td>0</td>\n",
       "      <td>0</td>\n",
       "    </tr>\n",
       "    <tr>\n",
       "      <th>1703</th>\n",
       "      <td>2018-12-18</td>\n",
       "      <td>9756.459961</td>\n",
       "      <td>9756.669922</td>\n",
       "      <td>9701.099609</td>\n",
       "      <td>9718.820312</td>\n",
       "      <td>9718.820312</td>\n",
       "      <td>1881600</td>\n",
       "      <td>10137.870117</td>\n",
       "      <td>9647.540039</td>\n",
       "      <td>-1</td>\n",
       "      <td>0</td>\n",
       "    </tr>\n",
       "    <tr>\n",
       "      <th>1704</th>\n",
       "      <td>2018-12-19</td>\n",
       "      <td>9720.919922</td>\n",
       "      <td>9783.209961</td>\n",
       "      <td>9720.919922</td>\n",
       "      <td>9783.209961</td>\n",
       "      <td>9783.209961</td>\n",
       "      <td>1782800</td>\n",
       "      <td>10137.870117</td>\n",
       "      <td>9647.540039</td>\n",
       "      <td>0</td>\n",
       "      <td>0</td>\n",
       "    </tr>\n",
       "    <tr>\n",
       "      <th>1705</th>\n",
       "      <td>2018-12-20</td>\n",
       "      <td>9729.290039</td>\n",
       "      <td>9741.549805</td>\n",
       "      <td>9658.500000</td>\n",
       "      <td>9674.519531</td>\n",
       "      <td>9674.519531</td>\n",
       "      <td>1696500</td>\n",
       "      <td>10137.870117</td>\n",
       "      <td>9647.540039</td>\n",
       "      <td>-1</td>\n",
       "      <td>0</td>\n",
       "    </tr>\n",
       "    <tr>\n",
       "      <th>1706</th>\n",
       "      <td>2018-12-21</td>\n",
       "      <td>9648.980469</td>\n",
       "      <td>9683.950195</td>\n",
       "      <td>9585.320312</td>\n",
       "      <td>9676.669922</td>\n",
       "      <td>9676.669922</td>\n",
       "      <td>2087300</td>\n",
       "      <td>10137.870117</td>\n",
       "      <td>9647.540039</td>\n",
       "      <td>0</td>\n",
       "      <td>0</td>\n",
       "    </tr>\n",
       "    <tr>\n",
       "      <th>1707</th>\n",
       "      <td>2018-12-24</td>\n",
       "      <td>9646.530273</td>\n",
       "      <td>9658.950195</td>\n",
       "      <td>9613.290039</td>\n",
       "      <td>9639.700195</td>\n",
       "      <td>9639.700195</td>\n",
       "      <td>1385100</td>\n",
       "      <td>10137.870117</td>\n",
       "      <td>9639.700195</td>\n",
       "      <td>-1</td>\n",
       "      <td>0</td>\n",
       "    </tr>\n",
       "    <tr>\n",
       "      <th>1708</th>\n",
       "      <td>2018-12-25</td>\n",
       "      <td>9559.700195</td>\n",
       "      <td>9559.700195</td>\n",
       "      <td>9479.059570</td>\n",
       "      <td>9527.089844</td>\n",
       "      <td>9527.089844</td>\n",
       "      <td>1458500</td>\n",
       "      <td>10137.870117</td>\n",
       "      <td>9527.089844</td>\n",
       "      <td>-1</td>\n",
       "      <td>0</td>\n",
       "    </tr>\n",
       "    <tr>\n",
       "      <th>1709</th>\n",
       "      <td>2018-12-26</td>\n",
       "      <td>9544.870117</td>\n",
       "      <td>9591.910156</td>\n",
       "      <td>9473.299805</td>\n",
       "      <td>9478.990234</td>\n",
       "      <td>9478.990234</td>\n",
       "      <td>1299700</td>\n",
       "      <td>10137.870117</td>\n",
       "      <td>9478.990234</td>\n",
       "      <td>-1</td>\n",
       "      <td>0</td>\n",
       "    </tr>\n",
       "    <tr>\n",
       "      <th>1710</th>\n",
       "      <td>2018-12-27</td>\n",
       "      <td>9555.009766</td>\n",
       "      <td>9670.969727</td>\n",
       "      <td>9555.009766</td>\n",
       "      <td>9641.559570</td>\n",
       "      <td>9641.559570</td>\n",
       "      <td>1511100</td>\n",
       "      <td>10137.870117</td>\n",
       "      <td>9478.990234</td>\n",
       "      <td>0</td>\n",
       "      <td>0</td>\n",
       "    </tr>\n",
       "    <tr>\n",
       "      <th>1711</th>\n",
       "      <td>2018-12-28</td>\n",
       "      <td>9649.969727</td>\n",
       "      <td>9727.410156</td>\n",
       "      <td>9630.769531</td>\n",
       "      <td>9727.410156</td>\n",
       "      <td>9727.410156</td>\n",
       "      <td>1411300</td>\n",
       "      <td>10137.870117</td>\n",
       "      <td>9478.990234</td>\n",
       "      <td>0</td>\n",
       "      <td>0</td>\n",
       "    </tr>\n",
       "  </tbody>\n",
       "</table>\n",
       "</div>"
      ],
      "text/plain": [
       "           Date          Open          High           Low         Close  \\\n",
       "1692 2018-12-03   9979.209961  10148.750000   9979.209961  10137.870117   \n",
       "1693 2018-12-04  10120.429688  10126.019531  10061.700195  10083.540039   \n",
       "1694 2018-12-05   9971.980469   9971.980469   9895.290039   9916.740234   \n",
       "1695 2018-12-06   9850.080078   9850.080078   9664.750000   9684.719727   \n",
       "1696 2018-12-07   9719.459961   9785.200195   9719.459961   9760.879883   \n",
       "1697 2018-12-10   9722.969727   9722.969727   9626.469727   9647.540039   \n",
       "1698 2018-12-11   9661.719727   9720.959961   9661.719727   9707.040039   \n",
       "1699 2018-12-12   9741.450195   9835.559570   9741.450195   9816.450195   \n",
       "1700 2018-12-13   9827.320312   9871.959961   9815.500000   9858.759766   \n",
       "1701 2018-12-14   9818.950195   9818.950195   9718.940430   9774.160156   \n",
       "1702 2018-12-17   9762.490234   9826.879883   9733.980469   9787.530273   \n",
       "1703 2018-12-18   9756.459961   9756.669922   9701.099609   9718.820312   \n",
       "1704 2018-12-19   9720.919922   9783.209961   9720.919922   9783.209961   \n",
       "1705 2018-12-20   9729.290039   9741.549805   9658.500000   9674.519531   \n",
       "1706 2018-12-21   9648.980469   9683.950195   9585.320312   9676.669922   \n",
       "1707 2018-12-24   9646.530273   9658.950195   9613.290039   9639.700195   \n",
       "1708 2018-12-25   9559.700195   9559.700195   9479.059570   9527.089844   \n",
       "1709 2018-12-26   9544.870117   9591.910156   9473.299805   9478.990234   \n",
       "1710 2018-12-27   9555.009766   9670.969727   9555.009766   9641.559570   \n",
       "1711 2018-12-28   9649.969727   9727.410156   9630.769531   9727.410156   \n",
       "\n",
       "         Adj Close   Volume  Highest_high   Lowest_Low  Xh_md  \\\n",
       "1692  10137.870117  3055000  10137.870117  9667.299805      0   \n",
       "1693  10083.540039  2576200  10137.870117  9667.299805     -1   \n",
       "1694   9916.740234  2025400  10137.870117  9667.299805     -1   \n",
       "1695   9684.719727  2658000  10137.870117  9667.299805     -1   \n",
       "1696   9760.879883  1716300  10137.870117  9667.299805      0   \n",
       "1697   9647.540039  1868800  10137.870117  9647.540039     -1   \n",
       "1698   9707.040039  1768400  10137.870117  9647.540039      0   \n",
       "1699   9816.450195  1860200  10137.870117  9647.540039      0   \n",
       "1700   9858.759766  2034600  10137.870117  9647.540039      0   \n",
       "1701   9774.160156  1837600  10137.870117  9647.540039     -1   \n",
       "1702   9787.530273  1597900  10137.870117  9647.540039      0   \n",
       "1703   9718.820312  1881600  10137.870117  9647.540039     -1   \n",
       "1704   9783.209961  1782800  10137.870117  9647.540039      0   \n",
       "1705   9674.519531  1696500  10137.870117  9647.540039     -1   \n",
       "1706   9676.669922  2087300  10137.870117  9647.540039      0   \n",
       "1707   9639.700195  1385100  10137.870117  9639.700195     -1   \n",
       "1708   9527.089844  1458500  10137.870117  9527.089844     -1   \n",
       "1709   9478.990234  1299700  10137.870117  9478.990234     -1   \n",
       "1710   9641.559570  1511100  10137.870117  9478.990234      0   \n",
       "1711   9727.410156  1411300  10137.870117  9478.990234      0   \n",
       "\n",
       "      triple_barrier_signal  \n",
       "1692                      0  \n",
       "1693                      0  \n",
       "1694                      0  \n",
       "1695                      0  \n",
       "1696                      0  \n",
       "1697                      0  \n",
       "1698                      0  \n",
       "1699                      0  \n",
       "1700                      0  \n",
       "1701                      0  \n",
       "1702                      0  \n",
       "1703                      0  \n",
       "1704                      0  \n",
       "1705                      0  \n",
       "1706                      0  \n",
       "1707                      0  \n",
       "1708                      0  \n",
       "1709                      0  \n",
       "1710                      0  \n",
       "1711                      0  "
      ]
     },
     "execution_count": 3,
     "metadata": {},
     "output_type": "execute_result"
    }
   ],
   "source": [
    "df.tail(20)"
   ]
  },
  {
   "cell_type": "code",
   "execution_count": 4,
   "metadata": {
    "colab": {
     "base_uri": "https://localhost:8080/"
    },
    "id": "tK_VXl2R1Osh",
    "outputId": "83daab44-72a4-4668-a317-ee7198e04a3a"
   },
   "outputs": [
    {
     "name": "stdout",
     "output_type": "stream",
     "text": [
      "0    1607\n",
      "1     105\n",
      "Name: triple_barrier_signal, dtype: int64\n"
     ]
    }
   ],
   "source": [
    "import seaborn as sns\n",
    "print(df['triple_barrier_signal'].value_counts())\n",
    "#sns.countplot(df['triple_barrier_signal'])"
   ]
  },
  {
   "cell_type": "markdown",
   "metadata": {
    "id": "8KZo6Kl5dxLY"
   },
   "source": [
    "# plot buy price and sell price"
   ]
  },
  {
   "cell_type": "code",
   "execution_count": 5,
   "metadata": {
    "colab": {
     "base_uri": "https://localhost:8080/",
     "height": 277
    },
    "id": "Qti5Zd4-jOrH",
    "outputId": "17c7b364-98e1-4ba6-d983-aaad420c1479"
   },
   "outputs": [
    {
     "data": {
      "image/png": "[encoded data removed]",
      "text/plain": [
       "<Figure size 640x480 with 1 Axes>"
      ]
     },
     "metadata": {},
     "output_type": "display_data"
    }
   ],
   "source": [
    "import matplotlib.pyplot as plt\n",
    "\n",
    "df_recent = df.tail(100)\n",
    "buy = df_recent[df_recent['triple_barrier_signal']==1]['Close']\n",
    "sell = df_recent[df_recent['triple_barrier_signal']==-1]['Close']\n",
    "df_recent['Close'].plot()\n",
    "plt.scatter(buy.index,buy.values,color='red',marker='^')\n",
    "plt.scatter(sell.index,sell.values,color='green',marker='v')\n",
    "plt.show()"
   ]
  },
  {
   "cell_type": "markdown",
   "metadata": {
    "id": "HUtEilqGfIJl"
   },
   "source": [
    "# 建立ohlcv"
   ]
  },
  {
   "cell_type": "code",
   "execution_count": 6,
   "metadata": {
    "id": "FdFhLZkYfKpN"
   },
   "outputs": [],
   "source": [
    "from finta import TA\n",
    "ohlcv = df[['Open','High','Low','Close','Volume']]\n",
    "ohlcv.columns = ['open','high','low','close','volume']"
   ]
  },
  {
   "cell_type": "markdown",
   "metadata": {
    "id": "9K9RepGQwbQQ"
   },
   "source": [
    "# 計算技術指標RSI"
   ]
  },
  {
   "cell_type": "code",
   "execution_count": 7,
   "metadata": {
    "colab": {
     "base_uri": "https://localhost:8080/",
     "height": 970
    },
    "id": "ZZkpnqk9e0Rw",
    "outputId": "2452260a-7d4e-4f77-8240-fe064d312d31"
   },
   "outputs": [
    {
     "name": "stdout",
     "output_type": "stream",
     "text": [
      "count    1711.000000\n",
      "mean       52.971294\n",
      "std        12.312426\n",
      "min         9.948198\n",
      "25%        44.633990\n",
      "50%        53.932143\n",
      "75%        61.521268\n",
      "max       100.000000\n",
      "Name: RSI, dtype: float64\n"
     ]
    },
    {
     "name": "stderr",
     "output_type": "stream",
     "text": [
      "C:\\Users\\sheng\\anaconda3\\lib\\site-packages\\seaborn\\distributions.py:2619: FutureWarning: `distplot` is a deprecated function and will be removed in a future version. Please adapt your code to use either `displot` (a figure-level function with similar flexibility) or `histplot` (an axes-level function for histograms).\n",
      "  warnings.warn(msg, FutureWarning)\n"
     ]
    },
    {
     "data": {
      "text/html": [
       "<div>\n",
       "<style scoped>\n",
       "    .dataframe tbody tr th:only-of-type {\n",
       "        vertical-align: middle;\n",
       "    }\n",
       "\n",
       "    .dataframe tbody tr th {\n",
       "        vertical-align: top;\n",
       "    }\n",
       "\n",
       "    .dataframe thead th {\n",
       "        text-align: right;\n",
       "    }\n",
       "</style>\n",
       "<table border=\"1\" class=\"dataframe\">\n",
       "  <thead>\n",
       "    <tr style=\"text-align: right;\">\n",
       "      <th></th>\n",
       "      <th>Date</th>\n",
       "      <th>Open</th>\n",
       "      <th>High</th>\n",
       "      <th>Low</th>\n",
       "      <th>Close</th>\n",
       "      <th>Adj Close</th>\n",
       "      <th>Volume</th>\n",
       "      <th>Highest_high</th>\n",
       "      <th>Lowest_Low</th>\n",
       "      <th>Xh_md</th>\n",
       "      <th>triple_barrier_signal</th>\n",
       "      <th>RSI</th>\n",
       "    </tr>\n",
       "  </thead>\n",
       "  <tbody>\n",
       "    <tr>\n",
       "      <th>1707</th>\n",
       "      <td>2018-12-24</td>\n",
       "      <td>9646.530273</td>\n",
       "      <td>9658.950195</td>\n",
       "      <td>9613.290039</td>\n",
       "      <td>9639.700195</td>\n",
       "      <td>9639.700195</td>\n",
       "      <td>1385100</td>\n",
       "      <td>10137.870117</td>\n",
       "      <td>9639.700195</td>\n",
       "      <td>-1</td>\n",
       "      <td>0</td>\n",
       "      <td>41.569831</td>\n",
       "    </tr>\n",
       "    <tr>\n",
       "      <th>1708</th>\n",
       "      <td>2018-12-25</td>\n",
       "      <td>9559.700195</td>\n",
       "      <td>9559.700195</td>\n",
       "      <td>9479.059570</td>\n",
       "      <td>9527.089844</td>\n",
       "      <td>9527.089844</td>\n",
       "      <td>1458500</td>\n",
       "      <td>10137.870117</td>\n",
       "      <td>9527.089844</td>\n",
       "      <td>-1</td>\n",
       "      <td>0</td>\n",
       "      <td>37.047322</td>\n",
       "    </tr>\n",
       "    <tr>\n",
       "      <th>1709</th>\n",
       "      <td>2018-12-26</td>\n",
       "      <td>9544.870117</td>\n",
       "      <td>9591.910156</td>\n",
       "      <td>9473.299805</td>\n",
       "      <td>9478.990234</td>\n",
       "      <td>9478.990234</td>\n",
       "      <td>1299700</td>\n",
       "      <td>10137.870117</td>\n",
       "      <td>9478.990234</td>\n",
       "      <td>-1</td>\n",
       "      <td>0</td>\n",
       "      <td>35.281696</td>\n",
       "    </tr>\n",
       "    <tr>\n",
       "      <th>1710</th>\n",
       "      <td>2018-12-27</td>\n",
       "      <td>9555.009766</td>\n",
       "      <td>9670.969727</td>\n",
       "      <td>9555.009766</td>\n",
       "      <td>9641.559570</td>\n",
       "      <td>9641.559570</td>\n",
       "      <td>1511100</td>\n",
       "      <td>10137.870117</td>\n",
       "      <td>9478.990234</td>\n",
       "      <td>0</td>\n",
       "      <td>0</td>\n",
       "      <td>44.848763</td>\n",
       "    </tr>\n",
       "    <tr>\n",
       "      <th>1711</th>\n",
       "      <td>2018-12-28</td>\n",
       "      <td>9649.969727</td>\n",
       "      <td>9727.410156</td>\n",
       "      <td>9630.769531</td>\n",
       "      <td>9727.410156</td>\n",
       "      <td>9727.410156</td>\n",
       "      <td>1411300</td>\n",
       "      <td>10137.870117</td>\n",
       "      <td>9478.990234</td>\n",
       "      <td>0</td>\n",
       "      <td>0</td>\n",
       "      <td>49.125760</td>\n",
       "    </tr>\n",
       "  </tbody>\n",
       "</table>\n",
       "</div>"
      ],
      "text/plain": [
       "           Date         Open         High          Low        Close  \\\n",
       "1707 2018-12-24  9646.530273  9658.950195  9613.290039  9639.700195   \n",
       "1708 2018-12-25  9559.700195  9559.700195  9479.059570  9527.089844   \n",
       "1709 2018-12-26  9544.870117  9591.910156  9473.299805  9478.990234   \n",
       "1710 2018-12-27  9555.009766  9670.969727  9555.009766  9641.559570   \n",
       "1711 2018-12-28  9649.969727  9727.410156  9630.769531  9727.410156   \n",
       "\n",
       "        Adj Close   Volume  Highest_high   Lowest_Low  Xh_md  \\\n",
       "1707  9639.700195  1385100  10137.870117  9639.700195     -1   \n",
       "1708  9527.089844  1458500  10137.870117  9527.089844     -1   \n",
       "1709  9478.990234  1299700  10137.870117  9478.990234     -1   \n",
       "1710  9641.559570  1511100  10137.870117  9478.990234      0   \n",
       "1711  9727.410156  1411300  10137.870117  9478.990234      0   \n",
       "\n",
       "      triple_barrier_signal        RSI  \n",
       "1707                      0  41.569831  \n",
       "1708                      0  37.047322  \n",
       "1709                      0  35.281696  \n",
       "1710                      0  44.848763  \n",
       "1711                      0  49.125760  "
      ]
     },
     "execution_count": 7,
     "metadata": {},
     "output_type": "execute_result"
    },
    {
     "data": {
      "image/png": "[encoded data removed]",
      "text/plain": [
       "<Figure size 640x480 with 1 Axes>"
      ]
     },
     "metadata": {},
     "output_type": "display_data"
    }
   ],
   "source": [
    "df['RSI'] = TA.RSI(ohlcv)\n",
    "print(df['RSI'].describe())\n",
    "sns.distplot(df['RSI'].dropna())\n",
    "df.tail()"
   ]
  },
  {
   "cell_type": "markdown",
   "metadata": {
    "id": "fZXZuQe93pJE"
   },
   "source": [
    "# 計算威廉指標"
   ]
  },
  {
   "cell_type": "code",
   "execution_count": 8,
   "metadata": {
    "colab": {
     "base_uri": "https://localhost:8080/",
     "height": 970
    },
    "id": "Q8_qx-dnfPJa",
    "outputId": "cab50daf-9829-4a40-b38b-89667c07e7f8"
   },
   "outputs": [
    {
     "name": "stdout",
     "output_type": "stream",
     "text": [
      "count    1699.000000\n",
      "mean      -42.926721\n",
      "std        31.977802\n",
      "min      -100.000000\n",
      "25%       -72.740835\n",
      "50%       -38.033745\n",
      "75%       -12.982162\n",
      "max        -0.000000\n",
      "Name: Williams %R, dtype: float64\n"
     ]
    },
    {
     "name": "stderr",
     "output_type": "stream",
     "text": [
      "C:\\Users\\sheng\\anaconda3\\lib\\site-packages\\seaborn\\distributions.py:2619: FutureWarning: `distplot` is a deprecated function and will be removed in a future version. Please adapt your code to use either `displot` (a figure-level function with similar flexibility) or `histplot` (an axes-level function for histograms).\n",
      "  warnings.warn(msg, FutureWarning)\n"
     ]
    },
    {
     "data": {
      "text/html": [
       "<div>\n",
       "<style scoped>\n",
       "    .dataframe tbody tr th:only-of-type {\n",
       "        vertical-align: middle;\n",
       "    }\n",
       "\n",
       "    .dataframe tbody tr th {\n",
       "        vertical-align: top;\n",
       "    }\n",
       "\n",
       "    .dataframe thead th {\n",
       "        text-align: right;\n",
       "    }\n",
       "</style>\n",
       "<table border=\"1\" class=\"dataframe\">\n",
       "  <thead>\n",
       "    <tr style=\"text-align: right;\">\n",
       "      <th></th>\n",
       "      <th>Date</th>\n",
       "      <th>Open</th>\n",
       "      <th>High</th>\n",
       "      <th>Low</th>\n",
       "      <th>Close</th>\n",
       "      <th>Adj Close</th>\n",
       "      <th>Volume</th>\n",
       "      <th>Highest_high</th>\n",
       "      <th>Lowest_Low</th>\n",
       "      <th>Xh_md</th>\n",
       "      <th>triple_barrier_signal</th>\n",
       "      <th>RSI</th>\n",
       "      <th>Williams %R</th>\n",
       "    </tr>\n",
       "  </thead>\n",
       "  <tbody>\n",
       "    <tr>\n",
       "      <th>1707</th>\n",
       "      <td>2018-12-24</td>\n",
       "      <td>9646.530273</td>\n",
       "      <td>9658.950195</td>\n",
       "      <td>9613.290039</td>\n",
       "      <td>9639.700195</td>\n",
       "      <td>9639.700195</td>\n",
       "      <td>1385100</td>\n",
       "      <td>10137.870117</td>\n",
       "      <td>9639.700195</td>\n",
       "      <td>-1</td>\n",
       "      <td>0</td>\n",
       "      <td>41.569831</td>\n",
       "      <td>-85.936000</td>\n",
       "    </tr>\n",
       "    <tr>\n",
       "      <th>1708</th>\n",
       "      <td>2018-12-25</td>\n",
       "      <td>9559.700195</td>\n",
       "      <td>9559.700195</td>\n",
       "      <td>9479.059570</td>\n",
       "      <td>9527.089844</td>\n",
       "      <td>9527.089844</td>\n",
       "      <td>1458500</td>\n",
       "      <td>10137.870117</td>\n",
       "      <td>9527.089844</td>\n",
       "      <td>-1</td>\n",
       "      <td>0</td>\n",
       "      <td>37.047322</td>\n",
       "      <td>-87.775458</td>\n",
       "    </tr>\n",
       "    <tr>\n",
       "      <th>1709</th>\n",
       "      <td>2018-12-26</td>\n",
       "      <td>9544.870117</td>\n",
       "      <td>9591.910156</td>\n",
       "      <td>9473.299805</td>\n",
       "      <td>9478.990234</td>\n",
       "      <td>9478.990234</td>\n",
       "      <td>1299700</td>\n",
       "      <td>10137.870117</td>\n",
       "      <td>9478.990234</td>\n",
       "      <td>-1</td>\n",
       "      <td>0</td>\n",
       "      <td>35.281696</td>\n",
       "      <td>-98.572611</td>\n",
       "    </tr>\n",
       "    <tr>\n",
       "      <th>1710</th>\n",
       "      <td>2018-12-27</td>\n",
       "      <td>9555.009766</td>\n",
       "      <td>9670.969727</td>\n",
       "      <td>9555.009766</td>\n",
       "      <td>9641.559570</td>\n",
       "      <td>9641.559570</td>\n",
       "      <td>1511100</td>\n",
       "      <td>10137.870117</td>\n",
       "      <td>9478.990234</td>\n",
       "      <td>0</td>\n",
       "      <td>0</td>\n",
       "      <td>44.848763</td>\n",
       "      <td>-57.793684</td>\n",
       "    </tr>\n",
       "    <tr>\n",
       "      <th>1711</th>\n",
       "      <td>2018-12-28</td>\n",
       "      <td>9649.969727</td>\n",
       "      <td>9727.410156</td>\n",
       "      <td>9630.769531</td>\n",
       "      <td>9727.410156</td>\n",
       "      <td>9727.410156</td>\n",
       "      <td>1411300</td>\n",
       "      <td>10137.870117</td>\n",
       "      <td>9478.990234</td>\n",
       "      <td>0</td>\n",
       "      <td>0</td>\n",
       "      <td>49.125760</td>\n",
       "      <td>-36.258904</td>\n",
       "    </tr>\n",
       "  </tbody>\n",
       "</table>\n",
       "</div>"
      ],
      "text/plain": [
       "           Date         Open         High          Low        Close  \\\n",
       "1707 2018-12-24  9646.530273  9658.950195  9613.290039  9639.700195   \n",
       "1708 2018-12-25  9559.700195  9559.700195  9479.059570  9527.089844   \n",
       "1709 2018-12-26  9544.870117  9591.910156  9473.299805  9478.990234   \n",
       "1710 2018-12-27  9555.009766  9670.969727  9555.009766  9641.559570   \n",
       "1711 2018-12-28  9649.969727  9727.410156  9630.769531  9727.410156   \n",
       "\n",
       "        Adj Close   Volume  Highest_high   Lowest_Low  Xh_md  \\\n",
       "1707  9639.700195  1385100  10137.870117  9639.700195     -1   \n",
       "1708  9527.089844  1458500  10137.870117  9527.089844     -1   \n",
       "1709  9478.990234  1299700  10137.870117  9478.990234     -1   \n",
       "1710  9641.559570  1511100  10137.870117  9478.990234      0   \n",
       "1711  9727.410156  1411300  10137.870117  9478.990234      0   \n",
       "\n",
       "      triple_barrier_signal        RSI  Williams %R  \n",
       "1707                      0  41.569831   -85.936000  \n",
       "1708                      0  37.047322   -87.775458  \n",
       "1709                      0  35.281696   -98.572611  \n",
       "1710                      0  44.848763   -57.793684  \n",
       "1711                      0  49.125760   -36.258904  "
      ]
     },
     "execution_count": 8,
     "metadata": {},
     "output_type": "execute_result"
    },
    {
     "data": {
      "image/png": "[encoded data removed]",
      "text/plain": [
       "<Figure size 640x480 with 1 Axes>"
      ]
     },
     "metadata": {},
     "output_type": "display_data"
    }
   ],
   "source": [
    "df['Williams %R'] = TA.WILLIAMS(ohlcv)\n",
    "print(df['Williams %R'].describe())\n",
    "sns.distplot(df['Williams %R'].dropna())\n",
    "df.tail()"
   ]
  },
  {
   "cell_type": "markdown",
   "metadata": {
    "id": "xK4jb6KTDdGa"
   },
   "source": [
    "# SMA"
   ]
  },
  {
   "cell_type": "code",
   "execution_count": 9,
   "metadata": {
    "colab": {
     "base_uri": "https://localhost:8080/",
     "height": 970
    },
    "id": "osETw-NkfgfL",
    "outputId": "03ea24d7-cade-4672-d993-69affcb908e4"
   },
   "outputs": [
    {
     "name": "stdout",
     "output_type": "stream",
     "text": [
      "count     1672.000000\n",
      "mean      9025.944442\n",
      "std       1082.886528\n",
      "min       7162.940954\n",
      "25%       8156.805432\n",
      "50%       8965.591463\n",
      "75%       9791.132306\n",
      "max      10922.561952\n",
      "Name: SMA, dtype: float64\n"
     ]
    },
    {
     "name": "stderr",
     "output_type": "stream",
     "text": [
      "C:\\Users\\sheng\\anaconda3\\lib\\site-packages\\seaborn\\distributions.py:2619: FutureWarning: `distplot` is a deprecated function and will be removed in a future version. Please adapt your code to use either `displot` (a figure-level function with similar flexibility) or `histplot` (an axes-level function for histograms).\n",
      "  warnings.warn(msg, FutureWarning)\n"
     ]
    },
    {
     "data": {
      "text/html": [
       "<div>\n",
       "<style scoped>\n",
       "    .dataframe tbody tr th:only-of-type {\n",
       "        vertical-align: middle;\n",
       "    }\n",
       "\n",
       "    .dataframe tbody tr th {\n",
       "        vertical-align: top;\n",
       "    }\n",
       "\n",
       "    .dataframe thead th {\n",
       "        text-align: right;\n",
       "    }\n",
       "</style>\n",
       "<table border=\"1\" class=\"dataframe\">\n",
       "  <thead>\n",
       "    <tr style=\"text-align: right;\">\n",
       "      <th></th>\n",
       "      <th>Date</th>\n",
       "      <th>Open</th>\n",
       "      <th>High</th>\n",
       "      <th>Low</th>\n",
       "      <th>Close</th>\n",
       "      <th>Adj Close</th>\n",
       "      <th>Volume</th>\n",
       "      <th>Highest_high</th>\n",
       "      <th>Lowest_Low</th>\n",
       "      <th>Xh_md</th>\n",
       "      <th>triple_barrier_signal</th>\n",
       "      <th>RSI</th>\n",
       "      <th>Williams %R</th>\n",
       "      <th>SMA</th>\n",
       "    </tr>\n",
       "  </thead>\n",
       "  <tbody>\n",
       "    <tr>\n",
       "      <th>1707</th>\n",
       "      <td>2018-12-24</td>\n",
       "      <td>9646.530273</td>\n",
       "      <td>9658.950195</td>\n",
       "      <td>9613.290039</td>\n",
       "      <td>9639.700195</td>\n",
       "      <td>9639.700195</td>\n",
       "      <td>1385100</td>\n",
       "      <td>10137.870117</td>\n",
       "      <td>9639.700195</td>\n",
       "      <td>-1</td>\n",
       "      <td>0</td>\n",
       "      <td>41.569831</td>\n",
       "      <td>-85.936000</td>\n",
       "      <td>9794.703411</td>\n",
       "    </tr>\n",
       "    <tr>\n",
       "      <th>1708</th>\n",
       "      <td>2018-12-25</td>\n",
       "      <td>9559.700195</td>\n",
       "      <td>9559.700195</td>\n",
       "      <td>9479.059570</td>\n",
       "      <td>9527.089844</td>\n",
       "      <td>9527.089844</td>\n",
       "      <td>1458500</td>\n",
       "      <td>10137.870117</td>\n",
       "      <td>9527.089844</td>\n",
       "      <td>-1</td>\n",
       "      <td>0</td>\n",
       "      <td>37.047322</td>\n",
       "      <td>-87.775458</td>\n",
       "      <td>9794.966082</td>\n",
       "    </tr>\n",
       "    <tr>\n",
       "      <th>1709</th>\n",
       "      <td>2018-12-26</td>\n",
       "      <td>9544.870117</td>\n",
       "      <td>9591.910156</td>\n",
       "      <td>9473.299805</td>\n",
       "      <td>9478.990234</td>\n",
       "      <td>9478.990234</td>\n",
       "      <td>1299700</td>\n",
       "      <td>10137.870117</td>\n",
       "      <td>9478.990234</td>\n",
       "      <td>-1</td>\n",
       "      <td>0</td>\n",
       "      <td>35.281696</td>\n",
       "      <td>-98.572611</td>\n",
       "      <td>9793.816811</td>\n",
       "    </tr>\n",
       "    <tr>\n",
       "      <th>1710</th>\n",
       "      <td>2018-12-27</td>\n",
       "      <td>9555.009766</td>\n",
       "      <td>9670.969727</td>\n",
       "      <td>9555.009766</td>\n",
       "      <td>9641.559570</td>\n",
       "      <td>9641.559570</td>\n",
       "      <td>1511100</td>\n",
       "      <td>10137.870117</td>\n",
       "      <td>9478.990234</td>\n",
       "      <td>0</td>\n",
       "      <td>0</td>\n",
       "      <td>44.848763</td>\n",
       "      <td>-57.793684</td>\n",
       "      <td>9789.900462</td>\n",
       "    </tr>\n",
       "    <tr>\n",
       "      <th>1711</th>\n",
       "      <td>2018-12-28</td>\n",
       "      <td>9649.969727</td>\n",
       "      <td>9727.410156</td>\n",
       "      <td>9630.769531</td>\n",
       "      <td>9727.410156</td>\n",
       "      <td>9727.410156</td>\n",
       "      <td>1411300</td>\n",
       "      <td>10137.870117</td>\n",
       "      <td>9478.990234</td>\n",
       "      <td>0</td>\n",
       "      <td>0</td>\n",
       "      <td>49.125760</td>\n",
       "      <td>-36.258904</td>\n",
       "      <td>9787.038753</td>\n",
       "    </tr>\n",
       "  </tbody>\n",
       "</table>\n",
       "</div>"
      ],
      "text/plain": [
       "           Date         Open         High          Low        Close  \\\n",
       "1707 2018-12-24  9646.530273  9658.950195  9613.290039  9639.700195   \n",
       "1708 2018-12-25  9559.700195  9559.700195  9479.059570  9527.089844   \n",
       "1709 2018-12-26  9544.870117  9591.910156  9473.299805  9478.990234   \n",
       "1710 2018-12-27  9555.009766  9670.969727  9555.009766  9641.559570   \n",
       "1711 2018-12-28  9649.969727  9727.410156  9630.769531  9727.410156   \n",
       "\n",
       "        Adj Close   Volume  Highest_high   Lowest_Low  Xh_md  \\\n",
       "1707  9639.700195  1385100  10137.870117  9639.700195     -1   \n",
       "1708  9527.089844  1458500  10137.870117  9527.089844     -1   \n",
       "1709  9478.990234  1299700  10137.870117  9478.990234     -1   \n",
       "1710  9641.559570  1511100  10137.870117  9478.990234      0   \n",
       "1711  9727.410156  1411300  10137.870117  9478.990234      0   \n",
       "\n",
       "      triple_barrier_signal        RSI  Williams %R          SMA  \n",
       "1707                      0  41.569831   -85.936000  9794.703411  \n",
       "1708                      0  37.047322   -87.775458  9794.966082  \n",
       "1709                      0  35.281696   -98.572611  9793.816811  \n",
       "1710                      0  44.848763   -57.793684  9789.900462  \n",
       "1711                      0  49.125760   -36.258904  9787.038753  "
      ]
     },
     "execution_count": 9,
     "metadata": {},
     "output_type": "execute_result"
    },
    {
     "data": {
      "image/png": "[encoded data removed]",
      "text/plain": [
       "<Figure size 640x480 with 1 Axes>"
      ]
     },
     "metadata": {},
     "output_type": "display_data"
    }
   ],
   "source": [
    "df['SMA'] = TA.SMA(ohlcv)\n",
    "print(df['SMA'].describe())\n",
    "sns.distplot(df['SMA'].dropna())\n",
    "df.tail()"
   ]
  },
  {
   "cell_type": "markdown",
   "metadata": {
    "id": "a2Mf0ckEoHC_"
   },
   "source": [
    "# EMA"
   ]
  },
  {
   "cell_type": "code",
   "execution_count": 10,
   "metadata": {
    "colab": {
     "base_uri": "https://localhost:8080/",
     "height": 970
    },
    "id": "EQlFyJLeh4WA",
    "outputId": "507e8757-4d5a-4c03-9e2c-82aaf5dfaedf"
   },
   "outputs": [
    {
     "name": "stderr",
     "output_type": "stream",
     "text": [
      "C:\\Users\\sheng\\anaconda3\\lib\\site-packages\\seaborn\\distributions.py:2619: FutureWarning: `distplot` is a deprecated function and will be removed in a future version. Please adapt your code to use either `displot` (a figure-level function with similar flexibility) or `histplot` (an axes-level function for histograms).\n",
      "  warnings.warn(msg, FutureWarning)\n"
     ]
    },
    {
     "name": "stdout",
     "output_type": "stream",
     "text": [
      "count     1712.000000\n",
      "mean      9010.207914\n",
      "std       1100.190173\n",
      "min       7053.379883\n",
      "25%       8148.529154\n",
      "50%       8959.028619\n",
      "75%       9776.657078\n",
      "max      11134.288080\n",
      "Name: EMA, dtype: float64\n"
     ]
    },
    {
     "data": {
      "text/html": [
       "<div>\n",
       "<style scoped>\n",
       "    .dataframe tbody tr th:only-of-type {\n",
       "        vertical-align: middle;\n",
       "    }\n",
       "\n",
       "    .dataframe tbody tr th {\n",
       "        vertical-align: top;\n",
       "    }\n",
       "\n",
       "    .dataframe thead th {\n",
       "        text-align: right;\n",
       "    }\n",
       "</style>\n",
       "<table border=\"1\" class=\"dataframe\">\n",
       "  <thead>\n",
       "    <tr style=\"text-align: right;\">\n",
       "      <th></th>\n",
       "      <th>Date</th>\n",
       "      <th>Open</th>\n",
       "      <th>High</th>\n",
       "      <th>Low</th>\n",
       "      <th>Close</th>\n",
       "      <th>Adj Close</th>\n",
       "      <th>Volume</th>\n",
       "      <th>Highest_high</th>\n",
       "      <th>Lowest_Low</th>\n",
       "      <th>Xh_md</th>\n",
       "      <th>triple_barrier_signal</th>\n",
       "      <th>RSI</th>\n",
       "      <th>Williams %R</th>\n",
       "      <th>SMA</th>\n",
       "      <th>EMA</th>\n",
       "    </tr>\n",
       "  </thead>\n",
       "  <tbody>\n",
       "    <tr>\n",
       "      <th>1707</th>\n",
       "      <td>2018-12-24</td>\n",
       "      <td>9646.530273</td>\n",
       "      <td>9658.950195</td>\n",
       "      <td>9613.290039</td>\n",
       "      <td>9639.700195</td>\n",
       "      <td>9639.700195</td>\n",
       "      <td>1385100</td>\n",
       "      <td>10137.870117</td>\n",
       "      <td>9639.700195</td>\n",
       "      <td>-1</td>\n",
       "      <td>0</td>\n",
       "      <td>41.569831</td>\n",
       "      <td>-85.936000</td>\n",
       "      <td>9794.703411</td>\n",
       "      <td>9723.374540</td>\n",
       "    </tr>\n",
       "    <tr>\n",
       "      <th>1708</th>\n",
       "      <td>2018-12-25</td>\n",
       "      <td>9559.700195</td>\n",
       "      <td>9559.700195</td>\n",
       "      <td>9479.059570</td>\n",
       "      <td>9527.089844</td>\n",
       "      <td>9527.089844</td>\n",
       "      <td>1458500</td>\n",
       "      <td>10137.870117</td>\n",
       "      <td>9527.089844</td>\n",
       "      <td>-1</td>\n",
       "      <td>0</td>\n",
       "      <td>37.047322</td>\n",
       "      <td>-87.775458</td>\n",
       "      <td>9794.966082</td>\n",
       "      <td>9684.117601</td>\n",
       "    </tr>\n",
       "    <tr>\n",
       "      <th>1709</th>\n",
       "      <td>2018-12-26</td>\n",
       "      <td>9544.870117</td>\n",
       "      <td>9591.910156</td>\n",
       "      <td>9473.299805</td>\n",
       "      <td>9478.990234</td>\n",
       "      <td>9478.990234</td>\n",
       "      <td>1299700</td>\n",
       "      <td>10137.870117</td>\n",
       "      <td>9478.990234</td>\n",
       "      <td>-1</td>\n",
       "      <td>0</td>\n",
       "      <td>35.281696</td>\n",
       "      <td>-98.572611</td>\n",
       "      <td>9793.816811</td>\n",
       "      <td>9643.092128</td>\n",
       "    </tr>\n",
       "    <tr>\n",
       "      <th>1710</th>\n",
       "      <td>2018-12-27</td>\n",
       "      <td>9555.009766</td>\n",
       "      <td>9670.969727</td>\n",
       "      <td>9555.009766</td>\n",
       "      <td>9641.559570</td>\n",
       "      <td>9641.559570</td>\n",
       "      <td>1511100</td>\n",
       "      <td>10137.870117</td>\n",
       "      <td>9478.990234</td>\n",
       "      <td>0</td>\n",
       "      <td>0</td>\n",
       "      <td>44.848763</td>\n",
       "      <td>-57.793684</td>\n",
       "      <td>9789.900462</td>\n",
       "      <td>9642.785616</td>\n",
       "    </tr>\n",
       "    <tr>\n",
       "      <th>1711</th>\n",
       "      <td>2018-12-28</td>\n",
       "      <td>9649.969727</td>\n",
       "      <td>9727.410156</td>\n",
       "      <td>9630.769531</td>\n",
       "      <td>9727.410156</td>\n",
       "      <td>9727.410156</td>\n",
       "      <td>1411300</td>\n",
       "      <td>10137.870117</td>\n",
       "      <td>9478.990234</td>\n",
       "      <td>0</td>\n",
       "      <td>0</td>\n",
       "      <td>49.125760</td>\n",
       "      <td>-36.258904</td>\n",
       "      <td>9787.038753</td>\n",
       "      <td>9659.710524</td>\n",
       "    </tr>\n",
       "  </tbody>\n",
       "</table>\n",
       "</div>"
      ],
      "text/plain": [
       "           Date         Open         High          Low        Close  \\\n",
       "1707 2018-12-24  9646.530273  9658.950195  9613.290039  9639.700195   \n",
       "1708 2018-12-25  9559.700195  9559.700195  9479.059570  9527.089844   \n",
       "1709 2018-12-26  9544.870117  9591.910156  9473.299805  9478.990234   \n",
       "1710 2018-12-27  9555.009766  9670.969727  9555.009766  9641.559570   \n",
       "1711 2018-12-28  9649.969727  9727.410156  9630.769531  9727.410156   \n",
       "\n",
       "        Adj Close   Volume  Highest_high   Lowest_Low  Xh_md  \\\n",
       "1707  9639.700195  1385100  10137.870117  9639.700195     -1   \n",
       "1708  9527.089844  1458500  10137.870117  9527.089844     -1   \n",
       "1709  9478.990234  1299700  10137.870117  9478.990234     -1   \n",
       "1710  9641.559570  1511100  10137.870117  9478.990234      0   \n",
       "1711  9727.410156  1411300  10137.870117  9478.990234      0   \n",
       "\n",
       "      triple_barrier_signal        RSI  Williams %R          SMA          EMA  \n",
       "1707                      0  41.569831   -85.936000  9794.703411  9723.374540  \n",
       "1708                      0  37.047322   -87.775458  9794.966082  9684.117601  \n",
       "1709                      0  35.281696   -98.572611  9793.816811  9643.092128  \n",
       "1710                      0  44.848763   -57.793684  9789.900462  9642.785616  \n",
       "1711                      0  49.125760   -36.258904  9787.038753  9659.710524  "
      ]
     },
     "execution_count": 10,
     "metadata": {},
     "output_type": "execute_result"
    },
    {
     "data": {
      "image/png": "[encoded data removed]",
      "text/plain": [
       "<Figure size 640x480 with 1 Axes>"
      ]
     },
     "metadata": {},
     "output_type": "display_data"
    }
   ],
   "source": [
    "df['EMA'] = TA.EMA(ohlcv)\n",
    "print(df['EMA'].describe())\n",
    "sns.distplot(df['EMA'])\n",
    "df.tail()"
   ]
  },
  {
   "cell_type": "markdown",
   "metadata": {
    "id": "wqkaWfQryV3W"
   },
   "source": [
    "# WMA"
   ]
  },
  {
   "cell_type": "code",
   "execution_count": 11,
   "metadata": {
    "colab": {
     "base_uri": "https://localhost:8080/",
     "height": 1000
    },
    "id": "9Dw9scCSieLI",
    "outputId": "33032c1e-e1cb-4720-ea48-7cdfcd31ed71"
   },
   "outputs": [
    {
     "name": "stdout",
     "output_type": "stream",
     "text": [
      "count     1704.000000\n",
      "mean      9021.141123\n",
      "std       1096.316742\n",
      "min       7037.976638\n",
      "25%       8167.815717\n",
      "50%       8979.828885\n",
      "75%       9769.317334\n",
      "max      11178.657248\n",
      "Name: WMA, dtype: float64\n"
     ]
    },
    {
     "name": "stderr",
     "output_type": "stream",
     "text": [
      "C:\\Users\\sheng\\anaconda3\\lib\\site-packages\\seaborn\\distributions.py:2619: FutureWarning: `distplot` is a deprecated function and will be removed in a future version. Please adapt your code to use either `displot` (a figure-level function with similar flexibility) or `histplot` (an axes-level function for histograms).\n",
      "  warnings.warn(msg, FutureWarning)\n"
     ]
    },
    {
     "data": {
      "text/html": [
       "<div>\n",
       "<style scoped>\n",
       "    .dataframe tbody tr th:only-of-type {\n",
       "        vertical-align: middle;\n",
       "    }\n",
       "\n",
       "    .dataframe tbody tr th {\n",
       "        vertical-align: top;\n",
       "    }\n",
       "\n",
       "    .dataframe thead th {\n",
       "        text-align: right;\n",
       "    }\n",
       "</style>\n",
       "<table border=\"1\" class=\"dataframe\">\n",
       "  <thead>\n",
       "    <tr style=\"text-align: right;\">\n",
       "      <th></th>\n",
       "      <th>Date</th>\n",
       "      <th>Open</th>\n",
       "      <th>High</th>\n",
       "      <th>Low</th>\n",
       "      <th>Close</th>\n",
       "      <th>Adj Close</th>\n",
       "      <th>Volume</th>\n",
       "      <th>Highest_high</th>\n",
       "      <th>Lowest_Low</th>\n",
       "      <th>Xh_md</th>\n",
       "      <th>triple_barrier_signal</th>\n",
       "      <th>RSI</th>\n",
       "      <th>Williams %R</th>\n",
       "      <th>SMA</th>\n",
       "      <th>EMA</th>\n",
       "      <th>WMA</th>\n",
       "    </tr>\n",
       "  </thead>\n",
       "  <tbody>\n",
       "    <tr>\n",
       "      <th>1707</th>\n",
       "      <td>2018-12-24</td>\n",
       "      <td>9646.530273</td>\n",
       "      <td>9658.950195</td>\n",
       "      <td>9613.290039</td>\n",
       "      <td>9639.700195</td>\n",
       "      <td>9639.700195</td>\n",
       "      <td>1385100</td>\n",
       "      <td>10137.870117</td>\n",
       "      <td>9639.700195</td>\n",
       "      <td>-1</td>\n",
       "      <td>0</td>\n",
       "      <td>41.569831</td>\n",
       "      <td>-85.936000</td>\n",
       "      <td>9794.703411</td>\n",
       "      <td>9723.374540</td>\n",
       "      <td>9715.382899</td>\n",
       "    </tr>\n",
       "    <tr>\n",
       "      <th>1708</th>\n",
       "      <td>2018-12-25</td>\n",
       "      <td>9559.700195</td>\n",
       "      <td>9559.700195</td>\n",
       "      <td>9479.059570</td>\n",
       "      <td>9527.089844</td>\n",
       "      <td>9527.089844</td>\n",
       "      <td>1458500</td>\n",
       "      <td>10137.870117</td>\n",
       "      <td>9527.089844</td>\n",
       "      <td>-1</td>\n",
       "      <td>0</td>\n",
       "      <td>37.047322</td>\n",
       "      <td>-87.775458</td>\n",
       "      <td>9794.966082</td>\n",
       "      <td>9684.117601</td>\n",
       "      <td>9671.249306</td>\n",
       "    </tr>\n",
       "    <tr>\n",
       "      <th>1709</th>\n",
       "      <td>2018-12-26</td>\n",
       "      <td>9544.870117</td>\n",
       "      <td>9591.910156</td>\n",
       "      <td>9473.299805</td>\n",
       "      <td>9478.990234</td>\n",
       "      <td>9478.990234</td>\n",
       "      <td>1299700</td>\n",
       "      <td>10137.870117</td>\n",
       "      <td>9478.990234</td>\n",
       "      <td>-1</td>\n",
       "      <td>0</td>\n",
       "      <td>35.281696</td>\n",
       "      <td>-98.572611</td>\n",
       "      <td>9793.816811</td>\n",
       "      <td>9643.092128</td>\n",
       "      <td>9623.926020</td>\n",
       "    </tr>\n",
       "    <tr>\n",
       "      <th>1710</th>\n",
       "      <td>2018-12-27</td>\n",
       "      <td>9555.009766</td>\n",
       "      <td>9670.969727</td>\n",
       "      <td>9555.009766</td>\n",
       "      <td>9641.559570</td>\n",
       "      <td>9641.559570</td>\n",
       "      <td>1511100</td>\n",
       "      <td>10137.870117</td>\n",
       "      <td>9478.990234</td>\n",
       "      <td>0</td>\n",
       "      <td>0</td>\n",
       "      <td>44.848763</td>\n",
       "      <td>-57.793684</td>\n",
       "      <td>9789.900462</td>\n",
       "      <td>9642.785616</td>\n",
       "      <td>9617.555924</td>\n",
       "    </tr>\n",
       "    <tr>\n",
       "      <th>1711</th>\n",
       "      <td>2018-12-28</td>\n",
       "      <td>9649.969727</td>\n",
       "      <td>9727.410156</td>\n",
       "      <td>9630.769531</td>\n",
       "      <td>9727.410156</td>\n",
       "      <td>9727.410156</td>\n",
       "      <td>1411300</td>\n",
       "      <td>10137.870117</td>\n",
       "      <td>9478.990234</td>\n",
       "      <td>0</td>\n",
       "      <td>0</td>\n",
       "      <td>49.125760</td>\n",
       "      <td>-36.258904</td>\n",
       "      <td>9787.038753</td>\n",
       "      <td>9659.710524</td>\n",
       "      <td>9631.302626</td>\n",
       "    </tr>\n",
       "  </tbody>\n",
       "</table>\n",
       "</div>"
      ],
      "text/plain": [
       "           Date         Open         High          Low        Close  \\\n",
       "1707 2018-12-24  9646.530273  9658.950195  9613.290039  9639.700195   \n",
       "1708 2018-12-25  9559.700195  9559.700195  9479.059570  9527.089844   \n",
       "1709 2018-12-26  9544.870117  9591.910156  9473.299805  9478.990234   \n",
       "1710 2018-12-27  9555.009766  9670.969727  9555.009766  9641.559570   \n",
       "1711 2018-12-28  9649.969727  9727.410156  9630.769531  9727.410156   \n",
       "\n",
       "        Adj Close   Volume  Highest_high   Lowest_Low  Xh_md  \\\n",
       "1707  9639.700195  1385100  10137.870117  9639.700195     -1   \n",
       "1708  9527.089844  1458500  10137.870117  9527.089844     -1   \n",
       "1709  9478.990234  1299700  10137.870117  9478.990234     -1   \n",
       "1710  9641.559570  1511100  10137.870117  9478.990234      0   \n",
       "1711  9727.410156  1411300  10137.870117  9478.990234      0   \n",
       "\n",
       "      triple_barrier_signal        RSI  Williams %R          SMA          EMA  \\\n",
       "1707                      0  41.569831   -85.936000  9794.703411  9723.374540   \n",
       "1708                      0  37.047322   -87.775458  9794.966082  9684.117601   \n",
       "1709                      0  35.281696   -98.572611  9793.816811  9643.092128   \n",
       "1710                      0  44.848763   -57.793684  9789.900462  9642.785616   \n",
       "1711                      0  49.125760   -36.258904  9787.038753  9659.710524   \n",
       "\n",
       "              WMA  \n",
       "1707  9715.382899  \n",
       "1708  9671.249306  \n",
       "1709  9623.926020  \n",
       "1710  9617.555924  \n",
       "1711  9631.302626  "
      ]
     },
     "execution_count": 11,
     "metadata": {},
     "output_type": "execute_result"
    },
    {
     "data": {
      "image/png": "[encoded data removed]",
      "text/plain": [
       "<Figure size 640x480 with 1 Axes>"
      ]
     },
     "metadata": {},
     "output_type": "display_data"
    }
   ],
   "source": [
    "df['WMA'] = TA.WMA(ohlcv)\n",
    "print(df['WMA'].describe())\n",
    "sns.distplot(df['WMA'].dropna())\n",
    "df.tail()"
   ]
  },
  {
   "cell_type": "markdown",
   "metadata": {
    "id": "HNC131ghyrF1"
   },
   "source": [
    "# HMA"
   ]
  },
  {
   "cell_type": "code",
   "execution_count": 12,
   "metadata": {
    "colab": {
     "base_uri": "https://localhost:8080/",
     "height": 1000
    },
    "id": "b02O6Yevi6mN",
    "outputId": "6fb6fe13-ce26-4e88-b892-09b3917bccee"
   },
   "outputs": [
    {
     "name": "stdout",
     "output_type": "stream",
     "text": [
      "count     1694.000000\n",
      "mean      9034.188459\n",
      "std       1095.608223\n",
      "min       7000.170581\n",
      "25%       8170.328705\n",
      "50%       8970.948192\n",
      "75%       9764.215682\n",
      "max      11251.757134\n",
      "Name: HMA, dtype: float64\n"
     ]
    },
    {
     "name": "stderr",
     "output_type": "stream",
     "text": [
      "C:\\Users\\sheng\\anaconda3\\lib\\site-packages\\seaborn\\distributions.py:2619: FutureWarning: `distplot` is a deprecated function and will be removed in a future version. Please adapt your code to use either `displot` (a figure-level function with similar flexibility) or `histplot` (an axes-level function for histograms).\n",
      "  warnings.warn(msg, FutureWarning)\n"
     ]
    },
    {
     "data": {
      "text/html": [
       "<div>\n",
       "<style scoped>\n",
       "    .dataframe tbody tr th:only-of-type {\n",
       "        vertical-align: middle;\n",
       "    }\n",
       "\n",
       "    .dataframe tbody tr th {\n",
       "        vertical-align: top;\n",
       "    }\n",
       "\n",
       "    .dataframe thead th {\n",
       "        text-align: right;\n",
       "    }\n",
       "</style>\n",
       "<table border=\"1\" class=\"dataframe\">\n",
       "  <thead>\n",
       "    <tr style=\"text-align: right;\">\n",
       "      <th></th>\n",
       "      <th>Date</th>\n",
       "      <th>Open</th>\n",
       "      <th>High</th>\n",
       "      <th>Low</th>\n",
       "      <th>Close</th>\n",
       "      <th>Adj Close</th>\n",
       "      <th>Volume</th>\n",
       "      <th>Highest_high</th>\n",
       "      <th>Lowest_Low</th>\n",
       "      <th>Xh_md</th>\n",
       "      <th>triple_barrier_signal</th>\n",
       "      <th>RSI</th>\n",
       "      <th>Williams %R</th>\n",
       "      <th>SMA</th>\n",
       "      <th>EMA</th>\n",
       "      <th>WMA</th>\n",
       "      <th>HMA</th>\n",
       "    </tr>\n",
       "  </thead>\n",
       "  <tbody>\n",
       "    <tr>\n",
       "      <th>1707</th>\n",
       "      <td>2018-12-24</td>\n",
       "      <td>9646.530273</td>\n",
       "      <td>9658.950195</td>\n",
       "      <td>9613.290039</td>\n",
       "      <td>9639.700195</td>\n",
       "      <td>9639.700195</td>\n",
       "      <td>1385100</td>\n",
       "      <td>10137.870117</td>\n",
       "      <td>9639.700195</td>\n",
       "      <td>-1</td>\n",
       "      <td>0</td>\n",
       "      <td>41.569831</td>\n",
       "      <td>-85.936000</td>\n",
       "      <td>9794.703411</td>\n",
       "      <td>9723.374540</td>\n",
       "      <td>9715.382899</td>\n",
       "      <td>9703.195706</td>\n",
       "    </tr>\n",
       "    <tr>\n",
       "      <th>1708</th>\n",
       "      <td>2018-12-25</td>\n",
       "      <td>9559.700195</td>\n",
       "      <td>9559.700195</td>\n",
       "      <td>9479.059570</td>\n",
       "      <td>9527.089844</td>\n",
       "      <td>9527.089844</td>\n",
       "      <td>1458500</td>\n",
       "      <td>10137.870117</td>\n",
       "      <td>9527.089844</td>\n",
       "      <td>-1</td>\n",
       "      <td>0</td>\n",
       "      <td>37.047322</td>\n",
       "      <td>-87.775458</td>\n",
       "      <td>9794.966082</td>\n",
       "      <td>9684.117601</td>\n",
       "      <td>9671.249306</td>\n",
       "      <td>9661.171790</td>\n",
       "    </tr>\n",
       "    <tr>\n",
       "      <th>1709</th>\n",
       "      <td>2018-12-26</td>\n",
       "      <td>9544.870117</td>\n",
       "      <td>9591.910156</td>\n",
       "      <td>9473.299805</td>\n",
       "      <td>9478.990234</td>\n",
       "      <td>9478.990234</td>\n",
       "      <td>1299700</td>\n",
       "      <td>10137.870117</td>\n",
       "      <td>9478.990234</td>\n",
       "      <td>-1</td>\n",
       "      <td>0</td>\n",
       "      <td>35.281696</td>\n",
       "      <td>-98.572611</td>\n",
       "      <td>9793.816811</td>\n",
       "      <td>9643.092128</td>\n",
       "      <td>9623.926020</td>\n",
       "      <td>9607.172546</td>\n",
       "    </tr>\n",
       "    <tr>\n",
       "      <th>1710</th>\n",
       "      <td>2018-12-27</td>\n",
       "      <td>9555.009766</td>\n",
       "      <td>9670.969727</td>\n",
       "      <td>9555.009766</td>\n",
       "      <td>9641.559570</td>\n",
       "      <td>9641.559570</td>\n",
       "      <td>1511100</td>\n",
       "      <td>10137.870117</td>\n",
       "      <td>9478.990234</td>\n",
       "      <td>0</td>\n",
       "      <td>0</td>\n",
       "      <td>44.848763</td>\n",
       "      <td>-57.793684</td>\n",
       "      <td>9789.900462</td>\n",
       "      <td>9642.785616</td>\n",
       "      <td>9617.555924</td>\n",
       "      <td>9571.715971</td>\n",
       "    </tr>\n",
       "    <tr>\n",
       "      <th>1711</th>\n",
       "      <td>2018-12-28</td>\n",
       "      <td>9649.969727</td>\n",
       "      <td>9727.410156</td>\n",
       "      <td>9630.769531</td>\n",
       "      <td>9727.410156</td>\n",
       "      <td>9727.410156</td>\n",
       "      <td>1411300</td>\n",
       "      <td>10137.870117</td>\n",
       "      <td>9478.990234</td>\n",
       "      <td>0</td>\n",
       "      <td>0</td>\n",
       "      <td>49.125760</td>\n",
       "      <td>-36.258904</td>\n",
       "      <td>9787.038753</td>\n",
       "      <td>9659.710524</td>\n",
       "      <td>9631.302626</td>\n",
       "      <td>9566.202759</td>\n",
       "    </tr>\n",
       "  </tbody>\n",
       "</table>\n",
       "</div>"
      ],
      "text/plain": [
       "           Date         Open         High          Low        Close  \\\n",
       "1707 2018-12-24  9646.530273  9658.950195  9613.290039  9639.700195   \n",
       "1708 2018-12-25  9559.700195  9559.700195  9479.059570  9527.089844   \n",
       "1709 2018-12-26  9544.870117  9591.910156  9473.299805  9478.990234   \n",
       "1710 2018-12-27  9555.009766  9670.969727  9555.009766  9641.559570   \n",
       "1711 2018-12-28  9649.969727  9727.410156  9630.769531  9727.410156   \n",
       "\n",
       "        Adj Close   Volume  Highest_high   Lowest_Low  Xh_md  \\\n",
       "1707  9639.700195  1385100  10137.870117  9639.700195     -1   \n",
       "1708  9527.089844  1458500  10137.870117  9527.089844     -1   \n",
       "1709  9478.990234  1299700  10137.870117  9478.990234     -1   \n",
       "1710  9641.559570  1511100  10137.870117  9478.990234      0   \n",
       "1711  9727.410156  1411300  10137.870117  9478.990234      0   \n",
       "\n",
       "      triple_barrier_signal        RSI  Williams %R          SMA          EMA  \\\n",
       "1707                      0  41.569831   -85.936000  9794.703411  9723.374540   \n",
       "1708                      0  37.047322   -87.775458  9794.966082  9684.117601   \n",
       "1709                      0  35.281696   -98.572611  9793.816811  9643.092128   \n",
       "1710                      0  44.848763   -57.793684  9789.900462  9642.785616   \n",
       "1711                      0  49.125760   -36.258904  9787.038753  9659.710524   \n",
       "\n",
       "              WMA          HMA  \n",
       "1707  9715.382899  9703.195706  \n",
       "1708  9671.249306  9661.171790  \n",
       "1709  9623.926020  9607.172546  \n",
       "1710  9617.555924  9571.715971  \n",
       "1711  9631.302626  9566.202759  "
      ]
     },
     "execution_count": 12,
     "metadata": {},
     "output_type": "execute_result"
    },
    {
     "data": {
      "image/png": "[encoded data removed]",
      "text/plain": [
       "<Figure size 640x480 with 1 Axes>"
      ]
     },
     "metadata": {},
     "output_type": "display_data"
    }
   ],
   "source": [
    "df['HMA'] = TA.HMA(ohlcv)\n",
    "print(df['HMA'].describe())\n",
    "sns.distplot(df['HMA'].dropna())\n",
    "df.tail()"
   ]
  },
  {
   "cell_type": "markdown",
   "metadata": {
    "id": "ch7SZ7aFjCit"
   },
   "source": [
    "# TEMA"
   ]
  },
  {
   "cell_type": "code",
   "execution_count": 13,
   "metadata": {
    "colab": {
     "base_uri": "https://localhost:8080/",
     "height": 1000
    },
    "id": "GeS0aHxZjFtA",
    "outputId": "ed7c0b00-863e-4128-b14b-f4899e46fa6f"
   },
   "outputs": [
    {
     "name": "stdout",
     "output_type": "stream",
     "text": [
      "count     1712.000000\n",
      "mean      9016.142062\n",
      "std       1103.394927\n",
      "min       6962.244351\n",
      "25%       8142.627645\n",
      "50%       8969.649533\n",
      "75%       9775.375814\n",
      "max      11249.877643\n",
      "Name: TEMA, dtype: float64\n"
     ]
    },
    {
     "name": "stderr",
     "output_type": "stream",
     "text": [
      "C:\\Users\\sheng\\anaconda3\\lib\\site-packages\\seaborn\\distributions.py:2619: FutureWarning: `distplot` is a deprecated function and will be removed in a future version. Please adapt your code to use either `displot` (a figure-level function with similar flexibility) or `histplot` (an axes-level function for histograms).\n",
      "  warnings.warn(msg, FutureWarning)\n"
     ]
    },
    {
     "data": {
      "text/html": [
       "<div>\n",
       "<style scoped>\n",
       "    .dataframe tbody tr th:only-of-type {\n",
       "        vertical-align: middle;\n",
       "    }\n",
       "\n",
       "    .dataframe tbody tr th {\n",
       "        vertical-align: top;\n",
       "    }\n",
       "\n",
       "    .dataframe thead th {\n",
       "        text-align: right;\n",
       "    }\n",
       "</style>\n",
       "<table border=\"1\" class=\"dataframe\">\n",
       "  <thead>\n",
       "    <tr style=\"text-align: right;\">\n",
       "      <th></th>\n",
       "      <th>Date</th>\n",
       "      <th>Open</th>\n",
       "      <th>High</th>\n",
       "      <th>Low</th>\n",
       "      <th>Close</th>\n",
       "      <th>Adj Close</th>\n",
       "      <th>Volume</th>\n",
       "      <th>Highest_high</th>\n",
       "      <th>Lowest_Low</th>\n",
       "      <th>Xh_md</th>\n",
       "      <th>triple_barrier_signal</th>\n",
       "      <th>RSI</th>\n",
       "      <th>Williams %R</th>\n",
       "      <th>SMA</th>\n",
       "      <th>EMA</th>\n",
       "      <th>WMA</th>\n",
       "      <th>HMA</th>\n",
       "      <th>TEMA</th>\n",
       "    </tr>\n",
       "  </thead>\n",
       "  <tbody>\n",
       "    <tr>\n",
       "      <th>1707</th>\n",
       "      <td>2018-12-24</td>\n",
       "      <td>9646.530273</td>\n",
       "      <td>9658.950195</td>\n",
       "      <td>9613.290039</td>\n",
       "      <td>9639.700195</td>\n",
       "      <td>9639.700195</td>\n",
       "      <td>1385100</td>\n",
       "      <td>10137.870117</td>\n",
       "      <td>9639.700195</td>\n",
       "      <td>-1</td>\n",
       "      <td>0</td>\n",
       "      <td>41.569831</td>\n",
       "      <td>-85.936000</td>\n",
       "      <td>9794.703411</td>\n",
       "      <td>9723.374540</td>\n",
       "      <td>9715.382899</td>\n",
       "      <td>9703.195706</td>\n",
       "      <td>9653.420898</td>\n",
       "    </tr>\n",
       "    <tr>\n",
       "      <th>1708</th>\n",
       "      <td>2018-12-25</td>\n",
       "      <td>9559.700195</td>\n",
       "      <td>9559.700195</td>\n",
       "      <td>9479.059570</td>\n",
       "      <td>9527.089844</td>\n",
       "      <td>9527.089844</td>\n",
       "      <td>1458500</td>\n",
       "      <td>10137.870117</td>\n",
       "      <td>9527.089844</td>\n",
       "      <td>-1</td>\n",
       "      <td>0</td>\n",
       "      <td>37.047322</td>\n",
       "      <td>-87.775458</td>\n",
       "      <td>9794.966082</td>\n",
       "      <td>9684.117601</td>\n",
       "      <td>9671.249306</td>\n",
       "      <td>9661.171790</td>\n",
       "      <td>9579.518917</td>\n",
       "    </tr>\n",
       "    <tr>\n",
       "      <th>1709</th>\n",
       "      <td>2018-12-26</td>\n",
       "      <td>9544.870117</td>\n",
       "      <td>9591.910156</td>\n",
       "      <td>9473.299805</td>\n",
       "      <td>9478.990234</td>\n",
       "      <td>9478.990234</td>\n",
       "      <td>1299700</td>\n",
       "      <td>10137.870117</td>\n",
       "      <td>9478.990234</td>\n",
       "      <td>-1</td>\n",
       "      <td>0</td>\n",
       "      <td>35.281696</td>\n",
       "      <td>-98.572611</td>\n",
       "      <td>9793.816811</td>\n",
       "      <td>9643.092128</td>\n",
       "      <td>9623.926020</td>\n",
       "      <td>9607.172546</td>\n",
       "      <td>9511.676764</td>\n",
       "    </tr>\n",
       "    <tr>\n",
       "      <th>1710</th>\n",
       "      <td>2018-12-27</td>\n",
       "      <td>9555.009766</td>\n",
       "      <td>9670.969727</td>\n",
       "      <td>9555.009766</td>\n",
       "      <td>9641.559570</td>\n",
       "      <td>9641.559570</td>\n",
       "      <td>1511100</td>\n",
       "      <td>10137.870117</td>\n",
       "      <td>9478.990234</td>\n",
       "      <td>0</td>\n",
       "      <td>0</td>\n",
       "      <td>44.848763</td>\n",
       "      <td>-57.793684</td>\n",
       "      <td>9789.900462</td>\n",
       "      <td>9642.785616</td>\n",
       "      <td>9617.555924</td>\n",
       "      <td>9571.715971</td>\n",
       "      <td>9551.535422</td>\n",
       "    </tr>\n",
       "    <tr>\n",
       "      <th>1711</th>\n",
       "      <td>2018-12-28</td>\n",
       "      <td>9649.969727</td>\n",
       "      <td>9727.410156</td>\n",
       "      <td>9630.769531</td>\n",
       "      <td>9727.410156</td>\n",
       "      <td>9727.410156</td>\n",
       "      <td>1411300</td>\n",
       "      <td>10137.870117</td>\n",
       "      <td>9478.990234</td>\n",
       "      <td>0</td>\n",
       "      <td>0</td>\n",
       "      <td>49.125760</td>\n",
       "      <td>-36.258904</td>\n",
       "      <td>9787.038753</td>\n",
       "      <td>9659.710524</td>\n",
       "      <td>9631.302626</td>\n",
       "      <td>9566.202759</td>\n",
       "      <td>9622.580249</td>\n",
       "    </tr>\n",
       "  </tbody>\n",
       "</table>\n",
       "</div>"
      ],
      "text/plain": [
       "           Date         Open         High          Low        Close  \\\n",
       "1707 2018-12-24  9646.530273  9658.950195  9613.290039  9639.700195   \n",
       "1708 2018-12-25  9559.700195  9559.700195  9479.059570  9527.089844   \n",
       "1709 2018-12-26  9544.870117  9591.910156  9473.299805  9478.990234   \n",
       "1710 2018-12-27  9555.009766  9670.969727  9555.009766  9641.559570   \n",
       "1711 2018-12-28  9649.969727  9727.410156  9630.769531  9727.410156   \n",
       "\n",
       "        Adj Close   Volume  Highest_high   Lowest_Low  Xh_md  \\\n",
       "1707  9639.700195  1385100  10137.870117  9639.700195     -1   \n",
       "1708  9527.089844  1458500  10137.870117  9527.089844     -1   \n",
       "1709  9478.990234  1299700  10137.870117  9478.990234     -1   \n",
       "1710  9641.559570  1511100  10137.870117  9478.990234      0   \n",
       "1711  9727.410156  1411300  10137.870117  9478.990234      0   \n",
       "\n",
       "      triple_barrier_signal        RSI  Williams %R          SMA          EMA  \\\n",
       "1707                      0  41.569831   -85.936000  9794.703411  9723.374540   \n",
       "1708                      0  37.047322   -87.775458  9794.966082  9684.117601   \n",
       "1709                      0  35.281696   -98.572611  9793.816811  9643.092128   \n",
       "1710                      0  44.848763   -57.793684  9789.900462  9642.785616   \n",
       "1711                      0  49.125760   -36.258904  9787.038753  9659.710524   \n",
       "\n",
       "              WMA          HMA         TEMA  \n",
       "1707  9715.382899  9703.195706  9653.420898  \n",
       "1708  9671.249306  9661.171790  9579.518917  \n",
       "1709  9623.926020  9607.172546  9511.676764  \n",
       "1710  9617.555924  9571.715971  9551.535422  \n",
       "1711  9631.302626  9566.202759  9622.580249  "
      ]
     },
     "execution_count": 13,
     "metadata": {},
     "output_type": "execute_result"
    },
    {
     "data": {
      "image/png": "[encoded data removed]",
      "text/plain": [
       "<Figure size 640x480 with 1 Axes>"
      ]
     },
     "metadata": {},
     "output_type": "display_data"
    }
   ],
   "source": [
    "df['TEMA'] = TA.TEMA(ohlcv)\n",
    "print(df['TEMA'].describe())\n",
    "sns.distplot(df['TEMA'].dropna())\n",
    "df.tail()"
   ]
  },
  {
   "cell_type": "markdown",
   "metadata": {
    "id": "EbMrqw5jjZaa"
   },
   "source": [
    "# CCI"
   ]
  },
  {
   "cell_type": "code",
   "execution_count": 14,
   "metadata": {
    "colab": {
     "base_uri": "https://localhost:8080/",
     "height": 1000
    },
    "id": "WBfeDdkUjZiP",
    "outputId": "1ba6d862-246a-4f38-c7df-d2fa5c852220"
   },
   "outputs": [
    {
     "name": "stdout",
     "output_type": "stream",
     "text": [
      "count    1711.000000\n",
      "mean       15.473862\n",
      "std       111.591899\n",
      "min      -367.416775\n",
      "25%       -70.571556\n",
      "50%        32.191663\n",
      "75%       101.474810\n",
      "max       347.439300\n",
      "Name: CCI, dtype: float64\n"
     ]
    },
    {
     "name": "stderr",
     "output_type": "stream",
     "text": [
      "C:\\Users\\sheng\\anaconda3\\lib\\site-packages\\seaborn\\distributions.py:2619: FutureWarning: `distplot` is a deprecated function and will be removed in a future version. Please adapt your code to use either `displot` (a figure-level function with similar flexibility) or `histplot` (an axes-level function for histograms).\n",
      "  warnings.warn(msg, FutureWarning)\n"
     ]
    },
    {
     "data": {
      "text/html": [
       "<div>\n",
       "<style scoped>\n",
       "    .dataframe tbody tr th:only-of-type {\n",
       "        vertical-align: middle;\n",
       "    }\n",
       "\n",
       "    .dataframe tbody tr th {\n",
       "        vertical-align: top;\n",
       "    }\n",
       "\n",
       "    .dataframe thead th {\n",
       "        text-align: right;\n",
       "    }\n",
       "</style>\n",
       "<table border=\"1\" class=\"dataframe\">\n",
       "  <thead>\n",
       "    <tr style=\"text-align: right;\">\n",
       "      <th></th>\n",
       "      <th>Date</th>\n",
       "      <th>Open</th>\n",
       "      <th>High</th>\n",
       "      <th>Low</th>\n",
       "      <th>Close</th>\n",
       "      <th>Adj Close</th>\n",
       "      <th>Volume</th>\n",
       "      <th>Highest_high</th>\n",
       "      <th>Lowest_Low</th>\n",
       "      <th>Xh_md</th>\n",
       "      <th>triple_barrier_signal</th>\n",
       "      <th>RSI</th>\n",
       "      <th>Williams %R</th>\n",
       "      <th>SMA</th>\n",
       "      <th>EMA</th>\n",
       "      <th>WMA</th>\n",
       "      <th>HMA</th>\n",
       "      <th>TEMA</th>\n",
       "      <th>CCI</th>\n",
       "    </tr>\n",
       "  </thead>\n",
       "  <tbody>\n",
       "    <tr>\n",
       "      <th>1707</th>\n",
       "      <td>2018-12-24</td>\n",
       "      <td>9646.530273</td>\n",
       "      <td>9658.950195</td>\n",
       "      <td>9613.290039</td>\n",
       "      <td>9639.700195</td>\n",
       "      <td>9639.700195</td>\n",
       "      <td>1385100</td>\n",
       "      <td>10137.870117</td>\n",
       "      <td>9639.700195</td>\n",
       "      <td>-1</td>\n",
       "      <td>0</td>\n",
       "      <td>41.569831</td>\n",
       "      <td>-85.936000</td>\n",
       "      <td>9794.703411</td>\n",
       "      <td>9723.374540</td>\n",
       "      <td>9715.382899</td>\n",
       "      <td>9703.195706</td>\n",
       "      <td>9653.420898</td>\n",
       "      <td>-108.233928</td>\n",
       "    </tr>\n",
       "    <tr>\n",
       "      <th>1708</th>\n",
       "      <td>2018-12-25</td>\n",
       "      <td>9559.700195</td>\n",
       "      <td>9559.700195</td>\n",
       "      <td>9479.059570</td>\n",
       "      <td>9527.089844</td>\n",
       "      <td>9527.089844</td>\n",
       "      <td>1458500</td>\n",
       "      <td>10137.870117</td>\n",
       "      <td>9527.089844</td>\n",
       "      <td>-1</td>\n",
       "      <td>0</td>\n",
       "      <td>37.047322</td>\n",
       "      <td>-87.775458</td>\n",
       "      <td>9794.966082</td>\n",
       "      <td>9684.117601</td>\n",
       "      <td>9671.249306</td>\n",
       "      <td>9661.171790</td>\n",
       "      <td>9579.518917</td>\n",
       "      <td>-162.521195</td>\n",
       "    </tr>\n",
       "    <tr>\n",
       "      <th>1709</th>\n",
       "      <td>2018-12-26</td>\n",
       "      <td>9544.870117</td>\n",
       "      <td>9591.910156</td>\n",
       "      <td>9473.299805</td>\n",
       "      <td>9478.990234</td>\n",
       "      <td>9478.990234</td>\n",
       "      <td>1299700</td>\n",
       "      <td>10137.870117</td>\n",
       "      <td>9478.990234</td>\n",
       "      <td>-1</td>\n",
       "      <td>0</td>\n",
       "      <td>35.281696</td>\n",
       "      <td>-98.572611</td>\n",
       "      <td>9793.816811</td>\n",
       "      <td>9643.092128</td>\n",
       "      <td>9623.926020</td>\n",
       "      <td>9607.172546</td>\n",
       "      <td>9511.676764</td>\n",
       "      <td>-147.695044</td>\n",
       "    </tr>\n",
       "    <tr>\n",
       "      <th>1710</th>\n",
       "      <td>2018-12-27</td>\n",
       "      <td>9555.009766</td>\n",
       "      <td>9670.969727</td>\n",
       "      <td>9555.009766</td>\n",
       "      <td>9641.559570</td>\n",
       "      <td>9641.559570</td>\n",
       "      <td>1511100</td>\n",
       "      <td>10137.870117</td>\n",
       "      <td>9478.990234</td>\n",
       "      <td>0</td>\n",
       "      <td>0</td>\n",
       "      <td>44.848763</td>\n",
       "      <td>-57.793684</td>\n",
       "      <td>9789.900462</td>\n",
       "      <td>9642.785616</td>\n",
       "      <td>9617.555924</td>\n",
       "      <td>9571.715971</td>\n",
       "      <td>9551.535422</td>\n",
       "      <td>-79.957325</td>\n",
       "    </tr>\n",
       "    <tr>\n",
       "      <th>1711</th>\n",
       "      <td>2018-12-28</td>\n",
       "      <td>9649.969727</td>\n",
       "      <td>9727.410156</td>\n",
       "      <td>9630.769531</td>\n",
       "      <td>9727.410156</td>\n",
       "      <td>9727.410156</td>\n",
       "      <td>1411300</td>\n",
       "      <td>10137.870117</td>\n",
       "      <td>9478.990234</td>\n",
       "      <td>0</td>\n",
       "      <td>0</td>\n",
       "      <td>49.125760</td>\n",
       "      <td>-36.258904</td>\n",
       "      <td>9787.038753</td>\n",
       "      <td>9659.710524</td>\n",
       "      <td>9631.302626</td>\n",
       "      <td>9566.202759</td>\n",
       "      <td>9622.580249</td>\n",
       "      <td>-32.988442</td>\n",
       "    </tr>\n",
       "  </tbody>\n",
       "</table>\n",
       "</div>"
      ],
      "text/plain": [
       "           Date         Open         High          Low        Close  \\\n",
       "1707 2018-12-24  9646.530273  9658.950195  9613.290039  9639.700195   \n",
       "1708 2018-12-25  9559.700195  9559.700195  9479.059570  9527.089844   \n",
       "1709 2018-12-26  9544.870117  9591.910156  9473.299805  9478.990234   \n",
       "1710 2018-12-27  9555.009766  9670.969727  9555.009766  9641.559570   \n",
       "1711 2018-12-28  9649.969727  9727.410156  9630.769531  9727.410156   \n",
       "\n",
       "        Adj Close   Volume  Highest_high   Lowest_Low  Xh_md  \\\n",
       "1707  9639.700195  1385100  10137.870117  9639.700195     -1   \n",
       "1708  9527.089844  1458500  10137.870117  9527.089844     -1   \n",
       "1709  9478.990234  1299700  10137.870117  9478.990234     -1   \n",
       "1710  9641.559570  1511100  10137.870117  9478.990234      0   \n",
       "1711  9727.410156  1411300  10137.870117  9478.990234      0   \n",
       "\n",
       "      triple_barrier_signal        RSI  Williams %R          SMA          EMA  \\\n",
       "1707                      0  41.569831   -85.936000  9794.703411  9723.374540   \n",
       "1708                      0  37.047322   -87.775458  9794.966082  9684.117601   \n",
       "1709                      0  35.281696   -98.572611  9793.816811  9643.092128   \n",
       "1710                      0  44.848763   -57.793684  9789.900462  9642.785616   \n",
       "1711                      0  49.125760   -36.258904  9787.038753  9659.710524   \n",
       "\n",
       "              WMA          HMA         TEMA         CCI  \n",
       "1707  9715.382899  9703.195706  9653.420898 -108.233928  \n",
       "1708  9671.249306  9661.171790  9579.518917 -162.521195  \n",
       "1709  9623.926020  9607.172546  9511.676764 -147.695044  \n",
       "1710  9617.555924  9571.715971  9551.535422  -79.957325  \n",
       "1711  9631.302626  9566.202759  9622.580249  -32.988442  "
      ]
     },
     "execution_count": 14,
     "metadata": {},
     "output_type": "execute_result"
    },
    {
     "data": {
      "image/png": "[encoded data removed]",
      "text/plain": [
       "<Figure size 640x480 with 1 Axes>"
      ]
     },
     "metadata": {},
     "output_type": "display_data"
    }
   ],
   "source": [
    "df['CCI'] = TA.CCI(ohlcv)\n",
    "print(df['CCI'].describe())\n",
    "sns.distplot(df['CCI'].dropna())\n",
    "df.tail()"
   ]
  },
  {
   "cell_type": "markdown",
   "metadata": {
    "id": "G8rAJ61cjkJ4"
   },
   "source": [
    "# CMO"
   ]
  },
  {
   "cell_type": "code",
   "execution_count": 15,
   "metadata": {
    "colab": {
     "base_uri": "https://localhost:8080/",
     "height": 1000
    },
    "id": "P9EispJmjkj_",
    "outputId": "8110c61b-94af-41e5-d406-0cd338a48174"
   },
   "outputs": [
    {
     "name": "stdout",
     "output_type": "stream",
     "text": [
      "count    1711.000000\n",
      "mean        6.158382\n",
      "std        29.165232\n",
      "min       -86.464212\n",
      "25%       -13.516547\n",
      "50%         8.392908\n",
      "75%        26.869824\n",
      "max       100.000000\n",
      "Name: CMO, dtype: float64\n"
     ]
    },
    {
     "name": "stderr",
     "output_type": "stream",
     "text": [
      "C:\\Users\\sheng\\anaconda3\\lib\\site-packages\\seaborn\\distributions.py:2619: FutureWarning: `distplot` is a deprecated function and will be removed in a future version. Please adapt your code to use either `displot` (a figure-level function with similar flexibility) or `histplot` (an axes-level function for histograms).\n",
      "  warnings.warn(msg, FutureWarning)\n"
     ]
    },
    {
     "data": {
      "text/html": [
       "<div>\n",
       "<style scoped>\n",
       "    .dataframe tbody tr th:only-of-type {\n",
       "        vertical-align: middle;\n",
       "    }\n",
       "\n",
       "    .dataframe tbody tr th {\n",
       "        vertical-align: top;\n",
       "    }\n",
       "\n",
       "    .dataframe thead th {\n",
       "        text-align: right;\n",
       "    }\n",
       "</style>\n",
       "<table border=\"1\" class=\"dataframe\">\n",
       "  <thead>\n",
       "    <tr style=\"text-align: right;\">\n",
       "      <th></th>\n",
       "      <th>Date</th>\n",
       "      <th>Open</th>\n",
       "      <th>High</th>\n",
       "      <th>Low</th>\n",
       "      <th>Close</th>\n",
       "      <th>Adj Close</th>\n",
       "      <th>Volume</th>\n",
       "      <th>Highest_high</th>\n",
       "      <th>Lowest_Low</th>\n",
       "      <th>Xh_md</th>\n",
       "      <th>triple_barrier_signal</th>\n",
       "      <th>RSI</th>\n",
       "      <th>Williams %R</th>\n",
       "      <th>SMA</th>\n",
       "      <th>EMA</th>\n",
       "      <th>WMA</th>\n",
       "      <th>HMA</th>\n",
       "      <th>TEMA</th>\n",
       "      <th>CCI</th>\n",
       "      <th>CMO</th>\n",
       "    </tr>\n",
       "  </thead>\n",
       "  <tbody>\n",
       "    <tr>\n",
       "      <th>1707</th>\n",
       "      <td>2018-12-24</td>\n",
       "      <td>9646.530273</td>\n",
       "      <td>9658.950195</td>\n",
       "      <td>9613.290039</td>\n",
       "      <td>9639.700195</td>\n",
       "      <td>9639.700195</td>\n",
       "      <td>1385100</td>\n",
       "      <td>10137.870117</td>\n",
       "      <td>9639.700195</td>\n",
       "      <td>-1</td>\n",
       "      <td>0</td>\n",
       "      <td>41.569831</td>\n",
       "      <td>-85.936000</td>\n",
       "      <td>9794.703411</td>\n",
       "      <td>9723.374540</td>\n",
       "      <td>9715.382899</td>\n",
       "      <td>9703.195706</td>\n",
       "      <td>9653.420898</td>\n",
       "      <td>-108.233928</td>\n",
       "      <td>-20.428615</td>\n",
       "    </tr>\n",
       "    <tr>\n",
       "      <th>1708</th>\n",
       "      <td>2018-12-25</td>\n",
       "      <td>9559.700195</td>\n",
       "      <td>9559.700195</td>\n",
       "      <td>9479.059570</td>\n",
       "      <td>9527.089844</td>\n",
       "      <td>9527.089844</td>\n",
       "      <td>1458500</td>\n",
       "      <td>10137.870117</td>\n",
       "      <td>9527.089844</td>\n",
       "      <td>-1</td>\n",
       "      <td>0</td>\n",
       "      <td>37.047322</td>\n",
       "      <td>-87.775458</td>\n",
       "      <td>9794.966082</td>\n",
       "      <td>9684.117601</td>\n",
       "      <td>9671.249306</td>\n",
       "      <td>9661.171790</td>\n",
       "      <td>9579.518917</td>\n",
       "      <td>-162.521195</td>\n",
       "      <td>-32.724010</td>\n",
       "    </tr>\n",
       "    <tr>\n",
       "      <th>1709</th>\n",
       "      <td>2018-12-26</td>\n",
       "      <td>9544.870117</td>\n",
       "      <td>9591.910156</td>\n",
       "      <td>9473.299805</td>\n",
       "      <td>9478.990234</td>\n",
       "      <td>9478.990234</td>\n",
       "      <td>1299700</td>\n",
       "      <td>10137.870117</td>\n",
       "      <td>9478.990234</td>\n",
       "      <td>-1</td>\n",
       "      <td>0</td>\n",
       "      <td>35.281696</td>\n",
       "      <td>-98.572611</td>\n",
       "      <td>9793.816811</td>\n",
       "      <td>9643.092128</td>\n",
       "      <td>9623.926020</td>\n",
       "      <td>9607.172546</td>\n",
       "      <td>9511.676764</td>\n",
       "      <td>-147.695044</td>\n",
       "      <td>-37.320554</td>\n",
       "    </tr>\n",
       "    <tr>\n",
       "      <th>1710</th>\n",
       "      <td>2018-12-27</td>\n",
       "      <td>9555.009766</td>\n",
       "      <td>9670.969727</td>\n",
       "      <td>9555.009766</td>\n",
       "      <td>9641.559570</td>\n",
       "      <td>9641.559570</td>\n",
       "      <td>1511100</td>\n",
       "      <td>10137.870117</td>\n",
       "      <td>9478.990234</td>\n",
       "      <td>0</td>\n",
       "      <td>0</td>\n",
       "      <td>44.848763</td>\n",
       "      <td>-57.793684</td>\n",
       "      <td>9789.900462</td>\n",
       "      <td>9642.785616</td>\n",
       "      <td>9617.555924</td>\n",
       "      <td>9571.715971</td>\n",
       "      <td>9551.535422</td>\n",
       "      <td>-79.957325</td>\n",
       "      <td>-9.281028</td>\n",
       "    </tr>\n",
       "    <tr>\n",
       "      <th>1711</th>\n",
       "      <td>2018-12-28</td>\n",
       "      <td>9649.969727</td>\n",
       "      <td>9727.410156</td>\n",
       "      <td>9630.769531</td>\n",
       "      <td>9727.410156</td>\n",
       "      <td>9727.410156</td>\n",
       "      <td>1411300</td>\n",
       "      <td>10137.870117</td>\n",
       "      <td>9478.990234</td>\n",
       "      <td>0</td>\n",
       "      <td>0</td>\n",
       "      <td>49.125760</td>\n",
       "      <td>-36.258904</td>\n",
       "      <td>9787.038753</td>\n",
       "      <td>9659.710524</td>\n",
       "      <td>9631.302626</td>\n",
       "      <td>9566.202759</td>\n",
       "      <td>9622.580249</td>\n",
       "      <td>-32.988442</td>\n",
       "      <td>2.411199</td>\n",
       "    </tr>\n",
       "  </tbody>\n",
       "</table>\n",
       "</div>"
      ],
      "text/plain": [
       "           Date         Open         High          Low        Close  \\\n",
       "1707 2018-12-24  9646.530273  9658.950195  9613.290039  9639.700195   \n",
       "1708 2018-12-25  9559.700195  9559.700195  9479.059570  9527.089844   \n",
       "1709 2018-12-26  9544.870117  9591.910156  9473.299805  9478.990234   \n",
       "1710 2018-12-27  9555.009766  9670.969727  9555.009766  9641.559570   \n",
       "1711 2018-12-28  9649.969727  9727.410156  9630.769531  9727.410156   \n",
       "\n",
       "        Adj Close   Volume  Highest_high   Lowest_Low  Xh_md  \\\n",
       "1707  9639.700195  1385100  10137.870117  9639.700195     -1   \n",
       "1708  9527.089844  1458500  10137.870117  9527.089844     -1   \n",
       "1709  9478.990234  1299700  10137.870117  9478.990234     -1   \n",
       "1710  9641.559570  1511100  10137.870117  9478.990234      0   \n",
       "1711  9727.410156  1411300  10137.870117  9478.990234      0   \n",
       "\n",
       "      triple_barrier_signal        RSI  Williams %R          SMA          EMA  \\\n",
       "1707                      0  41.569831   -85.936000  9794.703411  9723.374540   \n",
       "1708                      0  37.047322   -87.775458  9794.966082  9684.117601   \n",
       "1709                      0  35.281696   -98.572611  9793.816811  9643.092128   \n",
       "1710                      0  44.848763   -57.793684  9789.900462  9642.785616   \n",
       "1711                      0  49.125760   -36.258904  9787.038753  9659.710524   \n",
       "\n",
       "              WMA          HMA         TEMA         CCI        CMO  \n",
       "1707  9715.382899  9703.195706  9653.420898 -108.233928 -20.428615  \n",
       "1708  9671.249306  9661.171790  9579.518917 -162.521195 -32.724010  \n",
       "1709  9623.926020  9607.172546  9511.676764 -147.695044 -37.320554  \n",
       "1710  9617.555924  9571.715971  9551.535422  -79.957325  -9.281028  \n",
       "1711  9631.302626  9566.202759  9622.580249  -32.988442   2.411199  "
      ]
     },
     "execution_count": 15,
     "metadata": {},
     "output_type": "execute_result"
    },
    {
     "data": {
      "image/png": "[encoded data removed]",
      "text/plain": [
       "<Figure size 640x480 with 1 Axes>"
      ]
     },
     "metadata": {},
     "output_type": "display_data"
    }
   ],
   "source": [
    "df['CMO'] = TA.CMO(ohlcv)\n",
    "print(df['CMO'].describe())\n",
    "sns.distplot(df['CMO'].dropna())\n",
    "df.tail()"
   ]
  },
  {
   "cell_type": "markdown",
   "metadata": {
    "id": "35qI_9gZjsR0"
   },
   "source": [
    "# MACD"
   ]
  },
  {
   "cell_type": "code",
   "execution_count": 16,
   "metadata": {
    "colab": {
     "base_uri": "https://localhost:8080/",
     "height": 1000
    },
    "id": "5QG4lBEfjsZb",
    "outputId": "a10f73e4-1c08-4d3f-fb6f-4285fe6c303a"
   },
   "outputs": [
    {
     "name": "stdout",
     "output_type": "stream",
     "text": [
      "count    1712.000000\n",
      "mean       -0.146981\n",
      "std        25.033275\n",
      "min      -111.780784\n",
      "25%       -16.635329\n",
      "50%        -0.161841\n",
      "75%        15.994976\n",
      "max        77.011167\n",
      "Name: MACD, dtype: float64\n"
     ]
    },
    {
     "name": "stderr",
     "output_type": "stream",
     "text": [
      "C:\\Users\\sheng\\anaconda3\\lib\\site-packages\\seaborn\\distributions.py:2619: FutureWarning: `distplot` is a deprecated function and will be removed in a future version. Please adapt your code to use either `displot` (a figure-level function with similar flexibility) or `histplot` (an axes-level function for histograms).\n",
      "  warnings.warn(msg, FutureWarning)\n"
     ]
    },
    {
     "data": {
      "text/html": [
       "<div>\n",
       "<style scoped>\n",
       "    .dataframe tbody tr th:only-of-type {\n",
       "        vertical-align: middle;\n",
       "    }\n",
       "\n",
       "    .dataframe tbody tr th {\n",
       "        vertical-align: top;\n",
       "    }\n",
       "\n",
       "    .dataframe thead th {\n",
       "        text-align: right;\n",
       "    }\n",
       "</style>\n",
       "<table border=\"1\" class=\"dataframe\">\n",
       "  <thead>\n",
       "    <tr style=\"text-align: right;\">\n",
       "      <th></th>\n",
       "      <th>Date</th>\n",
       "      <th>Open</th>\n",
       "      <th>High</th>\n",
       "      <th>Low</th>\n",
       "      <th>Close</th>\n",
       "      <th>Adj Close</th>\n",
       "      <th>Volume</th>\n",
       "      <th>Highest_high</th>\n",
       "      <th>Lowest_Low</th>\n",
       "      <th>Xh_md</th>\n",
       "      <th>...</th>\n",
       "      <th>RSI</th>\n",
       "      <th>Williams %R</th>\n",
       "      <th>SMA</th>\n",
       "      <th>EMA</th>\n",
       "      <th>WMA</th>\n",
       "      <th>HMA</th>\n",
       "      <th>TEMA</th>\n",
       "      <th>CCI</th>\n",
       "      <th>CMO</th>\n",
       "      <th>MACD</th>\n",
       "    </tr>\n",
       "  </thead>\n",
       "  <tbody>\n",
       "    <tr>\n",
       "      <th>1707</th>\n",
       "      <td>2018-12-24</td>\n",
       "      <td>9646.530273</td>\n",
       "      <td>9658.950195</td>\n",
       "      <td>9613.290039</td>\n",
       "      <td>9639.700195</td>\n",
       "      <td>9639.700195</td>\n",
       "      <td>1385100</td>\n",
       "      <td>10137.870117</td>\n",
       "      <td>9639.700195</td>\n",
       "      <td>-1</td>\n",
       "      <td>...</td>\n",
       "      <td>41.569831</td>\n",
       "      <td>-85.936000</td>\n",
       "      <td>9794.703411</td>\n",
       "      <td>9723.374540</td>\n",
       "      <td>9715.382899</td>\n",
       "      <td>9703.195706</td>\n",
       "      <td>9653.420898</td>\n",
       "      <td>-108.233928</td>\n",
       "      <td>-20.428615</td>\n",
       "      <td>-10.697626</td>\n",
       "    </tr>\n",
       "    <tr>\n",
       "      <th>1708</th>\n",
       "      <td>2018-12-25</td>\n",
       "      <td>9559.700195</td>\n",
       "      <td>9559.700195</td>\n",
       "      <td>9479.059570</td>\n",
       "      <td>9527.089844</td>\n",
       "      <td>9527.089844</td>\n",
       "      <td>1458500</td>\n",
       "      <td>10137.870117</td>\n",
       "      <td>9527.089844</td>\n",
       "      <td>-1</td>\n",
       "      <td>...</td>\n",
       "      <td>37.047322</td>\n",
       "      <td>-87.775458</td>\n",
       "      <td>9794.966082</td>\n",
       "      <td>9684.117601</td>\n",
       "      <td>9671.249306</td>\n",
       "      <td>9661.171790</td>\n",
       "      <td>9579.518917</td>\n",
       "      <td>-162.521195</td>\n",
       "      <td>-32.724010</td>\n",
       "      <td>-19.034937</td>\n",
       "    </tr>\n",
       "    <tr>\n",
       "      <th>1709</th>\n",
       "      <td>2018-12-26</td>\n",
       "      <td>9544.870117</td>\n",
       "      <td>9591.910156</td>\n",
       "      <td>9473.299805</td>\n",
       "      <td>9478.990234</td>\n",
       "      <td>9478.990234</td>\n",
       "      <td>1299700</td>\n",
       "      <td>10137.870117</td>\n",
       "      <td>9478.990234</td>\n",
       "      <td>-1</td>\n",
       "      <td>...</td>\n",
       "      <td>35.281696</td>\n",
       "      <td>-98.572611</td>\n",
       "      <td>9793.816811</td>\n",
       "      <td>9643.092128</td>\n",
       "      <td>9623.926020</td>\n",
       "      <td>9607.172546</td>\n",
       "      <td>9511.676764</td>\n",
       "      <td>-147.695044</td>\n",
       "      <td>-37.320554</td>\n",
       "      <td>-25.914414</td>\n",
       "    </tr>\n",
       "    <tr>\n",
       "      <th>1710</th>\n",
       "      <td>2018-12-27</td>\n",
       "      <td>9555.009766</td>\n",
       "      <td>9670.969727</td>\n",
       "      <td>9555.009766</td>\n",
       "      <td>9641.559570</td>\n",
       "      <td>9641.559570</td>\n",
       "      <td>1511100</td>\n",
       "      <td>10137.870117</td>\n",
       "      <td>9478.990234</td>\n",
       "      <td>0</td>\n",
       "      <td>...</td>\n",
       "      <td>44.848763</td>\n",
       "      <td>-57.793684</td>\n",
       "      <td>9789.900462</td>\n",
       "      <td>9642.785616</td>\n",
       "      <td>9617.555924</td>\n",
       "      <td>9571.715971</td>\n",
       "      <td>9551.535422</td>\n",
       "      <td>-79.957325</td>\n",
       "      <td>-9.281028</td>\n",
       "      <td>-18.016052</td>\n",
       "    </tr>\n",
       "    <tr>\n",
       "      <th>1711</th>\n",
       "      <td>2018-12-28</td>\n",
       "      <td>9649.969727</td>\n",
       "      <td>9727.410156</td>\n",
       "      <td>9630.769531</td>\n",
       "      <td>9727.410156</td>\n",
       "      <td>9727.410156</td>\n",
       "      <td>1411300</td>\n",
       "      <td>10137.870117</td>\n",
       "      <td>9478.990234</td>\n",
       "      <td>0</td>\n",
       "      <td>...</td>\n",
       "      <td>49.125760</td>\n",
       "      <td>-36.258904</td>\n",
       "      <td>9787.038753</td>\n",
       "      <td>9659.710524</td>\n",
       "      <td>9631.302626</td>\n",
       "      <td>9566.202759</td>\n",
       "      <td>9622.580249</td>\n",
       "      <td>-32.988442</td>\n",
       "      <td>2.411199</td>\n",
       "      <td>-6.124221</td>\n",
       "    </tr>\n",
       "  </tbody>\n",
       "</table>\n",
       "<p>5 rows × 21 columns</p>\n",
       "</div>"
      ],
      "text/plain": [
       "           Date         Open         High          Low        Close  \\\n",
       "1707 2018-12-24  9646.530273  9658.950195  9613.290039  9639.700195   \n",
       "1708 2018-12-25  9559.700195  9559.700195  9479.059570  9527.089844   \n",
       "1709 2018-12-26  9544.870117  9591.910156  9473.299805  9478.990234   \n",
       "1710 2018-12-27  9555.009766  9670.969727  9555.009766  9641.559570   \n",
       "1711 2018-12-28  9649.969727  9727.410156  9630.769531  9727.410156   \n",
       "\n",
       "        Adj Close   Volume  Highest_high   Lowest_Low  Xh_md  ...        RSI  \\\n",
       "1707  9639.700195  1385100  10137.870117  9639.700195     -1  ...  41.569831   \n",
       "1708  9527.089844  1458500  10137.870117  9527.089844     -1  ...  37.047322   \n",
       "1709  9478.990234  1299700  10137.870117  9478.990234     -1  ...  35.281696   \n",
       "1710  9641.559570  1511100  10137.870117  9478.990234      0  ...  44.848763   \n",
       "1711  9727.410156  1411300  10137.870117  9478.990234      0  ...  49.125760   \n",
       "\n",
       "      Williams %R          SMA          EMA          WMA          HMA  \\\n",
       "1707   -85.936000  9794.703411  9723.374540  9715.382899  9703.195706   \n",
       "1708   -87.775458  9794.966082  9684.117601  9671.249306  9661.171790   \n",
       "1709   -98.572611  9793.816811  9643.092128  9623.926020  9607.172546   \n",
       "1710   -57.793684  9789.900462  9642.785616  9617.555924  9571.715971   \n",
       "1711   -36.258904  9787.038753  9659.710524  9631.302626  9566.202759   \n",
       "\n",
       "             TEMA         CCI        CMO       MACD  \n",
       "1707  9653.420898 -108.233928 -20.428615 -10.697626  \n",
       "1708  9579.518917 -162.521195 -32.724010 -19.034937  \n",
       "1709  9511.676764 -147.695044 -37.320554 -25.914414  \n",
       "1710  9551.535422  -79.957325  -9.281028 -18.016052  \n",
       "1711  9622.580249  -32.988442   2.411199  -6.124221  \n",
       "\n",
       "[5 rows x 21 columns]"
      ]
     },
     "execution_count": 16,
     "metadata": {},
     "output_type": "execute_result"
    },
    {
     "data": {
      "image/png": "[encoded data removed]",
      "text/plain": [
       "<Figure size 640x480 with 1 Axes>"
      ]
     },
     "metadata": {},
     "output_type": "display_data"
    }
   ],
   "source": [
    "df['MACD'] = TA.MACD(ohlcv)['MACD'] - TA.MACD(ohlcv)['SIGNAL']\n",
    "print(df['MACD'].describe())\n",
    "sns.distplot(df['MACD'].dropna())\n",
    "df.tail()"
   ]
  },
  {
   "cell_type": "markdown",
   "metadata": {
    "id": "roEAzvV7liUA"
   },
   "source": [
    "# PPO"
   ]
  },
  {
   "cell_type": "code",
   "execution_count": 17,
   "metadata": {
    "colab": {
     "base_uri": "https://localhost:8080/",
     "height": 1000
    },
    "id": "ovCLHYPXli73",
    "outputId": "6f2ad69d-004b-4e2a-8ec4-4dae9b280be0"
   },
   "outputs": [
    {
     "name": "stdout",
     "output_type": "stream",
     "text": [
      "count    1712.000000\n",
      "mean       -0.001542\n",
      "std         0.282102\n",
      "min        -1.057012\n",
      "25%        -0.192425\n",
      "50%        -0.004348\n",
      "75%         0.175706\n",
      "max         0.936046\n",
      "Name: PPO, dtype: float64\n"
     ]
    },
    {
     "name": "stderr",
     "output_type": "stream",
     "text": [
      "C:\\Users\\sheng\\anaconda3\\lib\\site-packages\\seaborn\\distributions.py:2619: FutureWarning: `distplot` is a deprecated function and will be removed in a future version. Please adapt your code to use either `displot` (a figure-level function with similar flexibility) or `histplot` (an axes-level function for histograms).\n",
      "  warnings.warn(msg, FutureWarning)\n"
     ]
    },
    {
     "data": {
      "text/html": [
       "<div>\n",
       "<style scoped>\n",
       "    .dataframe tbody tr th:only-of-type {\n",
       "        vertical-align: middle;\n",
       "    }\n",
       "\n",
       "    .dataframe tbody tr th {\n",
       "        vertical-align: top;\n",
       "    }\n",
       "\n",
       "    .dataframe thead th {\n",
       "        text-align: right;\n",
       "    }\n",
       "</style>\n",
       "<table border=\"1\" class=\"dataframe\">\n",
       "  <thead>\n",
       "    <tr style=\"text-align: right;\">\n",
       "      <th></th>\n",
       "      <th>Date</th>\n",
       "      <th>Open</th>\n",
       "      <th>High</th>\n",
       "      <th>Low</th>\n",
       "      <th>Close</th>\n",
       "      <th>Adj Close</th>\n",
       "      <th>Volume</th>\n",
       "      <th>Highest_high</th>\n",
       "      <th>Lowest_Low</th>\n",
       "      <th>Xh_md</th>\n",
       "      <th>...</th>\n",
       "      <th>Williams %R</th>\n",
       "      <th>SMA</th>\n",
       "      <th>EMA</th>\n",
       "      <th>WMA</th>\n",
       "      <th>HMA</th>\n",
       "      <th>TEMA</th>\n",
       "      <th>CCI</th>\n",
       "      <th>CMO</th>\n",
       "      <th>MACD</th>\n",
       "      <th>PPO</th>\n",
       "    </tr>\n",
       "  </thead>\n",
       "  <tbody>\n",
       "    <tr>\n",
       "      <th>1707</th>\n",
       "      <td>2018-12-24</td>\n",
       "      <td>9646.530273</td>\n",
       "      <td>9658.950195</td>\n",
       "      <td>9613.290039</td>\n",
       "      <td>9639.700195</td>\n",
       "      <td>9639.700195</td>\n",
       "      <td>1385100</td>\n",
       "      <td>10137.870117</td>\n",
       "      <td>9639.700195</td>\n",
       "      <td>-1</td>\n",
       "      <td>...</td>\n",
       "      <td>-85.936000</td>\n",
       "      <td>9794.703411</td>\n",
       "      <td>9723.374540</td>\n",
       "      <td>9715.382899</td>\n",
       "      <td>9703.195706</td>\n",
       "      <td>9653.420898</td>\n",
       "      <td>-108.233928</td>\n",
       "      <td>-20.428615</td>\n",
       "      <td>-10.697626</td>\n",
       "      <td>-0.110500</td>\n",
       "    </tr>\n",
       "    <tr>\n",
       "      <th>1708</th>\n",
       "      <td>2018-12-25</td>\n",
       "      <td>9559.700195</td>\n",
       "      <td>9559.700195</td>\n",
       "      <td>9479.059570</td>\n",
       "      <td>9527.089844</td>\n",
       "      <td>9527.089844</td>\n",
       "      <td>1458500</td>\n",
       "      <td>10137.870117</td>\n",
       "      <td>9527.089844</td>\n",
       "      <td>-1</td>\n",
       "      <td>...</td>\n",
       "      <td>-87.775458</td>\n",
       "      <td>9794.966082</td>\n",
       "      <td>9684.117601</td>\n",
       "      <td>9671.249306</td>\n",
       "      <td>9661.171790</td>\n",
       "      <td>9579.518917</td>\n",
       "      <td>-162.521195</td>\n",
       "      <td>-32.724010</td>\n",
       "      <td>-19.034937</td>\n",
       "      <td>-0.196464</td>\n",
       "    </tr>\n",
       "    <tr>\n",
       "      <th>1709</th>\n",
       "      <td>2018-12-26</td>\n",
       "      <td>9544.870117</td>\n",
       "      <td>9591.910156</td>\n",
       "      <td>9473.299805</td>\n",
       "      <td>9478.990234</td>\n",
       "      <td>9478.990234</td>\n",
       "      <td>1299700</td>\n",
       "      <td>10137.870117</td>\n",
       "      <td>9478.990234</td>\n",
       "      <td>-1</td>\n",
       "      <td>...</td>\n",
       "      <td>-98.572611</td>\n",
       "      <td>9793.816811</td>\n",
       "      <td>9643.092128</td>\n",
       "      <td>9623.926020</td>\n",
       "      <td>9607.172546</td>\n",
       "      <td>9511.676764</td>\n",
       "      <td>-147.695044</td>\n",
       "      <td>-37.320554</td>\n",
       "      <td>-25.914414</td>\n",
       "      <td>-0.267958</td>\n",
       "    </tr>\n",
       "    <tr>\n",
       "      <th>1710</th>\n",
       "      <td>2018-12-27</td>\n",
       "      <td>9555.009766</td>\n",
       "      <td>9670.969727</td>\n",
       "      <td>9555.009766</td>\n",
       "      <td>9641.559570</td>\n",
       "      <td>9641.559570</td>\n",
       "      <td>1511100</td>\n",
       "      <td>10137.870117</td>\n",
       "      <td>9478.990234</td>\n",
       "      <td>0</td>\n",
       "      <td>...</td>\n",
       "      <td>-57.793684</td>\n",
       "      <td>9789.900462</td>\n",
       "      <td>9642.785616</td>\n",
       "      <td>9617.555924</td>\n",
       "      <td>9571.715971</td>\n",
       "      <td>9551.535422</td>\n",
       "      <td>-79.957325</td>\n",
       "      <td>-9.281028</td>\n",
       "      <td>-18.016052</td>\n",
       "      <td>-0.187021</td>\n",
       "    </tr>\n",
       "    <tr>\n",
       "      <th>1711</th>\n",
       "      <td>2018-12-28</td>\n",
       "      <td>9649.969727</td>\n",
       "      <td>9727.410156</td>\n",
       "      <td>9630.769531</td>\n",
       "      <td>9727.410156</td>\n",
       "      <td>9727.410156</td>\n",
       "      <td>1411300</td>\n",
       "      <td>10137.870117</td>\n",
       "      <td>9478.990234</td>\n",
       "      <td>0</td>\n",
       "      <td>...</td>\n",
       "      <td>-36.258904</td>\n",
       "      <td>9787.038753</td>\n",
       "      <td>9659.710524</td>\n",
       "      <td>9631.302626</td>\n",
       "      <td>9566.202759</td>\n",
       "      <td>9622.580249</td>\n",
       "      <td>-32.988442</td>\n",
       "      <td>2.411199</td>\n",
       "      <td>-6.124221</td>\n",
       "      <td>-0.064592</td>\n",
       "    </tr>\n",
       "  </tbody>\n",
       "</table>\n",
       "<p>5 rows × 22 columns</p>\n",
       "</div>"
      ],
      "text/plain": [
       "           Date         Open         High          Low        Close  \\\n",
       "1707 2018-12-24  9646.530273  9658.950195  9613.290039  9639.700195   \n",
       "1708 2018-12-25  9559.700195  9559.700195  9479.059570  9527.089844   \n",
       "1709 2018-12-26  9544.870117  9591.910156  9473.299805  9478.990234   \n",
       "1710 2018-12-27  9555.009766  9670.969727  9555.009766  9641.559570   \n",
       "1711 2018-12-28  9649.969727  9727.410156  9630.769531  9727.410156   \n",
       "\n",
       "        Adj Close   Volume  Highest_high   Lowest_Low  Xh_md  ...  \\\n",
       "1707  9639.700195  1385100  10137.870117  9639.700195     -1  ...   \n",
       "1708  9527.089844  1458500  10137.870117  9527.089844     -1  ...   \n",
       "1709  9478.990234  1299700  10137.870117  9478.990234     -1  ...   \n",
       "1710  9641.559570  1511100  10137.870117  9478.990234      0  ...   \n",
       "1711  9727.410156  1411300  10137.870117  9478.990234      0  ...   \n",
       "\n",
       "      Williams %R          SMA          EMA          WMA          HMA  \\\n",
       "1707   -85.936000  9794.703411  9723.374540  9715.382899  9703.195706   \n",
       "1708   -87.775458  9794.966082  9684.117601  9671.249306  9661.171790   \n",
       "1709   -98.572611  9793.816811  9643.092128  9623.926020  9607.172546   \n",
       "1710   -57.793684  9789.900462  9642.785616  9617.555924  9571.715971   \n",
       "1711   -36.258904  9787.038753  9659.710524  9631.302626  9566.202759   \n",
       "\n",
       "             TEMA         CCI        CMO       MACD       PPO  \n",
       "1707  9653.420898 -108.233928 -20.428615 -10.697626 -0.110500  \n",
       "1708  9579.518917 -162.521195 -32.724010 -19.034937 -0.196464  \n",
       "1709  9511.676764 -147.695044 -37.320554 -25.914414 -0.267958  \n",
       "1710  9551.535422  -79.957325  -9.281028 -18.016052 -0.187021  \n",
       "1711  9622.580249  -32.988442   2.411199  -6.124221 -0.064592  \n",
       "\n",
       "[5 rows x 22 columns]"
      ]
     },
     "execution_count": 17,
     "metadata": {},
     "output_type": "execute_result"
    },
    {
     "data": {
      "image/png": "[encoded data removed]",
      "text/plain": [
       "<Figure size 640x480 with 1 Axes>"
      ]
     },
     "metadata": {},
     "output_type": "display_data"
    }
   ],
   "source": [
    "df['PPO'] = TA.PPO(ohlcv)['PPO'] - TA.PPO(ohlcv)['SIGNAL']\n",
    "print(df['PPO'].describe())\n",
    "sns.distplot(df['PPO'].dropna())\n",
    "df.tail()"
   ]
  },
  {
   "cell_type": "markdown",
   "metadata": {
    "id": "5BBE8vaWmdGN"
   },
   "source": [
    "# ROC"
   ]
  },
  {
   "cell_type": "code",
   "execution_count": 18,
   "metadata": {
    "colab": {
     "base_uri": "https://localhost:8080/",
     "height": 1000
    },
    "id": "OKI3MqwhmdOj",
    "outputId": "870b499e-9b74-4973-fd68-60c37e63b6ea"
   },
   "outputs": [
    {
     "name": "stdout",
     "output_type": "stream",
     "text": [
      "count    1700.000000\n",
      "mean        0.256787\n",
      "std         2.884933\n",
      "min       -12.299099\n",
      "25%        -1.460515\n",
      "50%         0.431793\n",
      "75%         2.247694\n",
      "max        11.829148\n",
      "Name: ROC, dtype: float64\n"
     ]
    },
    {
     "name": "stderr",
     "output_type": "stream",
     "text": [
      "C:\\Users\\sheng\\anaconda3\\lib\\site-packages\\seaborn\\distributions.py:2619: FutureWarning: `distplot` is a deprecated function and will be removed in a future version. Please adapt your code to use either `displot` (a figure-level function with similar flexibility) or `histplot` (an axes-level function for histograms).\n",
      "  warnings.warn(msg, FutureWarning)\n"
     ]
    },
    {
     "data": {
      "text/html": [
       "<div>\n",
       "<style scoped>\n",
       "    .dataframe tbody tr th:only-of-type {\n",
       "        vertical-align: middle;\n",
       "    }\n",
       "\n",
       "    .dataframe tbody tr th {\n",
       "        vertical-align: top;\n",
       "    }\n",
       "\n",
       "    .dataframe thead th {\n",
       "        text-align: right;\n",
       "    }\n",
       "</style>\n",
       "<table border=\"1\" class=\"dataframe\">\n",
       "  <thead>\n",
       "    <tr style=\"text-align: right;\">\n",
       "      <th></th>\n",
       "      <th>Date</th>\n",
       "      <th>Open</th>\n",
       "      <th>High</th>\n",
       "      <th>Low</th>\n",
       "      <th>Close</th>\n",
       "      <th>Adj Close</th>\n",
       "      <th>Volume</th>\n",
       "      <th>Highest_high</th>\n",
       "      <th>Lowest_Low</th>\n",
       "      <th>Xh_md</th>\n",
       "      <th>...</th>\n",
       "      <th>SMA</th>\n",
       "      <th>EMA</th>\n",
       "      <th>WMA</th>\n",
       "      <th>HMA</th>\n",
       "      <th>TEMA</th>\n",
       "      <th>CCI</th>\n",
       "      <th>CMO</th>\n",
       "      <th>MACD</th>\n",
       "      <th>PPO</th>\n",
       "      <th>ROC</th>\n",
       "    </tr>\n",
       "  </thead>\n",
       "  <tbody>\n",
       "    <tr>\n",
       "      <th>1707</th>\n",
       "      <td>2018-12-24</td>\n",
       "      <td>9646.530273</td>\n",
       "      <td>9658.950195</td>\n",
       "      <td>9613.290039</td>\n",
       "      <td>9639.700195</td>\n",
       "      <td>9639.700195</td>\n",
       "      <td>1385100</td>\n",
       "      <td>10137.870117</td>\n",
       "      <td>9639.700195</td>\n",
       "      <td>-1</td>\n",
       "      <td>...</td>\n",
       "      <td>9794.703411</td>\n",
       "      <td>9723.374540</td>\n",
       "      <td>9715.382899</td>\n",
       "      <td>9703.195706</td>\n",
       "      <td>9653.420898</td>\n",
       "      <td>-108.233928</td>\n",
       "      <td>-20.428615</td>\n",
       "      <td>-10.697626</td>\n",
       "      <td>-0.110500</td>\n",
       "      <td>-0.464851</td>\n",
       "    </tr>\n",
       "    <tr>\n",
       "      <th>1708</th>\n",
       "      <td>2018-12-25</td>\n",
       "      <td>9559.700195</td>\n",
       "      <td>9559.700195</td>\n",
       "      <td>9479.059570</td>\n",
       "      <td>9527.089844</td>\n",
       "      <td>9527.089844</td>\n",
       "      <td>1458500</td>\n",
       "      <td>10137.870117</td>\n",
       "      <td>9527.089844</td>\n",
       "      <td>-1</td>\n",
       "      <td>...</td>\n",
       "      <td>9794.966082</td>\n",
       "      <td>9684.117601</td>\n",
       "      <td>9671.249306</td>\n",
       "      <td>9661.171790</td>\n",
       "      <td>9579.518917</td>\n",
       "      <td>-162.521195</td>\n",
       "      <td>-32.724010</td>\n",
       "      <td>-19.034937</td>\n",
       "      <td>-0.196464</td>\n",
       "      <td>-2.395174</td>\n",
       "    </tr>\n",
       "    <tr>\n",
       "      <th>1709</th>\n",
       "      <td>2018-12-26</td>\n",
       "      <td>9544.870117</td>\n",
       "      <td>9591.910156</td>\n",
       "      <td>9473.299805</td>\n",
       "      <td>9478.990234</td>\n",
       "      <td>9478.990234</td>\n",
       "      <td>1299700</td>\n",
       "      <td>10137.870117</td>\n",
       "      <td>9478.990234</td>\n",
       "      <td>-1</td>\n",
       "      <td>...</td>\n",
       "      <td>9793.816811</td>\n",
       "      <td>9643.092128</td>\n",
       "      <td>9623.926020</td>\n",
       "      <td>9607.172546</td>\n",
       "      <td>9511.676764</td>\n",
       "      <td>-147.695044</td>\n",
       "      <td>-37.320554</td>\n",
       "      <td>-25.914414</td>\n",
       "      <td>-0.267958</td>\n",
       "      <td>-1.747075</td>\n",
       "    </tr>\n",
       "    <tr>\n",
       "      <th>1710</th>\n",
       "      <td>2018-12-27</td>\n",
       "      <td>9555.009766</td>\n",
       "      <td>9670.969727</td>\n",
       "      <td>9555.009766</td>\n",
       "      <td>9641.559570</td>\n",
       "      <td>9641.559570</td>\n",
       "      <td>1511100</td>\n",
       "      <td>10137.870117</td>\n",
       "      <td>9478.990234</td>\n",
       "      <td>0</td>\n",
       "      <td>...</td>\n",
       "      <td>9789.900462</td>\n",
       "      <td>9642.785616</td>\n",
       "      <td>9617.555924</td>\n",
       "      <td>9571.715971</td>\n",
       "      <td>9551.535422</td>\n",
       "      <td>-79.957325</td>\n",
       "      <td>-9.281028</td>\n",
       "      <td>-18.016052</td>\n",
       "      <td>-0.187021</td>\n",
       "      <td>-0.674567</td>\n",
       "    </tr>\n",
       "    <tr>\n",
       "      <th>1711</th>\n",
       "      <td>2018-12-28</td>\n",
       "      <td>9649.969727</td>\n",
       "      <td>9727.410156</td>\n",
       "      <td>9630.769531</td>\n",
       "      <td>9727.410156</td>\n",
       "      <td>9727.410156</td>\n",
       "      <td>1411300</td>\n",
       "      <td>10137.870117</td>\n",
       "      <td>9478.990234</td>\n",
       "      <td>0</td>\n",
       "      <td>...</td>\n",
       "      <td>9787.038753</td>\n",
       "      <td>9659.710524</td>\n",
       "      <td>9631.302626</td>\n",
       "      <td>9566.202759</td>\n",
       "      <td>9622.580249</td>\n",
       "      <td>-32.988442</td>\n",
       "      <td>2.411199</td>\n",
       "      <td>-6.124221</td>\n",
       "      <td>-0.064592</td>\n",
       "      <td>-0.907049</td>\n",
       "    </tr>\n",
       "  </tbody>\n",
       "</table>\n",
       "<p>5 rows × 23 columns</p>\n",
       "</div>"
      ],
      "text/plain": [
       "           Date         Open         High          Low        Close  \\\n",
       "1707 2018-12-24  9646.530273  9658.950195  9613.290039  9639.700195   \n",
       "1708 2018-12-25  9559.700195  9559.700195  9479.059570  9527.089844   \n",
       "1709 2018-12-26  9544.870117  9591.910156  9473.299805  9478.990234   \n",
       "1710 2018-12-27  9555.009766  9670.969727  9555.009766  9641.559570   \n",
       "1711 2018-12-28  9649.969727  9727.410156  9630.769531  9727.410156   \n",
       "\n",
       "        Adj Close   Volume  Highest_high   Lowest_Low  Xh_md  ...  \\\n",
       "1707  9639.700195  1385100  10137.870117  9639.700195     -1  ...   \n",
       "1708  9527.089844  1458500  10137.870117  9527.089844     -1  ...   \n",
       "1709  9478.990234  1299700  10137.870117  9478.990234     -1  ...   \n",
       "1710  9641.559570  1511100  10137.870117  9478.990234      0  ...   \n",
       "1711  9727.410156  1411300  10137.870117  9478.990234      0  ...   \n",
       "\n",
       "              SMA          EMA          WMA          HMA         TEMA  \\\n",
       "1707  9794.703411  9723.374540  9715.382899  9703.195706  9653.420898   \n",
       "1708  9794.966082  9684.117601  9671.249306  9661.171790  9579.518917   \n",
       "1709  9793.816811  9643.092128  9623.926020  9607.172546  9511.676764   \n",
       "1710  9789.900462  9642.785616  9617.555924  9571.715971  9551.535422   \n",
       "1711  9787.038753  9659.710524  9631.302626  9566.202759  9622.580249   \n",
       "\n",
       "             CCI        CMO       MACD       PPO       ROC  \n",
       "1707 -108.233928 -20.428615 -10.697626 -0.110500 -0.464851  \n",
       "1708 -162.521195 -32.724010 -19.034937 -0.196464 -2.395174  \n",
       "1709 -147.695044 -37.320554 -25.914414 -0.267958 -1.747075  \n",
       "1710  -79.957325  -9.281028 -18.016052 -0.187021 -0.674567  \n",
       "1711  -32.988442   2.411199  -6.124221 -0.064592 -0.907049  \n",
       "\n",
       "[5 rows x 23 columns]"
      ]
     },
     "execution_count": 18,
     "metadata": {},
     "output_type": "execute_result"
    },
    {
     "data": {
      "image/png": "[encoded data removed]",
      "text/plain": [
       "<Figure size 640x480 with 1 Axes>"
      ]
     },
     "metadata": {},
     "output_type": "display_data"
    }
   ],
   "source": [
    "df['ROC'] = TA.ROC(ohlcv)\n",
    "print(df['ROC'].describe())\n",
    "sns.distplot(df['ROC'].dropna())\n",
    "df.tail()"
   ]
  },
  {
   "cell_type": "markdown",
   "metadata": {
    "id": "b9LTKsyvmuSd"
   },
   "source": [
    "# CMFI"
   ]
  },
  {
   "cell_type": "code",
   "execution_count": 19,
   "metadata": {
    "colab": {
     "base_uri": "https://localhost:8080/",
     "height": 1000
    },
    "id": "somnlSTOmvjJ",
    "outputId": "363c1e51-6e47-4998-e82a-96fad1a76e63"
   },
   "outputs": [
    {
     "name": "stdout",
     "output_type": "stream",
     "text": [
      "count    1.703000e+03\n",
      "mean     6.444094e+09\n",
      "std      2.192730e+09\n",
      "min     -1.129452e+07\n",
      "25%      4.982419e+09\n",
      "50%      6.492993e+09\n",
      "75%      8.288682e+09\n",
      "max      1.088946e+10\n",
      "Name: CFI, dtype: float64\n"
     ]
    },
    {
     "name": "stderr",
     "output_type": "stream",
     "text": [
      "C:\\Users\\sheng\\anaconda3\\lib\\site-packages\\seaborn\\distributions.py:2619: FutureWarning: `distplot` is a deprecated function and will be removed in a future version. Please adapt your code to use either `displot` (a figure-level function with similar flexibility) or `histplot` (an axes-level function for histograms).\n",
      "  warnings.warn(msg, FutureWarning)\n"
     ]
    },
    {
     "data": {
      "text/html": [
       "<div>\n",
       "<style scoped>\n",
       "    .dataframe tbody tr th:only-of-type {\n",
       "        vertical-align: middle;\n",
       "    }\n",
       "\n",
       "    .dataframe tbody tr th {\n",
       "        vertical-align: top;\n",
       "    }\n",
       "\n",
       "    .dataframe thead th {\n",
       "        text-align: right;\n",
       "    }\n",
       "</style>\n",
       "<table border=\"1\" class=\"dataframe\">\n",
       "  <thead>\n",
       "    <tr style=\"text-align: right;\">\n",
       "      <th></th>\n",
       "      <th>Date</th>\n",
       "      <th>Open</th>\n",
       "      <th>High</th>\n",
       "      <th>Low</th>\n",
       "      <th>Close</th>\n",
       "      <th>Adj Close</th>\n",
       "      <th>Volume</th>\n",
       "      <th>Highest_high</th>\n",
       "      <th>Lowest_Low</th>\n",
       "      <th>Xh_md</th>\n",
       "      <th>...</th>\n",
       "      <th>EMA</th>\n",
       "      <th>WMA</th>\n",
       "      <th>HMA</th>\n",
       "      <th>TEMA</th>\n",
       "      <th>CCI</th>\n",
       "      <th>CMO</th>\n",
       "      <th>MACD</th>\n",
       "      <th>PPO</th>\n",
       "      <th>ROC</th>\n",
       "      <th>CFI</th>\n",
       "    </tr>\n",
       "  </thead>\n",
       "  <tbody>\n",
       "    <tr>\n",
       "      <th>1707</th>\n",
       "      <td>2018-12-24</td>\n",
       "      <td>9646.530273</td>\n",
       "      <td>9658.950195</td>\n",
       "      <td>9613.290039</td>\n",
       "      <td>9639.700195</td>\n",
       "      <td>9639.700195</td>\n",
       "      <td>1385100</td>\n",
       "      <td>10137.870117</td>\n",
       "      <td>9639.700195</td>\n",
       "      <td>-1</td>\n",
       "      <td>...</td>\n",
       "      <td>9723.374540</td>\n",
       "      <td>9715.382899</td>\n",
       "      <td>9703.195706</td>\n",
       "      <td>9653.420898</td>\n",
       "      <td>-108.233928</td>\n",
       "      <td>-20.428615</td>\n",
       "      <td>-10.697626</td>\n",
       "      <td>-0.110500</td>\n",
       "      <td>-0.464851</td>\n",
       "      <td>5.094903e+09</td>\n",
       "    </tr>\n",
       "    <tr>\n",
       "      <th>1708</th>\n",
       "      <td>2018-12-25</td>\n",
       "      <td>9559.700195</td>\n",
       "      <td>9559.700195</td>\n",
       "      <td>9479.059570</td>\n",
       "      <td>9527.089844</td>\n",
       "      <td>9527.089844</td>\n",
       "      <td>1458500</td>\n",
       "      <td>10137.870117</td>\n",
       "      <td>9527.089844</td>\n",
       "      <td>-1</td>\n",
       "      <td>...</td>\n",
       "      <td>9684.117601</td>\n",
       "      <td>9671.249306</td>\n",
       "      <td>9661.171790</td>\n",
       "      <td>9579.518917</td>\n",
       "      <td>-162.521195</td>\n",
       "      <td>-32.724010</td>\n",
       "      <td>-19.034937</td>\n",
       "      <td>-0.196464</td>\n",
       "      <td>-2.395174</td>\n",
       "      <td>5.037866e+09</td>\n",
       "    </tr>\n",
       "    <tr>\n",
       "      <th>1709</th>\n",
       "      <td>2018-12-26</td>\n",
       "      <td>9544.870117</td>\n",
       "      <td>9591.910156</td>\n",
       "      <td>9473.299805</td>\n",
       "      <td>9478.990234</td>\n",
       "      <td>9478.990234</td>\n",
       "      <td>1299700</td>\n",
       "      <td>10137.870117</td>\n",
       "      <td>9478.990234</td>\n",
       "      <td>-1</td>\n",
       "      <td>...</td>\n",
       "      <td>9643.092128</td>\n",
       "      <td>9623.926020</td>\n",
       "      <td>9607.172546</td>\n",
       "      <td>9511.676764</td>\n",
       "      <td>-147.695044</td>\n",
       "      <td>-37.320554</td>\n",
       "      <td>-25.914414</td>\n",
       "      <td>-0.267958</td>\n",
       "      <td>-1.747075</td>\n",
       "      <td>4.979834e+09</td>\n",
       "    </tr>\n",
       "    <tr>\n",
       "      <th>1710</th>\n",
       "      <td>2018-12-27</td>\n",
       "      <td>9555.009766</td>\n",
       "      <td>9670.969727</td>\n",
       "      <td>9555.009766</td>\n",
       "      <td>9641.559570</td>\n",
       "      <td>9641.559570</td>\n",
       "      <td>1511100</td>\n",
       "      <td>10137.870117</td>\n",
       "      <td>9478.990234</td>\n",
       "      <td>0</td>\n",
       "      <td>...</td>\n",
       "      <td>9642.785616</td>\n",
       "      <td>9617.555924</td>\n",
       "      <td>9571.715971</td>\n",
       "      <td>9551.535422</td>\n",
       "      <td>-79.957325</td>\n",
       "      <td>-9.281028</td>\n",
       "      <td>-18.016052</td>\n",
       "      <td>-0.187021</td>\n",
       "      <td>-0.674567</td>\n",
       "      <td>4.977018e+09</td>\n",
       "    </tr>\n",
       "    <tr>\n",
       "      <th>1711</th>\n",
       "      <td>2018-12-28</td>\n",
       "      <td>9649.969727</td>\n",
       "      <td>9727.410156</td>\n",
       "      <td>9630.769531</td>\n",
       "      <td>9727.410156</td>\n",
       "      <td>9727.410156</td>\n",
       "      <td>1411300</td>\n",
       "      <td>10137.870117</td>\n",
       "      <td>9478.990234</td>\n",
       "      <td>0</td>\n",
       "      <td>...</td>\n",
       "      <td>9659.710524</td>\n",
       "      <td>9631.302626</td>\n",
       "      <td>9566.202759</td>\n",
       "      <td>9622.580249</td>\n",
       "      <td>-32.988442</td>\n",
       "      <td>2.411199</td>\n",
       "      <td>-6.124221</td>\n",
       "      <td>-0.064592</td>\n",
       "      <td>-0.907049</td>\n",
       "      <td>4.996743e+09</td>\n",
       "    </tr>\n",
       "  </tbody>\n",
       "</table>\n",
       "<p>5 rows × 24 columns</p>\n",
       "</div>"
      ],
      "text/plain": [
       "           Date         Open         High          Low        Close  \\\n",
       "1707 2018-12-24  9646.530273  9658.950195  9613.290039  9639.700195   \n",
       "1708 2018-12-25  9559.700195  9559.700195  9479.059570  9527.089844   \n",
       "1709 2018-12-26  9544.870117  9591.910156  9473.299805  9478.990234   \n",
       "1710 2018-12-27  9555.009766  9670.969727  9555.009766  9641.559570   \n",
       "1711 2018-12-28  9649.969727  9727.410156  9630.769531  9727.410156   \n",
       "\n",
       "        Adj Close   Volume  Highest_high   Lowest_Low  Xh_md  ...  \\\n",
       "1707  9639.700195  1385100  10137.870117  9639.700195     -1  ...   \n",
       "1708  9527.089844  1458500  10137.870117  9527.089844     -1  ...   \n",
       "1709  9478.990234  1299700  10137.870117  9478.990234     -1  ...   \n",
       "1710  9641.559570  1511100  10137.870117  9478.990234      0  ...   \n",
       "1711  9727.410156  1411300  10137.870117  9478.990234      0  ...   \n",
       "\n",
       "              EMA          WMA          HMA         TEMA         CCI  \\\n",
       "1707  9723.374540  9715.382899  9703.195706  9653.420898 -108.233928   \n",
       "1708  9684.117601  9671.249306  9661.171790  9579.518917 -162.521195   \n",
       "1709  9643.092128  9623.926020  9607.172546  9511.676764 -147.695044   \n",
       "1710  9642.785616  9617.555924  9571.715971  9551.535422  -79.957325   \n",
       "1711  9659.710524  9631.302626  9566.202759  9622.580249  -32.988442   \n",
       "\n",
       "            CMO       MACD       PPO       ROC           CFI  \n",
       "1707 -20.428615 -10.697626 -0.110500 -0.464851  5.094903e+09  \n",
       "1708 -32.724010 -19.034937 -0.196464 -2.395174  5.037866e+09  \n",
       "1709 -37.320554 -25.914414 -0.267958 -1.747075  4.979834e+09  \n",
       "1710  -9.281028 -18.016052 -0.187021 -0.674567  4.977018e+09  \n",
       "1711   2.411199  -6.124221 -0.064592 -0.907049  4.996743e+09  \n",
       "\n",
       "[5 rows x 24 columns]"
      ]
     },
     "execution_count": 19,
     "metadata": {},
     "output_type": "execute_result"
    },
    {
     "data": {
      "image/png": "[encoded data removed]",
      "text/plain": [
       "<Figure size 640x480 with 1 Axes>"
      ]
     },
     "metadata": {},
     "output_type": "display_data"
    }
   ],
   "source": [
    "df['CFI'] = TA.CFI(ohlcv)\n",
    "print(df['CFI'].describe())\n",
    "sns.distplot(df['CFI'].dropna())\n",
    "df.tail()"
   ]
  },
  {
   "cell_type": "markdown",
   "metadata": {
    "id": "8WydSl0doUYk"
   },
   "source": [
    "# DMI"
   ]
  },
  {
   "cell_type": "code",
   "execution_count": 20,
   "metadata": {
    "colab": {
     "base_uri": "https://localhost:8080/",
     "height": 1000
    },
    "id": "xRTnC6DboU05",
    "outputId": "dd4bbdcb-66d0-4c3f-b67d-a9fd6a5d64ee"
   },
   "outputs": [
    {
     "name": "stdout",
     "output_type": "stream",
     "text": [
      "count    1699.000000\n",
      "mean       -0.419249\n",
      "std        16.374854\n",
      "min       -62.933432\n",
      "25%       -10.978943\n",
      "50%         0.788957\n",
      "75%        10.371631\n",
      "max        86.375490\n",
      "Name: DMI, dtype: float64\n"
     ]
    },
    {
     "name": "stderr",
     "output_type": "stream",
     "text": [
      "C:\\Users\\sheng\\anaconda3\\lib\\site-packages\\seaborn\\distributions.py:2619: FutureWarning: `distplot` is a deprecated function and will be removed in a future version. Please adapt your code to use either `displot` (a figure-level function with similar flexibility) or `histplot` (an axes-level function for histograms).\n",
      "  warnings.warn(msg, FutureWarning)\n"
     ]
    },
    {
     "data": {
      "text/html": [
       "<div>\n",
       "<style scoped>\n",
       "    .dataframe tbody tr th:only-of-type {\n",
       "        vertical-align: middle;\n",
       "    }\n",
       "\n",
       "    .dataframe tbody tr th {\n",
       "        vertical-align: top;\n",
       "    }\n",
       "\n",
       "    .dataframe thead th {\n",
       "        text-align: right;\n",
       "    }\n",
       "</style>\n",
       "<table border=\"1\" class=\"dataframe\">\n",
       "  <thead>\n",
       "    <tr style=\"text-align: right;\">\n",
       "      <th></th>\n",
       "      <th>Date</th>\n",
       "      <th>Open</th>\n",
       "      <th>High</th>\n",
       "      <th>Low</th>\n",
       "      <th>Close</th>\n",
       "      <th>Adj Close</th>\n",
       "      <th>Volume</th>\n",
       "      <th>Highest_high</th>\n",
       "      <th>Lowest_Low</th>\n",
       "      <th>Xh_md</th>\n",
       "      <th>...</th>\n",
       "      <th>WMA</th>\n",
       "      <th>HMA</th>\n",
       "      <th>TEMA</th>\n",
       "      <th>CCI</th>\n",
       "      <th>CMO</th>\n",
       "      <th>MACD</th>\n",
       "      <th>PPO</th>\n",
       "      <th>ROC</th>\n",
       "      <th>CFI</th>\n",
       "      <th>DMI</th>\n",
       "    </tr>\n",
       "  </thead>\n",
       "  <tbody>\n",
       "    <tr>\n",
       "      <th>1707</th>\n",
       "      <td>2018-12-24</td>\n",
       "      <td>9646.530273</td>\n",
       "      <td>9658.950195</td>\n",
       "      <td>9613.290039</td>\n",
       "      <td>9639.700195</td>\n",
       "      <td>9639.700195</td>\n",
       "      <td>1385100</td>\n",
       "      <td>10137.870117</td>\n",
       "      <td>9639.700195</td>\n",
       "      <td>-1</td>\n",
       "      <td>...</td>\n",
       "      <td>9715.382899</td>\n",
       "      <td>9703.195706</td>\n",
       "      <td>9653.420898</td>\n",
       "      <td>-108.233928</td>\n",
       "      <td>-20.428615</td>\n",
       "      <td>-10.697626</td>\n",
       "      <td>-0.110500</td>\n",
       "      <td>-0.464851</td>\n",
       "      <td>5.094903e+09</td>\n",
       "      <td>-11.349519</td>\n",
       "    </tr>\n",
       "    <tr>\n",
       "      <th>1708</th>\n",
       "      <td>2018-12-25</td>\n",
       "      <td>9559.700195</td>\n",
       "      <td>9559.700195</td>\n",
       "      <td>9479.059570</td>\n",
       "      <td>9527.089844</td>\n",
       "      <td>9527.089844</td>\n",
       "      <td>1458500</td>\n",
       "      <td>10137.870117</td>\n",
       "      <td>9527.089844</td>\n",
       "      <td>-1</td>\n",
       "      <td>...</td>\n",
       "      <td>9671.249306</td>\n",
       "      <td>9661.171790</td>\n",
       "      <td>9579.518917</td>\n",
       "      <td>-162.521195</td>\n",
       "      <td>-32.724010</td>\n",
       "      <td>-19.034937</td>\n",
       "      <td>-0.196464</td>\n",
       "      <td>-2.395174</td>\n",
       "      <td>5.037866e+09</td>\n",
       "      <td>-19.055029</td>\n",
       "    </tr>\n",
       "    <tr>\n",
       "      <th>1709</th>\n",
       "      <td>2018-12-26</td>\n",
       "      <td>9544.870117</td>\n",
       "      <td>9591.910156</td>\n",
       "      <td>9473.299805</td>\n",
       "      <td>9478.990234</td>\n",
       "      <td>9478.990234</td>\n",
       "      <td>1299700</td>\n",
       "      <td>10137.870117</td>\n",
       "      <td>9478.990234</td>\n",
       "      <td>-1</td>\n",
       "      <td>...</td>\n",
       "      <td>9623.926020</td>\n",
       "      <td>9607.172546</td>\n",
       "      <td>9511.676764</td>\n",
       "      <td>-147.695044</td>\n",
       "      <td>-37.320554</td>\n",
       "      <td>-25.914414</td>\n",
       "      <td>-0.267958</td>\n",
       "      <td>-1.747075</td>\n",
       "      <td>4.979834e+09</td>\n",
       "      <td>-15.461494</td>\n",
       "    </tr>\n",
       "    <tr>\n",
       "      <th>1710</th>\n",
       "      <td>2018-12-27</td>\n",
       "      <td>9555.009766</td>\n",
       "      <td>9670.969727</td>\n",
       "      <td>9555.009766</td>\n",
       "      <td>9641.559570</td>\n",
       "      <td>9641.559570</td>\n",
       "      <td>1511100</td>\n",
       "      <td>10137.870117</td>\n",
       "      <td>9478.990234</td>\n",
       "      <td>0</td>\n",
       "      <td>...</td>\n",
       "      <td>9617.555924</td>\n",
       "      <td>9571.715971</td>\n",
       "      <td>9551.535422</td>\n",
       "      <td>-79.957325</td>\n",
       "      <td>-9.281028</td>\n",
       "      <td>-18.016052</td>\n",
       "      <td>-0.187021</td>\n",
       "      <td>-0.674567</td>\n",
       "      <td>4.977018e+09</td>\n",
       "      <td>-9.204287</td>\n",
       "    </tr>\n",
       "    <tr>\n",
       "      <th>1711</th>\n",
       "      <td>2018-12-28</td>\n",
       "      <td>9649.969727</td>\n",
       "      <td>9727.410156</td>\n",
       "      <td>9630.769531</td>\n",
       "      <td>9727.410156</td>\n",
       "      <td>9727.410156</td>\n",
       "      <td>1411300</td>\n",
       "      <td>10137.870117</td>\n",
       "      <td>9478.990234</td>\n",
       "      <td>0</td>\n",
       "      <td>...</td>\n",
       "      <td>9631.302626</td>\n",
       "      <td>9566.202759</td>\n",
       "      <td>9622.580249</td>\n",
       "      <td>-32.988442</td>\n",
       "      <td>2.411199</td>\n",
       "      <td>-6.124221</td>\n",
       "      <td>-0.064592</td>\n",
       "      <td>-0.907049</td>\n",
       "      <td>4.996743e+09</td>\n",
       "      <td>-4.775416</td>\n",
       "    </tr>\n",
       "  </tbody>\n",
       "</table>\n",
       "<p>5 rows × 25 columns</p>\n",
       "</div>"
      ],
      "text/plain": [
       "           Date         Open         High          Low        Close  \\\n",
       "1707 2018-12-24  9646.530273  9658.950195  9613.290039  9639.700195   \n",
       "1708 2018-12-25  9559.700195  9559.700195  9479.059570  9527.089844   \n",
       "1709 2018-12-26  9544.870117  9591.910156  9473.299805  9478.990234   \n",
       "1710 2018-12-27  9555.009766  9670.969727  9555.009766  9641.559570   \n",
       "1711 2018-12-28  9649.969727  9727.410156  9630.769531  9727.410156   \n",
       "\n",
       "        Adj Close   Volume  Highest_high   Lowest_Low  Xh_md  ...  \\\n",
       "1707  9639.700195  1385100  10137.870117  9639.700195     -1  ...   \n",
       "1708  9527.089844  1458500  10137.870117  9527.089844     -1  ...   \n",
       "1709  9478.990234  1299700  10137.870117  9478.990234     -1  ...   \n",
       "1710  9641.559570  1511100  10137.870117  9478.990234      0  ...   \n",
       "1711  9727.410156  1411300  10137.870117  9478.990234      0  ...   \n",
       "\n",
       "              WMA          HMA         TEMA         CCI        CMO       MACD  \\\n",
       "1707  9715.382899  9703.195706  9653.420898 -108.233928 -20.428615 -10.697626   \n",
       "1708  9671.249306  9661.171790  9579.518917 -162.521195 -32.724010 -19.034937   \n",
       "1709  9623.926020  9607.172546  9511.676764 -147.695044 -37.320554 -25.914414   \n",
       "1710  9617.555924  9571.715971  9551.535422  -79.957325  -9.281028 -18.016052   \n",
       "1711  9631.302626  9566.202759  9622.580249  -32.988442   2.411199  -6.124221   \n",
       "\n",
       "           PPO       ROC           CFI        DMI  \n",
       "1707 -0.110500 -0.464851  5.094903e+09 -11.349519  \n",
       "1708 -0.196464 -2.395174  5.037866e+09 -19.055029  \n",
       "1709 -0.267958 -1.747075  4.979834e+09 -15.461494  \n",
       "1710 -0.187021 -0.674567  4.977018e+09  -9.204287  \n",
       "1711 -0.064592 -0.907049  4.996743e+09  -4.775416  \n",
       "\n",
       "[5 rows x 25 columns]"
      ]
     },
     "execution_count": 20,
     "metadata": {},
     "output_type": "execute_result"
    },
    {
     "data": {
      "image/png": "[encoded data removed]",
      "text/plain": [
       "<Figure size 640x480 with 1 Axes>"
      ]
     },
     "metadata": {},
     "output_type": "display_data"
    }
   ],
   "source": [
    "df['DMI'] = TA.DMI(ohlcv)['DI+'] - TA.DMI(ohlcv)['DI-']\n",
    "print(df['DMI'].describe())\n",
    "sns.distplot(df['DMI'].dropna())\n",
    "df.tail()"
   ]
  },
  {
   "cell_type": "markdown",
   "metadata": {
    "id": "96c_FgXOo98u"
   },
   "source": [
    "# SAR"
   ]
  },
  {
   "cell_type": "code",
   "execution_count": 21,
   "metadata": {
    "colab": {
     "base_uri": "https://localhost:8080/",
     "height": 1000
    },
    "id": "eRPVEtrmo-bi",
    "outputId": "a591c7c2-99b1-4cc3-918e-ec55470c4d5c"
   },
   "outputs": [
    {
     "name": "stdout",
     "output_type": "stream",
     "text": [
      "count     1712.000000\n",
      "mean      8990.504737\n",
      "std       1119.448356\n",
      "min       6857.350098\n",
      "25%       8118.526233\n",
      "50%       8903.387065\n",
      "75%       9775.629883\n",
      "max      11270.179688\n",
      "Name: SAR, dtype: float64\n"
     ]
    },
    {
     "name": "stderr",
     "output_type": "stream",
     "text": [
      "C:\\Users\\sheng\\anaconda3\\lib\\site-packages\\seaborn\\distributions.py:2619: FutureWarning: `distplot` is a deprecated function and will be removed in a future version. Please adapt your code to use either `displot` (a figure-level function with similar flexibility) or `histplot` (an axes-level function for histograms).\n",
      "  warnings.warn(msg, FutureWarning)\n"
     ]
    },
    {
     "data": {
      "text/html": [
       "<div>\n",
       "<style scoped>\n",
       "    .dataframe tbody tr th:only-of-type {\n",
       "        vertical-align: middle;\n",
       "    }\n",
       "\n",
       "    .dataframe tbody tr th {\n",
       "        vertical-align: top;\n",
       "    }\n",
       "\n",
       "    .dataframe thead th {\n",
       "        text-align: right;\n",
       "    }\n",
       "</style>\n",
       "<table border=\"1\" class=\"dataframe\">\n",
       "  <thead>\n",
       "    <tr style=\"text-align: right;\">\n",
       "      <th></th>\n",
       "      <th>Date</th>\n",
       "      <th>Open</th>\n",
       "      <th>High</th>\n",
       "      <th>Low</th>\n",
       "      <th>Close</th>\n",
       "      <th>Adj Close</th>\n",
       "      <th>Volume</th>\n",
       "      <th>Highest_high</th>\n",
       "      <th>Lowest_Low</th>\n",
       "      <th>Xh_md</th>\n",
       "      <th>...</th>\n",
       "      <th>HMA</th>\n",
       "      <th>TEMA</th>\n",
       "      <th>CCI</th>\n",
       "      <th>CMO</th>\n",
       "      <th>MACD</th>\n",
       "      <th>PPO</th>\n",
       "      <th>ROC</th>\n",
       "      <th>CFI</th>\n",
       "      <th>DMI</th>\n",
       "      <th>SAR</th>\n",
       "    </tr>\n",
       "  </thead>\n",
       "  <tbody>\n",
       "    <tr>\n",
       "      <th>1707</th>\n",
       "      <td>2018-12-24</td>\n",
       "      <td>9646.530273</td>\n",
       "      <td>9658.950195</td>\n",
       "      <td>9613.290039</td>\n",
       "      <td>9639.700195</td>\n",
       "      <td>9639.700195</td>\n",
       "      <td>1385100</td>\n",
       "      <td>10137.870117</td>\n",
       "      <td>9639.700195</td>\n",
       "      <td>-1</td>\n",
       "      <td>...</td>\n",
       "      <td>9703.195706</td>\n",
       "      <td>9653.420898</td>\n",
       "      <td>-108.233928</td>\n",
       "      <td>-20.428615</td>\n",
       "      <td>-10.697626</td>\n",
       "      <td>-0.110500</td>\n",
       "      <td>-0.464851</td>\n",
       "      <td>5.094903e+09</td>\n",
       "      <td>-11.349519</td>\n",
       "      <td>9888.294820</td>\n",
       "    </tr>\n",
       "    <tr>\n",
       "      <th>1708</th>\n",
       "      <td>2018-12-25</td>\n",
       "      <td>9559.700195</td>\n",
       "      <td>9559.700195</td>\n",
       "      <td>9479.059570</td>\n",
       "      <td>9527.089844</td>\n",
       "      <td>9527.089844</td>\n",
       "      <td>1458500</td>\n",
       "      <td>10137.870117</td>\n",
       "      <td>9527.089844</td>\n",
       "      <td>-1</td>\n",
       "      <td>...</td>\n",
       "      <td>9661.171790</td>\n",
       "      <td>9579.518917</td>\n",
       "      <td>-162.521195</td>\n",
       "      <td>-32.724010</td>\n",
       "      <td>-19.034937</td>\n",
       "      <td>-0.196464</td>\n",
       "      <td>-2.395174</td>\n",
       "      <td>5.037866e+09</td>\n",
       "      <td>-19.055029</td>\n",
       "      <td>9864.056859</td>\n",
       "    </tr>\n",
       "    <tr>\n",
       "      <th>1709</th>\n",
       "      <td>2018-12-26</td>\n",
       "      <td>9544.870117</td>\n",
       "      <td>9591.910156</td>\n",
       "      <td>9473.299805</td>\n",
       "      <td>9478.990234</td>\n",
       "      <td>9478.990234</td>\n",
       "      <td>1299700</td>\n",
       "      <td>10137.870117</td>\n",
       "      <td>9478.990234</td>\n",
       "      <td>-1</td>\n",
       "      <td>...</td>\n",
       "      <td>9607.172546</td>\n",
       "      <td>9511.676764</td>\n",
       "      <td>-147.695044</td>\n",
       "      <td>-37.320554</td>\n",
       "      <td>-25.914414</td>\n",
       "      <td>-0.267958</td>\n",
       "      <td>-1.747075</td>\n",
       "      <td>4.979834e+09</td>\n",
       "      <td>-15.461494</td>\n",
       "      <td>9825.557130</td>\n",
       "    </tr>\n",
       "    <tr>\n",
       "      <th>1710</th>\n",
       "      <td>2018-12-27</td>\n",
       "      <td>9555.009766</td>\n",
       "      <td>9670.969727</td>\n",
       "      <td>9555.009766</td>\n",
       "      <td>9641.559570</td>\n",
       "      <td>9641.559570</td>\n",
       "      <td>1511100</td>\n",
       "      <td>10137.870117</td>\n",
       "      <td>9478.990234</td>\n",
       "      <td>0</td>\n",
       "      <td>...</td>\n",
       "      <td>9571.715971</td>\n",
       "      <td>9551.535422</td>\n",
       "      <td>-79.957325</td>\n",
       "      <td>-9.281028</td>\n",
       "      <td>-18.016052</td>\n",
       "      <td>-0.187021</td>\n",
       "      <td>-0.674567</td>\n",
       "      <td>4.977018e+09</td>\n",
       "      <td>-9.204287</td>\n",
       "      <td>9783.286251</td>\n",
       "    </tr>\n",
       "    <tr>\n",
       "      <th>1711</th>\n",
       "      <td>2018-12-28</td>\n",
       "      <td>9649.969727</td>\n",
       "      <td>9727.410156</td>\n",
       "      <td>9630.769531</td>\n",
       "      <td>9727.410156</td>\n",
       "      <td>9727.410156</td>\n",
       "      <td>1411300</td>\n",
       "      <td>10137.870117</td>\n",
       "      <td>9478.990234</td>\n",
       "      <td>0</td>\n",
       "      <td>...</td>\n",
       "      <td>9566.202759</td>\n",
       "      <td>9622.580249</td>\n",
       "      <td>-32.988442</td>\n",
       "      <td>2.411199</td>\n",
       "      <td>-6.124221</td>\n",
       "      <td>-0.064592</td>\n",
       "      <td>-0.907049</td>\n",
       "      <td>4.996743e+09</td>\n",
       "      <td>-4.775416</td>\n",
       "      <td>9746.087878</td>\n",
       "    </tr>\n",
       "  </tbody>\n",
       "</table>\n",
       "<p>5 rows × 26 columns</p>\n",
       "</div>"
      ],
      "text/plain": [
       "           Date         Open         High          Low        Close  \\\n",
       "1707 2018-12-24  9646.530273  9658.950195  9613.290039  9639.700195   \n",
       "1708 2018-12-25  9559.700195  9559.700195  9479.059570  9527.089844   \n",
       "1709 2018-12-26  9544.870117  9591.910156  9473.299805  9478.990234   \n",
       "1710 2018-12-27  9555.009766  9670.969727  9555.009766  9641.559570   \n",
       "1711 2018-12-28  9649.969727  9727.410156  9630.769531  9727.410156   \n",
       "\n",
       "        Adj Close   Volume  Highest_high   Lowest_Low  Xh_md  ...  \\\n",
       "1707  9639.700195  1385100  10137.870117  9639.700195     -1  ...   \n",
       "1708  9527.089844  1458500  10137.870117  9527.089844     -1  ...   \n",
       "1709  9478.990234  1299700  10137.870117  9478.990234     -1  ...   \n",
       "1710  9641.559570  1511100  10137.870117  9478.990234      0  ...   \n",
       "1711  9727.410156  1411300  10137.870117  9478.990234      0  ...   \n",
       "\n",
       "              HMA         TEMA         CCI        CMO       MACD       PPO  \\\n",
       "1707  9703.195706  9653.420898 -108.233928 -20.428615 -10.697626 -0.110500   \n",
       "1708  9661.171790  9579.518917 -162.521195 -32.724010 -19.034937 -0.196464   \n",
       "1709  9607.172546  9511.676764 -147.695044 -37.320554 -25.914414 -0.267958   \n",
       "1710  9571.715971  9551.535422  -79.957325  -9.281028 -18.016052 -0.187021   \n",
       "1711  9566.202759  9622.580249  -32.988442   2.411199  -6.124221 -0.064592   \n",
       "\n",
       "           ROC           CFI        DMI          SAR  \n",
       "1707 -0.464851  5.094903e+09 -11.349519  9888.294820  \n",
       "1708 -2.395174  5.037866e+09 -19.055029  9864.056859  \n",
       "1709 -1.747075  4.979834e+09 -15.461494  9825.557130  \n",
       "1710 -0.674567  4.977018e+09  -9.204287  9783.286251  \n",
       "1711 -0.907049  4.996743e+09  -4.775416  9746.087878  \n",
       "\n",
       "[5 rows x 26 columns]"
      ]
     },
     "execution_count": 21,
     "metadata": {},
     "output_type": "execute_result"
    },
    {
     "data": {
      "image/png": "[encoded data removed]",
      "text/plain": [
       "<Figure size 640x480 with 1 Axes>"
      ]
     },
     "metadata": {},
     "output_type": "display_data"
    }
   ],
   "source": [
    "df['SAR'] = TA.SAR(ohlcv)\n",
    "print(df['SAR'].describe())\n",
    "sns.distplot(df['SAR'].dropna())\n",
    "df.tail()"
   ]
  },
  {
   "cell_type": "markdown",
   "metadata": {
    "id": "MoqrDEejwYOV"
   },
   "source": [
    "# 定義features(X) label(y)"
   ]
  },
  {
   "cell_type": "markdown",
   "metadata": {
    "id": "lPHnhQCPdxLl"
   },
   "source": [
    "# MACD RSI講一下"
   ]
  },
  {
   "cell_type": "code",
   "execution_count": 22,
   "metadata": {
    "colab": {
     "base_uri": "https://localhost:8080/",
     "height": 441
    },
    "id": "qrGg0ojRKuE1",
    "outputId": "28663d87-a0d9-4e07-a3c3-5914043f8acf"
   },
   "outputs": [
    {
     "name": "stdout",
     "output_type": "stream",
     "text": [
      "(1712, 26)\n",
      "(1672, 16)\n"
     ]
    },
    {
     "data": {
      "text/html": [
       "<div>\n",
       "<style scoped>\n",
       "    .dataframe tbody tr th:only-of-type {\n",
       "        vertical-align: middle;\n",
       "    }\n",
       "\n",
       "    .dataframe tbody tr th {\n",
       "        vertical-align: top;\n",
       "    }\n",
       "\n",
       "    .dataframe thead th {\n",
       "        text-align: right;\n",
       "    }\n",
       "</style>\n",
       "<table border=\"1\" class=\"dataframe\">\n",
       "  <thead>\n",
       "    <tr style=\"text-align: right;\">\n",
       "      <th></th>\n",
       "      <th>RSI</th>\n",
       "      <th>Williams %R</th>\n",
       "      <th>SMA</th>\n",
       "      <th>EMA</th>\n",
       "      <th>WMA</th>\n",
       "      <th>HMA</th>\n",
       "      <th>TEMA</th>\n",
       "      <th>CCI</th>\n",
       "      <th>CMO</th>\n",
       "      <th>MACD</th>\n",
       "      <th>PPO</th>\n",
       "      <th>ROC</th>\n",
       "      <th>CFI</th>\n",
       "      <th>DMI</th>\n",
       "      <th>SAR</th>\n",
       "      <th>triple_barrier_signal</th>\n",
       "    </tr>\n",
       "  </thead>\n",
       "  <tbody>\n",
       "    <tr>\n",
       "      <th>1707</th>\n",
       "      <td>41.569831</td>\n",
       "      <td>-85.936000</td>\n",
       "      <td>9794.703411</td>\n",
       "      <td>9723.374540</td>\n",
       "      <td>9715.382899</td>\n",
       "      <td>9703.195706</td>\n",
       "      <td>9653.420898</td>\n",
       "      <td>-108.233928</td>\n",
       "      <td>-20.428615</td>\n",
       "      <td>-10.697626</td>\n",
       "      <td>-0.110500</td>\n",
       "      <td>-0.464851</td>\n",
       "      <td>5.094903e+09</td>\n",
       "      <td>-11.349519</td>\n",
       "      <td>9888.294820</td>\n",
       "      <td>0</td>\n",
       "    </tr>\n",
       "    <tr>\n",
       "      <th>1708</th>\n",
       "      <td>37.047322</td>\n",
       "      <td>-87.775458</td>\n",
       "      <td>9794.966082</td>\n",
       "      <td>9684.117601</td>\n",
       "      <td>9671.249306</td>\n",
       "      <td>9661.171790</td>\n",
       "      <td>9579.518917</td>\n",
       "      <td>-162.521195</td>\n",
       "      <td>-32.724010</td>\n",
       "      <td>-19.034937</td>\n",
       "      <td>-0.196464</td>\n",
       "      <td>-2.395174</td>\n",
       "      <td>5.037866e+09</td>\n",
       "      <td>-19.055029</td>\n",
       "      <td>9864.056859</td>\n",
       "      <td>0</td>\n",
       "    </tr>\n",
       "    <tr>\n",
       "      <th>1709</th>\n",
       "      <td>35.281696</td>\n",
       "      <td>-98.572611</td>\n",
       "      <td>9793.816811</td>\n",
       "      <td>9643.092128</td>\n",
       "      <td>9623.926020</td>\n",
       "      <td>9607.172546</td>\n",
       "      <td>9511.676764</td>\n",
       "      <td>-147.695044</td>\n",
       "      <td>-37.320554</td>\n",
       "      <td>-25.914414</td>\n",
       "      <td>-0.267958</td>\n",
       "      <td>-1.747075</td>\n",
       "      <td>4.979834e+09</td>\n",
       "      <td>-15.461494</td>\n",
       "      <td>9825.557130</td>\n",
       "      <td>0</td>\n",
       "    </tr>\n",
       "    <tr>\n",
       "      <th>1710</th>\n",
       "      <td>44.848763</td>\n",
       "      <td>-57.793684</td>\n",
       "      <td>9789.900462</td>\n",
       "      <td>9642.785616</td>\n",
       "      <td>9617.555924</td>\n",
       "      <td>9571.715971</td>\n",
       "      <td>9551.535422</td>\n",
       "      <td>-79.957325</td>\n",
       "      <td>-9.281028</td>\n",
       "      <td>-18.016052</td>\n",
       "      <td>-0.187021</td>\n",
       "      <td>-0.674567</td>\n",
       "      <td>4.977018e+09</td>\n",
       "      <td>-9.204287</td>\n",
       "      <td>9783.286251</td>\n",
       "      <td>0</td>\n",
       "    </tr>\n",
       "    <tr>\n",
       "      <th>1711</th>\n",
       "      <td>49.125760</td>\n",
       "      <td>-36.258904</td>\n",
       "      <td>9787.038753</td>\n",
       "      <td>9659.710524</td>\n",
       "      <td>9631.302626</td>\n",
       "      <td>9566.202759</td>\n",
       "      <td>9622.580249</td>\n",
       "      <td>-32.988442</td>\n",
       "      <td>2.411199</td>\n",
       "      <td>-6.124221</td>\n",
       "      <td>-0.064592</td>\n",
       "      <td>-0.907049</td>\n",
       "      <td>4.996743e+09</td>\n",
       "      <td>-4.775416</td>\n",
       "      <td>9746.087878</td>\n",
       "      <td>0</td>\n",
       "    </tr>\n",
       "  </tbody>\n",
       "</table>\n",
       "</div>"
      ],
      "text/plain": [
       "            RSI  Williams %R          SMA          EMA          WMA  \\\n",
       "1707  41.569831   -85.936000  9794.703411  9723.374540  9715.382899   \n",
       "1708  37.047322   -87.775458  9794.966082  9684.117601  9671.249306   \n",
       "1709  35.281696   -98.572611  9793.816811  9643.092128  9623.926020   \n",
       "1710  44.848763   -57.793684  9789.900462  9642.785616  9617.555924   \n",
       "1711  49.125760   -36.258904  9787.038753  9659.710524  9631.302626   \n",
       "\n",
       "              HMA         TEMA         CCI        CMO       MACD       PPO  \\\n",
       "1707  9703.195706  9653.420898 -108.233928 -20.428615 -10.697626 -0.110500   \n",
       "1708  9661.171790  9579.518917 -162.521195 -32.724010 -19.034937 -0.196464   \n",
       "1709  9607.172546  9511.676764 -147.695044 -37.320554 -25.914414 -0.267958   \n",
       "1710  9571.715971  9551.535422  -79.957325  -9.281028 -18.016052 -0.187021   \n",
       "1711  9566.202759  9622.580249  -32.988442   2.411199  -6.124221 -0.064592   \n",
       "\n",
       "           ROC           CFI        DMI          SAR  triple_barrier_signal  \n",
       "1707 -0.464851  5.094903e+09 -11.349519  9888.294820                      0  \n",
       "1708 -2.395174  5.037866e+09 -19.055029  9864.056859                      0  \n",
       "1709 -1.747075  4.979834e+09 -15.461494  9825.557130                      0  \n",
       "1710 -0.674567  4.977018e+09  -9.204287  9783.286251                      0  \n",
       "1711 -0.907049  4.996743e+09  -4.775416  9746.087878                      0  "
      ]
     },
     "execution_count": 22,
     "metadata": {},
     "output_type": "execute_result"
    }
   ],
   "source": [
    "print(df.shape)\n",
    "df = df.dropna(axis=0)#刪除有缺失的row,會缺失主要因為用時間rolling計算技術指標導致,正常的\n",
    "features = ['RSI','Williams %R','SMA','EMA','WMA','HMA','TEMA','CCI','CMO','MACD','PPO','ROC','CFI','DMI','SAR']\n",
    "y_name = 'triple_barrier_signal' #當作labels\n",
    "df = df[features+[y_name]]\n",
    "print(df.shape)\n",
    "df.tail()"
   ]
  },
  {
   "cell_type": "markdown",
   "metadata": {
    "id": "c68TXVQaqGl3"
   },
   "source": [
    "# features scaling(特徵縮放)"
   ]
  },
  {
   "cell_type": "code",
   "execution_count": 23,
   "metadata": {
    "colab": {
     "base_uri": "https://localhost:8080/",
     "height": 405
    },
    "id": "JpZPZWfJqGuo",
    "outputId": "ed10191c-dac2-432f-98b1-6b382a8e9615"
   },
   "outputs": [
    {
     "data": {
      "text/html": [
       "<div>\n",
       "<style scoped>\n",
       "    .dataframe tbody tr th:only-of-type {\n",
       "        vertical-align: middle;\n",
       "    }\n",
       "\n",
       "    .dataframe tbody tr th {\n",
       "        vertical-align: top;\n",
       "    }\n",
       "\n",
       "    .dataframe thead th {\n",
       "        text-align: right;\n",
       "    }\n",
       "</style>\n",
       "<table border=\"1\" class=\"dataframe\">\n",
       "  <thead>\n",
       "    <tr style=\"text-align: right;\">\n",
       "      <th></th>\n",
       "      <th>RSI</th>\n",
       "      <th>Williams %R</th>\n",
       "      <th>SMA</th>\n",
       "      <th>EMA</th>\n",
       "      <th>WMA</th>\n",
       "      <th>HMA</th>\n",
       "      <th>TEMA</th>\n",
       "      <th>CCI</th>\n",
       "      <th>CMO</th>\n",
       "      <th>MACD</th>\n",
       "      <th>PPO</th>\n",
       "      <th>ROC</th>\n",
       "      <th>CFI</th>\n",
       "      <th>DMI</th>\n",
       "      <th>SAR</th>\n",
       "      <th>triple_barrier_signal</th>\n",
       "    </tr>\n",
       "  </thead>\n",
       "  <tbody>\n",
       "    <tr>\n",
       "      <th>1707</th>\n",
       "      <td>0.454417</td>\n",
       "      <td>0.140640</td>\n",
       "      <td>0.700007</td>\n",
       "      <td>0.653674</td>\n",
       "      <td>0.646610</td>\n",
       "      <td>0.635769</td>\n",
       "      <td>0.627660</td>\n",
       "      <td>0.362566</td>\n",
       "      <td>0.420523</td>\n",
       "      <td>0.535421</td>\n",
       "      <td>0.474905</td>\n",
       "      <td>0.490473</td>\n",
       "      <td>0.369074</td>\n",
       "      <td>0.483635</td>\n",
       "      <td>0.686848</td>\n",
       "      <td>0</td>\n",
       "    </tr>\n",
       "    <tr>\n",
       "      <th>1708</th>\n",
       "      <td>0.389427</td>\n",
       "      <td>0.122245</td>\n",
       "      <td>0.700077</td>\n",
       "      <td>0.644038</td>\n",
       "      <td>0.635952</td>\n",
       "      <td>0.625884</td>\n",
       "      <td>0.610424</td>\n",
       "      <td>0.286625</td>\n",
       "      <td>0.342224</td>\n",
       "      <td>0.491260</td>\n",
       "      <td>0.431773</td>\n",
       "      <td>0.410470</td>\n",
       "      <td>0.362863</td>\n",
       "      <td>0.411391</td>\n",
       "      <td>0.681356</td>\n",
       "      <td>0</td>\n",
       "    </tr>\n",
       "    <tr>\n",
       "      <th>1709</th>\n",
       "      <td>0.364054</td>\n",
       "      <td>0.014274</td>\n",
       "      <td>0.699772</td>\n",
       "      <td>0.633968</td>\n",
       "      <td>0.624523</td>\n",
       "      <td>0.613183</td>\n",
       "      <td>0.594601</td>\n",
       "      <td>0.307365</td>\n",
       "      <td>0.312953</td>\n",
       "      <td>0.454820</td>\n",
       "      <td>0.395901</td>\n",
       "      <td>0.437331</td>\n",
       "      <td>0.356545</td>\n",
       "      <td>0.445083</td>\n",
       "      <td>0.672631</td>\n",
       "      <td>0</td>\n",
       "    </tr>\n",
       "    <tr>\n",
       "      <th>1710</th>\n",
       "      <td>0.501537</td>\n",
       "      <td>0.422063</td>\n",
       "      <td>0.698730</td>\n",
       "      <td>0.633893</td>\n",
       "      <td>0.622984</td>\n",
       "      <td>0.604844</td>\n",
       "      <td>0.603898</td>\n",
       "      <td>0.402122</td>\n",
       "      <td>0.491512</td>\n",
       "      <td>0.496656</td>\n",
       "      <td>0.436511</td>\n",
       "      <td>0.481781</td>\n",
       "      <td>0.356238</td>\n",
       "      <td>0.503748</td>\n",
       "      <td>0.663052</td>\n",
       "      <td>0</td>\n",
       "    </tr>\n",
       "    <tr>\n",
       "      <th>1711</th>\n",
       "      <td>0.562999</td>\n",
       "      <td>0.637411</td>\n",
       "      <td>0.697969</td>\n",
       "      <td>0.638047</td>\n",
       "      <td>0.626304</td>\n",
       "      <td>0.603547</td>\n",
       "      <td>0.620467</td>\n",
       "      <td>0.467826</td>\n",
       "      <td>0.565970</td>\n",
       "      <td>0.559645</td>\n",
       "      <td>0.497938</td>\n",
       "      <td>0.472146</td>\n",
       "      <td>0.358386</td>\n",
       "      <td>0.545272</td>\n",
       "      <td>0.654623</td>\n",
       "      <td>0</td>\n",
       "    </tr>\n",
       "  </tbody>\n",
       "</table>\n",
       "</div>"
      ],
      "text/plain": [
       "           RSI  Williams %R       SMA       EMA       WMA       HMA      TEMA  \\\n",
       "1707  0.454417     0.140640  0.700007  0.653674  0.646610  0.635769  0.627660   \n",
       "1708  0.389427     0.122245  0.700077  0.644038  0.635952  0.625884  0.610424   \n",
       "1709  0.364054     0.014274  0.699772  0.633968  0.624523  0.613183  0.594601   \n",
       "1710  0.501537     0.422063  0.698730  0.633893  0.622984  0.604844  0.603898   \n",
       "1711  0.562999     0.637411  0.697969  0.638047  0.626304  0.603547  0.620467   \n",
       "\n",
       "           CCI       CMO      MACD       PPO       ROC       CFI       DMI  \\\n",
       "1707  0.362566  0.420523  0.535421  0.474905  0.490473  0.369074  0.483635   \n",
       "1708  0.286625  0.342224  0.491260  0.431773  0.410470  0.362863  0.411391   \n",
       "1709  0.307365  0.312953  0.454820  0.395901  0.437331  0.356545  0.445083   \n",
       "1710  0.402122  0.491512  0.496656  0.436511  0.481781  0.356238  0.503748   \n",
       "1711  0.467826  0.565970  0.559645  0.497938  0.472146  0.358386  0.545272   \n",
       "\n",
       "           SAR  triple_barrier_signal  \n",
       "1707  0.686848                      0  \n",
       "1708  0.681356                      0  \n",
       "1709  0.672631                      0  \n",
       "1710  0.663052                      0  \n",
       "1711  0.654623                      0  "
      ]
     },
     "execution_count": 23,
     "metadata": {},
     "output_type": "execute_result"
    }
   ],
   "source": [
    "from sklearn.preprocessing import MinMaxScaler\n",
    "import pickle\n",
    "min_max_scaler = MinMaxScaler()\n",
    "df_minmax = df.copy()\n",
    "df_minmax[features] = min_max_scaler.fit_transform(df_minmax[features])#縮放到0-1之間\n",
    "with open('scaler.pkl', 'wb') as f:\n",
    "    pickle.dump(min_max_scaler, f)\n",
    "df_minmax.tail()"
   ]
  },
  {
   "cell_type": "code",
   "execution_count": 24,
   "metadata": {
    "colab": {
     "base_uri": "https://localhost:8080/",
     "height": 174
    },
    "id": "yMPgsldPdxLm",
    "outputId": "22d8c9b0-2048-406f-9969-03d5c9ffd447"
   },
   "outputs": [
    {
     "data": {
      "text/html": [
       "<div>\n",
       "<style scoped>\n",
       "    .dataframe tbody tr th:only-of-type {\n",
       "        vertical-align: middle;\n",
       "    }\n",
       "\n",
       "    .dataframe tbody tr th {\n",
       "        vertical-align: top;\n",
       "    }\n",
       "\n",
       "    .dataframe thead th {\n",
       "        text-align: right;\n",
       "    }\n",
       "</style>\n",
       "<table border=\"1\" class=\"dataframe\">\n",
       "  <thead>\n",
       "    <tr style=\"text-align: right;\">\n",
       "      <th></th>\n",
       "      <th>RSI</th>\n",
       "      <th>Williams %R</th>\n",
       "      <th>SMA</th>\n",
       "    </tr>\n",
       "  </thead>\n",
       "  <tbody>\n",
       "    <tr>\n",
       "      <th>1709</th>\n",
       "      <td>35.281696</td>\n",
       "      <td>-98.572611</td>\n",
       "      <td>9793.816811</td>\n",
       "    </tr>\n",
       "    <tr>\n",
       "      <th>1710</th>\n",
       "      <td>44.848763</td>\n",
       "      <td>-57.793684</td>\n",
       "      <td>9789.900462</td>\n",
       "    </tr>\n",
       "    <tr>\n",
       "      <th>1711</th>\n",
       "      <td>49.125760</td>\n",
       "      <td>-36.258904</td>\n",
       "      <td>9787.038753</td>\n",
       "    </tr>\n",
       "  </tbody>\n",
       "</table>\n",
       "</div>"
      ],
      "text/plain": [
       "            RSI  Williams %R          SMA\n",
       "1709  35.281696   -98.572611  9793.816811\n",
       "1710  44.848763   -57.793684  9789.900462\n",
       "1711  49.125760   -36.258904  9787.038753"
      ]
     },
     "execution_count": 24,
     "metadata": {},
     "output_type": "execute_result"
    }
   ],
   "source": [
    "df.tail(3)[['RSI','Williams %R','SMA']]"
   ]
  },
  {
   "cell_type": "code",
   "execution_count": 25,
   "metadata": {
    "colab": {
     "base_uri": "https://localhost:8080/",
     "height": 287
    },
    "id": "nmSpTa3ndxLn",
    "outputId": "edac76f1-5286-45c3-c5f9-0f43b630e022"
   },
   "outputs": [
    {
     "data": {
      "text/plain": [
       "<matplotlib.image.AxesImage at 0x249c442b5e0>"
      ]
     },
     "execution_count": 25,
     "metadata": {},
     "output_type": "execute_result"
    },
    {
     "data": {
      "image/png": "[encoded data removed]",
      "text/plain": [
       "<Figure size 640x480 with 1 Axes>"
      ]
     },
     "metadata": {},
     "output_type": "display_data"
    }
   ],
   "source": [
    "img = df.head(3)[['RSI','Williams %R','MACD']].values\n",
    "plt.imshow(img)"
   ]
  },
  {
   "cell_type": "code",
   "execution_count": 26,
   "metadata": {
    "colab": {
     "base_uri": "https://localhost:8080/"
    },
    "id": "5MCZDpBgrrQQ",
    "outputId": "1a6526c5-3ea8-492d-ab98-b735a7f2cb51"
   },
   "outputs": [
    {
     "name": "stdout",
     "output_type": "stream",
     "text": [
      "特徵縮放完成!\n"
     ]
    }
   ],
   "source": [
    "df = df_minmax\n",
    "print('特徵縮放完成!')"
   ]
  },
  {
   "cell_type": "markdown",
   "metadata": {
    "id": "_kc7tvz_M7PO"
   },
   "source": [
    "# 定義X,y pair"
   ]
  },
  {
   "cell_type": "code",
   "execution_count": 27,
   "metadata": {
    "colab": {
     "base_uri": "https://localhost:8080/"
    },
    "id": "2ZHvlRJ5Lzzu",
    "outputId": "9dfa9268-027a-4a61-cee8-eaa8457548e2"
   },
   "outputs": [
    {
     "name": "stderr",
     "output_type": "stream",
     "text": [
      "100%|████████████████████████████████████████████████████████████████████████████| 1658/1658 [00:00<00:00, 2195.21it/s]"
     ]
    },
    {
     "name": "stdout",
     "output_type": "stream",
     "text": [
      "準備完成\n"
     ]
    },
    {
     "name": "stderr",
     "output_type": "stream",
     "text": [
      "\n"
     ]
    }
   ],
   "source": [
    "from tqdm import tqdm\n",
    "import numpy as np\n",
    "\n",
    "#定義觀察天數,起始index(0),結束index(資料筆數-觀察天數)\n",
    "days = 15\n",
    "start_index = 0\n",
    "end_index = len(df)-days\n",
    "\n",
    "#特徵欄位\n",
    "features = df.drop(y_name,axis=1).columns.tolist()\n",
    "\n",
    "#待存放序列\n",
    "Xs = []\n",
    "ys = []\n",
    "indexs = []\n",
    "\n",
    "'''\n",
    "若資料筆數100,days=15天,f_index=85,i只會跑到84,i+days=99,features只會跑到98天.\n",
    "若資料筆數100,days=15天,f_index=85+1,i會跑到85,i+days=100,features會跑到99天.\n",
    "'''\n",
    "for i in tqdm(range(start_index ,end_index+1 ,1)):#每次i都會遞增1\n",
    "  X = df.iloc[i:i+days,:][features] #ex:若i為0,則i+days為15因此數據index為0...14(不含15)之features\n",
    "  y = df.iloc[i+days-1:i+days,:][y_name]#ex:若i為0days為15則[i+days-1:i+days]為[14:15]相當於index[14]之y_name('triple_barrier_signal')\n",
    "  X = np.array(X) # 轉成np_array\n",
    "  Xs.append(X) #加入至list\n",
    "  ys.append(y) #加入至list\n",
    "  indexs.append((df.iloc[[i]].index,df.iloc[[i+days-1]].index)) #加入資料日期\n",
    "#轉換成np_array\n",
    "Xs = np.array(Xs)\n",
    "ys = np.array(ys)\n",
    "print('準備完成')"
   ]
  },
  {
   "cell_type": "markdown",
   "metadata": {
    "id": "a9iNRYKpNfIP"
   },
   "source": [
    "# check 資料總數跟 資料時間範圍"
   ]
  },
  {
   "cell_type": "code",
   "execution_count": 28,
   "metadata": {
    "colab": {
     "base_uri": "https://localhost:8080/"
    },
    "id": "7YiS6ZmtNfSf",
    "outputId": "a6bb6eda-4e88-4174-ffe0-44738e3f6652"
   },
   "outputs": [],
   "source": [
    "# print('資料筆數:',len(Xs))\n",
    "# print('第一筆的index開始和結束:{}-{}'.format(indexs[0][0].date[0],indexs[0][1].date[0]))\n",
    "# print('最後一筆的index開始和結束:{}-{}'.format(indexs[-1][0].date[0],indexs[-1][1].date[0]))"
   ]
  },
  {
   "cell_type": "markdown",
   "metadata": {
    "id": "Pabl4tEsXYB8"
   },
   "source": [
    "# Reshape X (圖片數量,長,寬,1張)"
   ]
  },
  {
   "cell_type": "code",
   "execution_count": 29,
   "metadata": {
    "colab": {
     "base_uri": "https://localhost:8080/"
    },
    "id": "In4R0IcSPDwG",
    "outputId": "d4367a3f-df7e-46c8-86d9-de3c1f98fe60"
   },
   "outputs": [
    {
     "name": "stdout",
     "output_type": "stream",
     "text": [
      "(1658, 15, 15)\n",
      "(1658, 15, 15, 1)\n"
     ]
    }
   ],
   "source": [
    "print(Xs.shape)\n",
    "Xs = Xs.reshape(-1,days,len(features),1)\n",
    "print(Xs.shape)"
   ]
  },
  {
   "cell_type": "markdown",
   "metadata": {
    "id": "lUy2cpReXaOV"
   },
   "source": [
    "# One hot encoding of label(獨熱編碼)"
   ]
  },
  {
   "cell_type": "markdown",
   "metadata": {
    "id": "hjDc-sStA1gk"
   },
   "source": [
    "原始y代表漲幅"
   ]
  },
  {
   "cell_type": "code",
   "execution_count": 30,
   "metadata": {
    "colab": {
     "base_uri": "https://localhost:8080/"
    },
    "id": "6XGRdxmfWrfo",
    "outputId": "57faae83-4429-4ccb-f695-3cafb8b3b5db"
   },
   "outputs": [
    {
     "name": "stdout",
     "output_type": "stream",
     "text": [
      "One hot encoding前\n",
      "(1658, 1)\n",
      "[[0]\n",
      " [0]\n",
      " [0]\n",
      " [0]\n",
      " [0]]\n",
      "One hot encoding後\n",
      "(1658, 3)\n",
      "[[1. 0. 0.]\n",
      " [1. 0. 0.]\n",
      " [1. 0. 0.]\n",
      " [1. 0. 0.]\n",
      " [1. 0. 0.]]\n"
     ]
    }
   ],
   "source": [
    "print('One hot encoding前')\n",
    "print(ys.shape)\n",
    "print(ys[:5])\n",
    "from keras.utils.np_utils import to_categorical\n",
    "ys = to_categorical(ys, num_classes = 3)\n",
    "print('One hot encoding後')\n",
    "print(ys.shape)\n",
    "print(ys[:5])"
   ]
  },
  {
   "cell_type": "markdown",
   "metadata": {
    "id": "TYcPI2TWBTpJ"
   },
   "source": [
    "# Visualization"
   ]
  },
  {
   "cell_type": "code",
   "execution_count": 31,
   "metadata": {
    "colab": {
     "base_uri": "https://localhost:8080/",
     "height": 591
    },
    "id": "6y77Le-EdxLs",
    "outputId": "78f0a190-0eab-4aa7-868c-9cf5cb2e11a8"
   },
   "outputs": [
    {
     "data": {
      "image/png": "[encoded data removed]",
      "text/plain": [
       "<Figure size 1000x1000 with 9 Axes>"
      ]
     },
     "metadata": {},
     "output_type": "display_data"
    }
   ],
   "source": [
    "import matplotlib.pyplot as plt\n",
    "\n",
    "# n为batch大小，这里设为9\n",
    "n = 9\n",
    "\n",
    "# 生成一个九宫格的画布\n",
    "fig, axs = plt.subplots(3, 3, figsize=(10, 10))\n",
    "\n",
    "# 遍历batch中的每一个样本，依次画出对应的矩阵和标注\n",
    "for i in range(n):\n",
    "    # 获取当前样本的矩阵和标注\n",
    "    x = Xs[i]\n",
    "    y = ys[i]\n",
    "    \n",
    "    # 在对应的子图上画出矩阵和标注\n",
    "    axs[i//3, i%3].imshow(x)\n",
    "    axs[i//3, i%3].set_title('y={}'.format(y))\n",
    "    axs[i//3, i%3].axis('off')\n",
    "\n",
    "# 调整子图之间的距离\n",
    "plt.subplots_adjust(hspace=0.3, wspace=0.3)\n",
    "\n",
    "# 显示画布\n",
    "plt.show()\n"
   ]
  },
  {
   "cell_type": "markdown",
   "metadata": {
    "id": "5Oa6gYq_aVjE"
   },
   "source": [
    "# Split training and test sets"
   ]
  },
  {
   "cell_type": "code",
   "execution_count": 32,
   "metadata": {
    "colab": {
     "base_uri": "https://localhost:8080/"
    },
    "id": "OLHFbreckAlH",
    "outputId": "d31f28bf-06fc-4fb9-c9ea-bb767ccb8363"
   },
   "outputs": [
    {
     "name": "stdout",
     "output_type": "stream",
     "text": [
      "(1618, 15, 15, 1) (1618, 3) (40, 15, 15, 1)\n"
     ]
    }
   ],
   "source": [
    "X_test = Xs[-40:] #最後40天features當作test資料\n",
    "X_train,y_train = Xs[:-40],ys[:-40] #其他當作訓練\n",
    "print(X_train.shape,y_train.shape,X_test.shape)"
   ]
  },
  {
   "cell_type": "markdown",
   "metadata": {
    "id": "gldr_9_D6CWR"
   },
   "source": [
    "# 調整採樣"
   ]
  },
  {
   "cell_type": "code",
   "execution_count": 33,
   "metadata": {
    "colab": {
     "base_uri": "https://localhost:8080/"
    },
    "id": "gUrzPr896Che",
    "outputId": "7f0ea480-2df1-4cd9-ac02-1c46c8467034"
   },
   "outputs": [
    {
     "name": "stdout",
     "output_type": "stream",
     "text": [
      "(1618, 225)\n",
      "(1618,)\n",
      "0    105\n",
      "1    105\n",
      "Name: 0, dtype: int64\n",
      "(210, 15, 15, 1)\n",
      "(210, 3)\n"
     ]
    }
   ],
   "source": [
    "X_train2維 = X_train.reshape(X_train.shape[0],-1)\n",
    "y_train數字 = np.array([ np.argmax(i) for i in y_train])\n",
    "print(X_train2維.shape)\n",
    "print(y_train數字.shape)\n",
    "\n",
    "from imblearn.under_sampling import RandomUnderSampler\n",
    "ros = RandomUnderSampler()\n",
    "X_train平衡 ,y_train平衡 = ros.fit_resample(X_train2維 ,y_train數字)\n",
    "print(pd.DataFrame(y_train平衡)[0].value_counts().sort_index())#顯示結果\n",
    "\n",
    "X_train = X_train平衡.reshape(X_train平衡.shape[0],15,15,1)#資料數,15,15,1\n",
    "y_train = y_train平衡.reshape(y_train平衡.shape[0],1)#資料數,1\n",
    "y_train = to_categorical(y_train , num_classes = 3)#one_hot\n",
    "print(X_train.shape)\n",
    "print(y_train.shape)"
   ]
  },
  {
   "cell_type": "markdown",
   "metadata": {
    "id": "0LI45EZC6k4Q"
   },
   "source": [
    "# Split training and val sets"
   ]
  },
  {
   "cell_type": "code",
   "execution_count": 34,
   "metadata": {
    "colab": {
     "base_uri": "https://localhost:8080/"
    },
    "id": "MgsrVpYUYf5J",
    "outputId": "ae70c2ef-f222-4631-c71f-8ff814e90772"
   },
   "outputs": [
    {
     "name": "stdout",
     "output_type": "stream",
     "text": [
      "(168, 15, 15, 1) (168, 3) (42, 15, 15, 1) (42, 3)\n"
     ]
    }
   ],
   "source": [
    "from sklearn.model_selection import train_test_split\n",
    "xtrain, xval, ytrain, yval = train_test_split(\n",
    "    X_train,\n",
    "    y_train, \n",
    "    test_size = 0.2,\n",
    "    random_state = 42,\n",
    "    shuffle = True,#是否洗牌\n",
    "    stratify = y_train #是否根據y欄位做分層取樣\n",
    "    )\n",
    "print(xtrain.shape, ytrain.shape, xval.shape, yval.shape)"
   ]
  },
  {
   "cell_type": "markdown",
   "metadata": {
    "id": "2xQOFrENMkSb"
   },
   "source": [
    "# 看一下樣本的label分布情況是否平均(待解決)"
   ]
  },
  {
   "cell_type": "markdown",
   "metadata": {
    "id": "xnUz7A3tlfya"
   },
   "source": [
    "0:Hold,1:Buy,2:Sell"
   ]
  },
  {
   "cell_type": "code",
   "execution_count": 35,
   "metadata": {
    "colab": {
     "base_uri": "https://localhost:8080/"
    },
    "id": "aA9SXiicML6Y",
    "outputId": "e5710fa8-e82f-4819-8937-99b7c321e460"
   },
   "outputs": [
    {
     "data": {
      "text/plain": [
       "0    1553\n",
       "1     105\n",
       "dtype: int64"
      ]
     },
     "execution_count": 35,
     "metadata": {},
     "output_type": "execute_result"
    }
   ],
   "source": [
    "pd.Series([np.argmax(i) for i in ys]).value_counts()"
   ]
  },
  {
   "cell_type": "code",
   "execution_count": 36,
   "metadata": {
    "colab": {
     "base_uri": "https://localhost:8080/"
    },
    "id": "l3gzqyHc8hKR",
    "outputId": "cf0b3474-828a-47b3-de1a-5dcaeac104ba"
   },
   "outputs": [
    {
     "data": {
      "text/plain": [
       "0    105\n",
       "1    105\n",
       "dtype: int64"
      ]
     },
     "execution_count": 36,
     "metadata": {},
     "output_type": "execute_result"
    }
   ],
   "source": [
    "pd.Series([np.argmax(i) for i in y_train]).value_counts()"
   ]
  },
  {
   "cell_type": "code",
   "execution_count": 37,
   "metadata": {
    "colab": {
     "base_uri": "https://localhost:8080/"
    },
    "id": "UIOBe8tVL5dV",
    "outputId": "ca8dba29-8c83-417e-dd15-1a842f66089d"
   },
   "outputs": [
    {
     "data": {
      "text/plain": [
       "0    84\n",
       "1    84\n",
       "dtype: int64"
      ]
     },
     "execution_count": 37,
     "metadata": {},
     "output_type": "execute_result"
    }
   ],
   "source": [
    "pd.Series([np.argmax(i) for i in ytrain]).value_counts()"
   ]
  },
  {
   "cell_type": "code",
   "execution_count": 38,
   "metadata": {
    "colab": {
     "base_uri": "https://localhost:8080/"
    },
    "id": "A235BZ6cMQ-S",
    "outputId": "e13e060b-7093-459b-cadb-d9e910e7d159"
   },
   "outputs": [
    {
     "data": {
      "text/plain": [
       "0    21\n",
       "1    21\n",
       "dtype: int64"
      ]
     },
     "execution_count": 38,
     "metadata": {},
     "output_type": "execute_result"
    }
   ],
   "source": [
    "pd.Series([np.argmax(i) for i in yval]).value_counts()"
   ]
  },
  {
   "cell_type": "markdown",
   "metadata": {
    "id": "m-oXz0FGarb1"
   },
   "source": [
    "# 製作模型"
   ]
  },
  {
   "cell_type": "code",
   "execution_count": 39,
   "metadata": {
    "colab": {
     "base_uri": "https://localhost:8080/"
    },
    "id": "lAmnVEWgdxL0",
    "outputId": "09d14849-d025-40d9-a086-b32de9257cd5"
   },
   "outputs": [
    {
     "name": "stdout",
     "output_type": "stream",
     "text": [
      "Model: \"sequential\"\n",
      "_________________________________________________________________\n",
      " Layer (type)                Output Shape              Param #   \n",
      "=================================================================\n",
      " conv2d (Conv2D)             (None, 13, 13, 32)        320       \n",
      "                                                                 \n",
      " conv2d_1 (Conv2D)           (None, 11, 11, 64)        18496     \n",
      "                                                                 \n",
      " conv2d_2 (Conv2D)           (None, 9, 9, 128)         73856     \n",
      "                                                                 \n",
      " flatten (Flatten)           (None, 10368)             0         \n",
      "                                                                 \n",
      " dropout (Dropout)           (None, 10368)             0         \n",
      "                                                                 \n",
      " dense (Dense)               (None, 3)                 31107     \n",
      "                                                                 \n",
      "=================================================================\n",
      "Total params: 123,779\n",
      "Trainable params: 123,779\n",
      "Non-trainable params: 0\n",
      "_________________________________________________________________\n"
     ]
    }
   ],
   "source": [
    "from keras import backend as K\n",
    "from keras.models import Sequential\n",
    "from keras.layers import Dense, Dropout, Lambda, Flatten, BatchNormalization\n",
    "from keras.layers import Conv2D, MaxPool2D, AvgPool2D\n",
    "from tensorflow.keras.optimizers import Adam \n",
    "from keras.callbacks import ReduceLROnPlateau , EarlyStopping\n",
    "from keras.models import Sequential\n",
    "from keras.layers import Dense, Flatten, Dropout\n",
    "\n",
    "\n",
    "# 創建一個序列模型\n",
    "model = Sequential()\n",
    "\n",
    "# 添加第一個卷積層，使用32個3x3的卷積核，使用ReLU激活函數，並指定輸入形狀\n",
    "model.add(Conv2D(32, (3, 3), activation='relu', input_shape=(15, 15, 1)))\n",
    "\n",
    "# 添加第二個卷積層，使用64個3x3的卷積核，使用ReLU激活函數\n",
    "model.add(Conv2D(64, (3, 3), activation='relu'))\n",
    "\n",
    "# 添加第三個卷積層，使用128個3x3的卷積核，使用ReLU激活函數\n",
    "model.add(Conv2D(128, (3, 3), activation='relu'))\n",
    "\n",
    "# 添加平坦層，將卷積層的輸出展開為一維數組\n",
    "model.add(Flatten())\n",
    "\n",
    "# 添加dropout層，防止過度擬合\n",
    "model.add(Dropout(0.5))\n",
    "\n",
    "# 添加全連接層，使用softmax激活函數，輸出3個類別\n",
    "model.add(Dense(3, activation='softmax'))\n",
    "\n",
    "# 編譯模型，使用交叉熵損失函數和Adam優化器\n",
    "model.compile(loss='categorical_crossentropy', optimizer='adam', metrics=['accuracy'])\n",
    "\n",
    "# 打印模型結構\n",
    "model.summary()"
   ]
  },
  {
   "cell_type": "code",
   "execution_count": 40,
   "metadata": {
    "colab": {
     "base_uri": "https://localhost:8080/",
     "height": 90
    },
    "id": "yd-csnW2auJS",
    "outputId": "ffb1fd13-f6f8-45c1-d9bb-55807a05723c"
   },
   "outputs": [
    {
     "data": {
      "text/plain": [
       "\"\\nnclasses = 3 \\nmodel = Sequential()\\nmodel.add(Conv2D(filters=32, kernel_size=(3,3), padding='same', activation='relu', input_shape=(15,15,1)))#15,15,32\\nmodel.add(Conv2D(filters=64, kernel_size=(3,3), padding='same', activation='relu',))#15,15,64\\nmodel.add(MaxPool2D(pool_size=(5,5)))# 3,3,64\\nmodel.add(Flatten())#576\\nmodel.add(Dropout(0.5))#288\\nmodel.add(Dense(128, activation='relu'))#128\\nmodel.add(Dropout(0.5))#64\\nmodel.add(Dense(32, activation='relu'))#32\\nmodel.add(Dropout(0.5))#16\\nmodel.add(Dense(nclasses, activation='softmax'))#3\\nmodel.summary()\\n\""
      ]
     },
     "execution_count": 40,
     "metadata": {},
     "output_type": "execute_result"
    }
   ],
   "source": [
    "'''\n",
    "nclasses = 3 \n",
    "model = Sequential()\n",
    "model.add(Conv2D(filters=32, kernel_size=(3,3), padding='same', activation='relu', input_shape=(15,15,1)))#15,15,32\n",
    "model.add(Conv2D(filters=64, kernel_size=(3,3), padding='same', activation='relu',))#15,15,64\n",
    "model.add(MaxPool2D(pool_size=(5,5)))# 3,3,64\n",
    "model.add(Flatten())#576\n",
    "model.add(Dropout(0.5))#288\n",
    "model.add(Dense(128, activation='relu'))#128\n",
    "model.add(Dropout(0.5))#64\n",
    "model.add(Dense(32, activation='relu'))#32\n",
    "model.add(Dropout(0.5))#16\n",
    "model.add(Dense(nclasses, activation='softmax'))#3\n",
    "model.summary()\n",
    "'''"
   ]
  },
  {
   "cell_type": "markdown",
   "metadata": {
    "id": "AxhsjTcqdxL1"
   },
   "source": [
    "# 編譯模型"
   ]
  },
  {
   "cell_type": "code",
   "execution_count": 41,
   "metadata": {
    "id": "8Z913AqUa8bJ"
   },
   "outputs": [],
   "source": [
    "model.compile(optimizer=\"adam\", loss=\"categorical_crossentropy\", metrics=[\"accuracy\"])"
   ]
  },
  {
   "cell_type": "markdown",
   "metadata": {
    "id": "VORA4n9Lz9of"
   },
   "source": [
    "# 定義訓練過程的早停法機制"
   ]
  },
  {
   "cell_type": "code",
   "execution_count": 42,
   "metadata": {
    "id": "Kw_j4R4Da_To"
   },
   "outputs": [],
   "source": [
    "es = EarlyStopping(monitor='val_accuracy',#驗證集acc\n",
    "                   min_delta=0.0001, \n",
    "                   patience=20,  \n",
    "                   mode='max',\n",
    "                   restore_best_weights=True)#恢復最佳權重"
   ]
  },
  {
   "cell_type": "markdown",
   "metadata": {
    "id": "aevlVsI9Lk9a"
   },
   "source": [
    "# fit"
   ]
  },
  {
   "cell_type": "code",
   "execution_count": 43,
   "metadata": {
    "colab": {
     "base_uri": "https://localhost:8080/"
    },
    "id": "TJJR7Yg-bHac",
    "outputId": "451e2d65-a5ec-46b4-9d6b-80c818b76fb9"
   },
   "outputs": [
    {
     "name": "stdout",
     "output_type": "stream",
     "text": [
      "Epoch 1/200\n",
      "2/2 [==============================] - 1s 548ms/step - loss: 1.0305 - accuracy: 0.4286 - val_loss: 0.7486 - val_accuracy: 0.6190\n",
      "Epoch 2/200\n",
      "2/2 [==============================] - 0s 104ms/step - loss: 0.7352 - accuracy: 0.5417 - val_loss: 0.6899 - val_accuracy: 0.5238\n",
      "Epoch 3/200\n",
      "2/2 [==============================] - 0s 82ms/step - loss: 0.7056 - accuracy: 0.5536 - val_loss: 0.6621 - val_accuracy: 0.5000\n",
      "Epoch 4/200\n",
      "2/2 [==============================] - 0s 105ms/step - loss: 0.6952 - accuracy: 0.5179 - val_loss: 0.6244 - val_accuracy: 0.6190\n",
      "Epoch 5/200\n",
      "2/2 [==============================] - 0s 131ms/step - loss: 0.6912 - accuracy: 0.5774 - val_loss: 0.6120 - val_accuracy: 0.6429\n",
      "Epoch 6/200\n",
      "2/2 [==============================] - 0s 147ms/step - loss: 0.6550 - accuracy: 0.5952 - val_loss: 0.6006 - val_accuracy: 0.6190\n",
      "Epoch 7/200\n",
      "2/2 [==============================] - 0s 142ms/step - loss: 0.7160 - accuracy: 0.5357 - val_loss: 0.5941 - val_accuracy: 0.5714\n",
      "Epoch 8/200\n",
      "2/2 [==============================] - 0s 147ms/step - loss: 0.6476 - accuracy: 0.6250 - val_loss: 0.5990 - val_accuracy: 0.6190\n",
      "Epoch 9/200\n",
      "2/2 [==============================] - 0s 143ms/step - loss: 0.6432 - accuracy: 0.6429 - val_loss: 0.5974 - val_accuracy: 0.6190\n",
      "Epoch 10/200\n",
      "2/2 [==============================] - 0s 157ms/step - loss: 0.6224 - accuracy: 0.6429 - val_loss: 0.5829 - val_accuracy: 0.6190\n",
      "Epoch 11/200\n",
      "2/2 [==============================] - 0s 160ms/step - loss: 0.6245 - accuracy: 0.6250 - val_loss: 0.6237 - val_accuracy: 0.6190\n",
      "Epoch 12/200\n",
      "2/2 [==============================] - 0s 140ms/step - loss: 0.6471 - accuracy: 0.5714 - val_loss: 0.6307 - val_accuracy: 0.5714\n",
      "Epoch 13/200\n",
      "2/2 [==============================] - 0s 135ms/step - loss: 0.6256 - accuracy: 0.5833 - val_loss: 0.5801 - val_accuracy: 0.6667\n",
      "Epoch 14/200\n",
      "2/2 [==============================] - 0s 140ms/step - loss: 0.5981 - accuracy: 0.6786 - val_loss: 0.5903 - val_accuracy: 0.6905\n",
      "Epoch 15/200\n",
      "2/2 [==============================] - 0s 117ms/step - loss: 0.6241 - accuracy: 0.7083 - val_loss: 0.5586 - val_accuracy: 0.6429\n",
      "Epoch 16/200\n",
      "2/2 [==============================] - 0s 151ms/step - loss: 0.5884 - accuracy: 0.6548 - val_loss: 0.5881 - val_accuracy: 0.6905\n",
      "Epoch 17/200\n",
      "2/2 [==============================] - 0s 134ms/step - loss: 0.5956 - accuracy: 0.6250 - val_loss: 0.5528 - val_accuracy: 0.6667\n",
      "Epoch 18/200\n",
      "2/2 [==============================] - 0s 140ms/step - loss: 0.5915 - accuracy: 0.7024 - val_loss: 0.5550 - val_accuracy: 0.6905\n",
      "Epoch 19/200\n",
      "2/2 [==============================] - 0s 114ms/step - loss: 0.5861 - accuracy: 0.7024 - val_loss: 0.5756 - val_accuracy: 0.7143\n",
      "Epoch 20/200\n",
      "2/2 [==============================] - 0s 90ms/step - loss: 0.5686 - accuracy: 0.6726 - val_loss: 0.5630 - val_accuracy: 0.7143\n",
      "Epoch 21/200\n",
      "2/2 [==============================] - 0s 101ms/step - loss: 0.5658 - accuracy: 0.7321 - val_loss: 0.5463 - val_accuracy: 0.7619\n",
      "Epoch 22/200\n",
      "2/2 [==============================] - 0s 124ms/step - loss: 0.5631 - accuracy: 0.7321 - val_loss: 0.5371 - val_accuracy: 0.7619\n",
      "Epoch 23/200\n",
      "2/2 [==============================] - 0s 66ms/step - loss: 0.5469 - accuracy: 0.7024 - val_loss: 0.5363 - val_accuracy: 0.7381\n",
      "Epoch 24/200\n",
      "2/2 [==============================] - 0s 102ms/step - loss: 0.5597 - accuracy: 0.6845 - val_loss: 0.5302 - val_accuracy: 0.7381\n",
      "Epoch 25/200\n",
      "2/2 [==============================] - 0s 77ms/step - loss: 0.5175 - accuracy: 0.7262 - val_loss: 0.5162 - val_accuracy: 0.7857\n",
      "Epoch 26/200\n",
      "2/2 [==============================] - 0s 108ms/step - loss: 0.5117 - accuracy: 0.7560 - val_loss: 0.5166 - val_accuracy: 0.7619\n",
      "Epoch 27/200\n",
      "2/2 [==============================] - 0s 89ms/step - loss: 0.5092 - accuracy: 0.7440 - val_loss: 0.5584 - val_accuracy: 0.8095\n",
      "Epoch 28/200\n",
      "2/2 [==============================] - 0s 142ms/step - loss: 0.5182 - accuracy: 0.7262 - val_loss: 0.5271 - val_accuracy: 0.7619\n",
      "Epoch 29/200\n",
      "2/2 [==============================] - 0s 102ms/step - loss: 0.4902 - accuracy: 0.7798 - val_loss: 0.5484 - val_accuracy: 0.7381\n",
      "Epoch 30/200\n",
      "2/2 [==============================] - 0s 114ms/step - loss: 0.5245 - accuracy: 0.7440 - val_loss: 0.5176 - val_accuracy: 0.7857\n",
      "Epoch 31/200\n",
      "2/2 [==============================] - 0s 73ms/step - loss: 0.4926 - accuracy: 0.7738 - val_loss: 0.5742 - val_accuracy: 0.7619\n",
      "Epoch 32/200\n",
      "2/2 [==============================] - 0s 110ms/step - loss: 0.5248 - accuracy: 0.7619 - val_loss: 0.5027 - val_accuracy: 0.7857\n",
      "Epoch 33/200\n",
      "2/2 [==============================] - 0s 80ms/step - loss: 0.4916 - accuracy: 0.7500 - val_loss: 0.5051 - val_accuracy: 0.7857\n",
      "Epoch 34/200\n",
      "2/2 [==============================] - 0s 142ms/step - loss: 0.4866 - accuracy: 0.7619 - val_loss: 0.5102 - val_accuracy: 0.7857\n",
      "Epoch 35/200\n",
      "2/2 [==============================] - 0s 143ms/step - loss: 0.4773 - accuracy: 0.7738 - val_loss: 0.5447 - val_accuracy: 0.8095\n",
      "Epoch 36/200\n",
      "2/2 [==============================] - 0s 135ms/step - loss: 0.4878 - accuracy: 0.7560 - val_loss: 0.5097 - val_accuracy: 0.7857\n",
      "Epoch 37/200\n",
      "2/2 [==============================] - 0s 145ms/step - loss: 0.4782 - accuracy: 0.7738 - val_loss: 0.4925 - val_accuracy: 0.7857\n",
      "Epoch 38/200\n",
      "2/2 [==============================] - 0s 141ms/step - loss: 0.4682 - accuracy: 0.7679 - val_loss: 0.5141 - val_accuracy: 0.8571\n",
      "Epoch 39/200\n",
      "2/2 [==============================] - 0s 146ms/step - loss: 0.4581 - accuracy: 0.7738 - val_loss: 0.5800 - val_accuracy: 0.7381\n",
      "Epoch 40/200\n",
      "2/2 [==============================] - 0s 138ms/step - loss: 0.4884 - accuracy: 0.7262 - val_loss: 0.5099 - val_accuracy: 0.7619\n",
      "Epoch 41/200\n",
      "2/2 [==============================] - 0s 140ms/step - loss: 0.4703 - accuracy: 0.7738 - val_loss: 0.5104 - val_accuracy: 0.7381\n",
      "Epoch 42/200\n",
      "2/2 [==============================] - 0s 105ms/step - loss: 0.4825 - accuracy: 0.7560 - val_loss: 0.4756 - val_accuracy: 0.7857\n",
      "Epoch 43/200\n",
      "2/2 [==============================] - 0s 85ms/step - loss: 0.4593 - accuracy: 0.7619 - val_loss: 0.4733 - val_accuracy: 0.8333\n",
      "Epoch 44/200\n",
      "2/2 [==============================] - 0s 139ms/step - loss: 0.4490 - accuracy: 0.7619 - val_loss: 0.5036 - val_accuracy: 0.8571\n",
      "Epoch 45/200\n",
      "2/2 [==============================] - 0s 159ms/step - loss: 0.4593 - accuracy: 0.7679 - val_loss: 0.4847 - val_accuracy: 0.8333\n",
      "Epoch 46/200\n",
      "2/2 [==============================] - 0s 182ms/step - loss: 0.4398 - accuracy: 0.7917 - val_loss: 0.4793 - val_accuracy: 0.7857\n",
      "Epoch 47/200\n",
      "2/2 [==============================] - 0s 95ms/step - loss: 0.4462 - accuracy: 0.7857 - val_loss: 0.5003 - val_accuracy: 0.7857\n",
      "Epoch 48/200\n",
      "2/2 [==============================] - 0s 143ms/step - loss: 0.4275 - accuracy: 0.8036 - val_loss: 0.5602 - val_accuracy: 0.8333\n",
      "Epoch 49/200\n",
      "2/2 [==============================] - 0s 182ms/step - loss: 0.4441 - accuracy: 0.7857 - val_loss: 0.5303 - val_accuracy: 0.8571\n",
      "Epoch 50/200\n",
      "2/2 [==============================] - 0s 177ms/step - loss: 0.4209 - accuracy: 0.8095 - val_loss: 0.4550 - val_accuracy: 0.8095\n",
      "Epoch 51/200\n",
      "2/2 [==============================] - 0s 142ms/step - loss: 0.4093 - accuracy: 0.7857 - val_loss: 0.4324 - val_accuracy: 0.8095\n",
      "Epoch 52/200\n",
      "2/2 [==============================] - 0s 136ms/step - loss: 0.4452 - accuracy: 0.7679 - val_loss: 0.4230 - val_accuracy: 0.7857\n",
      "Epoch 53/200\n",
      "2/2 [==============================] - 0s 112ms/step - loss: 0.4138 - accuracy: 0.7738 - val_loss: 0.4600 - val_accuracy: 0.8810\n",
      "Epoch 54/200\n",
      "2/2 [==============================] - 0s 99ms/step - loss: 0.4195 - accuracy: 0.7798 - val_loss: 0.5103 - val_accuracy: 0.8571\n",
      "Epoch 55/200\n",
      "2/2 [==============================] - 0s 84ms/step - loss: 0.4254 - accuracy: 0.7798 - val_loss: 0.4935 - val_accuracy: 0.8571\n",
      "Epoch 56/200\n",
      "2/2 [==============================] - 0s 72ms/step - loss: 0.4107 - accuracy: 0.8095 - val_loss: 0.4672 - val_accuracy: 0.8333\n",
      "Epoch 57/200\n",
      "2/2 [==============================] - 0s 106ms/step - loss: 0.4009 - accuracy: 0.8155 - val_loss: 0.4355 - val_accuracy: 0.8333\n",
      "Epoch 58/200\n",
      "2/2 [==============================] - 0s 140ms/step - loss: 0.3922 - accuracy: 0.8214 - val_loss: 0.4395 - val_accuracy: 0.8095\n"
     ]
    },
    {
     "name": "stdout",
     "output_type": "stream",
     "text": [
      "Epoch 59/200\n",
      "2/2 [==============================] - 0s 136ms/step - loss: 0.4184 - accuracy: 0.7857 - val_loss: 0.4199 - val_accuracy: 0.8095\n",
      "Epoch 60/200\n",
      "2/2 [==============================] - 0s 145ms/step - loss: 0.3935 - accuracy: 0.7917 - val_loss: 0.4107 - val_accuracy: 0.8333\n",
      "Epoch 61/200\n",
      "2/2 [==============================] - 0s 145ms/step - loss: 0.3587 - accuracy: 0.8274 - val_loss: 0.4561 - val_accuracy: 0.8571\n",
      "Epoch 62/200\n",
      "2/2 [==============================] - 0s 134ms/step - loss: 0.3756 - accuracy: 0.8631 - val_loss: 0.4879 - val_accuracy: 0.8333\n",
      "Epoch 63/200\n",
      "2/2 [==============================] - 0s 133ms/step - loss: 0.3888 - accuracy: 0.8214 - val_loss: 0.4579 - val_accuracy: 0.8333\n",
      "Epoch 64/200\n",
      "2/2 [==============================] - 0s 132ms/step - loss: 0.3638 - accuracy: 0.8333 - val_loss: 0.4407 - val_accuracy: 0.8095\n",
      "Epoch 65/200\n",
      "2/2 [==============================] - 0s 133ms/step - loss: 0.3767 - accuracy: 0.8393 - val_loss: 0.4073 - val_accuracy: 0.7857\n",
      "Epoch 66/200\n",
      "2/2 [==============================] - 0s 110ms/step - loss: 0.3674 - accuracy: 0.8214 - val_loss: 0.4012 - val_accuracy: 0.8333\n",
      "Epoch 67/200\n",
      "2/2 [==============================] - 0s 84ms/step - loss: 0.3458 - accuracy: 0.8512 - val_loss: 0.4279 - val_accuracy: 0.8095\n",
      "Epoch 68/200\n",
      "2/2 [==============================] - 0s 113ms/step - loss: 0.3367 - accuracy: 0.8333 - val_loss: 0.4727 - val_accuracy: 0.8095\n",
      "Epoch 69/200\n",
      "2/2 [==============================] - 0s 65ms/step - loss: 0.3601 - accuracy: 0.8750 - val_loss: 0.4263 - val_accuracy: 0.8333\n",
      "Epoch 70/200\n",
      "2/2 [==============================] - 0s 89ms/step - loss: 0.3313 - accuracy: 0.8631 - val_loss: 0.4176 - val_accuracy: 0.8095\n",
      "Epoch 71/200\n",
      "2/2 [==============================] - 0s 130ms/step - loss: 0.3282 - accuracy: 0.8512 - val_loss: 0.4645 - val_accuracy: 0.8095\n",
      "Epoch 72/200\n",
      "2/2 [==============================] - 0s 136ms/step - loss: 0.3267 - accuracy: 0.8631 - val_loss: 0.4573 - val_accuracy: 0.7857\n",
      "Epoch 73/200\n",
      "2/2 [==============================] - 0s 140ms/step - loss: 0.3415 - accuracy: 0.8333 - val_loss: 0.4164 - val_accuracy: 0.8095\n"
     ]
    }
   ],
   "source": [
    "history = model.fit(\n",
    "    xtrain,\n",
    "    ytrain,\n",
    "    batch_size = 128,\n",
    "    epochs = 200,\n",
    "    validation_data=(xval,yval),\n",
    "    verbose=1,callbacks=[es]\n",
    "    )"
   ]
  },
  {
   "cell_type": "markdown",
   "metadata": {
    "id": "xQ2Koxsz0Zun"
   },
   "source": [
    "# 訓練過程評估"
   ]
  },
  {
   "cell_type": "code",
   "execution_count": 44,
   "metadata": {
    "colab": {
     "base_uri": "https://localhost:8080/",
     "height": 265
    },
    "id": "2SxJIEDzbaZ7",
    "outputId": "f4302ec8-51ba-487a-ee52-b08c9a745339"
   },
   "outputs": [
    {
     "data": {
      "image/png": "[encoded data removed]",
      "text/plain": [
       "<Figure size 640x480 with 2 Axes>"
      ]
     },
     "metadata": {},
     "output_type": "display_data"
    }
   ],
   "source": [
    "import matplotlib.pyplot as plt\n",
    "fig, ax = plt.subplots(2,1)\n",
    "ax[0].plot(history.history['loss'], color='b', label=\"Training loss\")\n",
    "ax[0].plot(history.history['val_loss'], color='r', label=\"Validation loss\",axes =ax[0])\n",
    "ax[0].grid(color='black', linestyle='-', linewidth=0.25)\n",
    "legend = ax[0].legend(loc='best', shadow=True)\n",
    "\n",
    "ax[1].plot(history.history['accuracy'], color='b', label=\"Training accuracy\")\n",
    "ax[1].plot(history.history['val_accuracy'], color='r',label=\"Validation accuracy\")\n",
    "ax[1].grid(color='black', linestyle='-', linewidth=0.25)\n",
    "legend = ax[1].legend(loc='best', shadow=True)"
   ]
  },
  {
   "cell_type": "markdown",
   "metadata": {
    "id": "zWVmgHz80cCp"
   },
   "source": [
    "# 混淆矩陣"
   ]
  },
  {
   "cell_type": "code",
   "execution_count": 45,
   "metadata": {
    "colab": {
     "base_uri": "https://localhost:8080/",
     "height": 329
    },
    "id": "UH5CcmX6btme",
    "outputId": "1937c93a-613b-476d-d1fb-776bea3d6be6"
   },
   "outputs": [
    {
     "name": "stdout",
     "output_type": "stream",
     "text": [
      "2/2 [==============================] - 0s 11ms/step\n"
     ]
    },
    {
     "data": {
      "image/png": "[encoded data removed]",
      "text/plain": [
       "<Figure size 640x480 with 2 Axes>"
      ]
     },
     "metadata": {},
     "output_type": "display_data"
    }
   ],
   "source": [
    "from sklearn.metrics import confusion_matrix\n",
    "import itertools\n",
    "\n",
    "def plot_confusion_matrix(cm, classes, normalize=False, title='Confusion matrix', cmap=plt.cm.Blues):\n",
    "    plt.imshow(cm, interpolation='nearest', cmap=cmap)\n",
    "    plt.title(title)\n",
    "    plt.colorbar()\n",
    "    tick_marks = np.arange(len(classes))\n",
    "    plt.xticks(tick_marks, classes, rotation=45)\n",
    "    plt.yticks(tick_marks, classes)\n",
    "    if normalize:\n",
    "        cm = cm.astype('float') / cm.sum(axis=1)[:, np.newaxis]\n",
    "    thresh = cm.max() / 2.\n",
    "    for i, j in itertools.product(range(cm.shape[0]), range(cm.shape[1])):\n",
    "        plt.text(j, i, cm[i, j],\n",
    "                 horizontalalignment=\"center\",\n",
    "                 color=\"white\" if cm[i, j] > thresh else \"black\")\n",
    "    plt.tight_layout()\n",
    "    plt.ylabel('True label')\n",
    "    plt.xlabel('Predicted label')\n",
    "\n",
    "#預測的y\n",
    "ypred_onehot = model.predict(xval)\n",
    "#轉換預測的y: [0 0 1 0 0 ...] --> 2\n",
    "ypred = np.argmax(ypred_onehot,axis=1)\n",
    "#轉換真實的y\n",
    "ytrue = np.argmax(yval,axis=1)\n",
    "#計算 confusion matrix\n",
    "confusion_mtx = confusion_matrix(ytrue, ypred)\n",
    "#畫出 confusion matrix\n",
    "nclasses = 3\n",
    "plot_confusion_matrix(confusion_mtx, classes=range(nclasses))"
   ]
  },
  {
   "cell_type": "markdown",
   "metadata": {
    "id": "PmgafP2rpjAO"
   },
   "source": [
    "# classification_report "
   ]
  },
  {
   "cell_type": "code",
   "execution_count": 46,
   "metadata": {
    "colab": {
     "base_uri": "https://localhost:8080/"
    },
    "id": "lCSuw9cYqEYk",
    "outputId": "1ed07b66-7ae9-4578-dc75-eaeaf96d8e21"
   },
   "outputs": [
    {
     "name": "stdout",
     "output_type": "stream",
     "text": [
      "2/2 [==============================] - 0s 11ms/step\n",
      "              precision    recall  f1-score   support\n",
      "\n",
      "        Hold       0.86      0.90      0.88        21\n",
      "         BUY       0.90      0.86      0.88        21\n",
      "        SELL       0.00      0.00      0.00         0\n",
      "\n",
      "   micro avg       0.88      0.88      0.88        42\n",
      "   macro avg       0.59      0.59      0.59        42\n",
      "weighted avg       0.88      0.88      0.88        42\n",
      " samples avg       0.88      0.88      0.88        42\n",
      "\n"
     ]
    },
    {
     "name": "stderr",
     "output_type": "stream",
     "text": [
      "C:\\Users\\sheng\\anaconda3\\lib\\site-packages\\sklearn\\metrics\\_classification.py:1318: UndefinedMetricWarning: Precision and F-score are ill-defined and being set to 0.0 in labels with no predicted samples. Use `zero_division` parameter to control this behavior.\n",
      "  _warn_prf(average, modifier, msg_start, len(result))\n",
      "C:\\Users\\sheng\\anaconda3\\lib\\site-packages\\sklearn\\metrics\\_classification.py:1318: UndefinedMetricWarning: Recall and F-score are ill-defined and being set to 0.0 in labels with no true samples. Use `zero_division` parameter to control this behavior.\n",
      "  _warn_prf(average, modifier, msg_start, len(result))\n"
     ]
    }
   ],
   "source": [
    "from sklearn.metrics import classification_report \n",
    "y_pred = model.predict(xval)\n",
    "y_pred = [np.argmax(i) for i in y_pred]\n",
    "y_pred = to_categorical(y_pred, num_classes = 3)\n",
    "target_names = ['Hold','BUY','SELL']\n",
    "print(classification_report(yval,y_pred,target_names=target_names))"
   ]
  },
  {
   "cell_type": "markdown",
   "metadata": {
    "id": "wztZOw2r1ddE"
   },
   "source": [
    "# 驗證集的準確度"
   ]
  },
  {
   "cell_type": "code",
   "execution_count": 47,
   "metadata": {
    "colab": {
     "base_uri": "https://localhost:8080/"
    },
    "id": "dl9iTLBf2VOe",
    "outputId": "6f622cf3-383c-4776-c893-401f30c4b96d"
   },
   "outputs": [
    {
     "data": {
      "text/plain": [
       "0.8809523809523809"
      ]
     },
     "execution_count": 47,
     "metadata": {},
     "output_type": "execute_result"
    }
   ],
   "source": [
    "def val_acc(yval,y_pred):\n",
    "  t = []\n",
    "  for i,j in zip(yval,y_pred):\n",
    "    t.append(np.allclose(i,j))\n",
    "  return np.mean(t)\n",
    "val_acc(yval,y_pred)"
   ]
  },
  {
   "cell_type": "markdown",
   "metadata": {
    "id": "togdM5Afo71w"
   },
   "source": [
    "## 測試集預測"
   ]
  },
  {
   "cell_type": "code",
   "execution_count": 49,
   "metadata": {
    "colab": {
     "base_uri": "https://localhost:8080/",
     "height": 495
    },
    "id": "kQqzNPdQo8GW",
    "outputId": "8428be5d-7372-4f6d-f621-790f62a06c21"
   },
   "outputs": [
    {
     "name": "stdout",
     "output_type": "stream",
     "text": [
      "2/2 [==============================] - 0s 0s/step\n",
      "40\n"
     ]
    },
    {
     "data": {
      "text/plain": [
       "<matplotlib.collections.PathCollection at 0x249cf761a00>"
      ]
     },
     "execution_count": 49,
     "metadata": {},
     "output_type": "execute_result"
    },
    {
     "data": {
      "image/png": "[encoded data removed]",
      "text/plain": [
       "<Figure size 640x480 with 1 Axes>"
      ]
     },
     "metadata": {},
     "output_type": "display_data"
    }
   ],
   "source": [
    "import pandas as pd\n",
    "answer = model.predict(X_test)\n",
    "answer = [ np.argmax(i) for i in answer]\n",
    "print(len(answer))\n",
    "C = pd.DataFrame()\n",
    "# C['Close'] = yf.download(y_symbol, start = startdate,end = enddate)['Close']\n",
    "C['Close'] = pd.read_excel(y_symbol)['Close']\n",
    "C['SIGNAL'] = 0\n",
    "C = C.tail(len(answer))\n",
    "C['SIGNAL'] = answer \n",
    "buy = C[C['SIGNAL']==1]['Close']\n",
    "sell = C[C['SIGNAL']==2]['Close']\n",
    "C['Close'].plot()\n",
    "plt.scatter(list(buy.index),list(buy.values),color='red',marker=\"^\")\n",
    "plt.scatter(list(sell.index),list(sell.values),color='black')"
   ]
  },
  {
   "cell_type": "markdown",
   "metadata": {
    "id": "fj0UOufddxL7"
   },
   "source": [
    "# 製作交易訊號表格"
   ]
  },
  {
   "cell_type": "code",
   "execution_count": 50,
   "metadata": {
    "colab": {
     "base_uri": "https://localhost:8080/",
     "height": 762
    },
    "id": "Mhqp36TP3GPc",
    "outputId": "3d451220-f6ee-43a2-a46a-862b75cf9ae8"
   },
   "outputs": [
    {
     "name": "stdout",
     "output_type": "stream",
     "text": [
      "2/2 [==============================] - 0s 5ms/step\n",
      "2/2 [==============================] - 0s 6ms/step\n",
      "2/2 [==============================] - 0s 11ms/step\n"
     ]
    },
    {
     "data": {
      "text/html": [
       "<div>\n",
       "<style scoped>\n",
       "    .dataframe tbody tr th:only-of-type {\n",
       "        vertical-align: middle;\n",
       "    }\n",
       "\n",
       "    .dataframe tbody tr th {\n",
       "        vertical-align: top;\n",
       "    }\n",
       "\n",
       "    .dataframe thead th {\n",
       "        text-align: right;\n",
       "    }\n",
       "</style>\n",
       "<table border=\"1\" class=\"dataframe\">\n",
       "  <thead>\n",
       "    <tr style=\"text-align: right;\">\n",
       "      <th></th>\n",
       "      <th>Close</th>\n",
       "      <th>HOLD%</th>\n",
       "      <th>BUY%</th>\n",
       "      <th>SELL%</th>\n",
       "    </tr>\n",
       "  </thead>\n",
       "  <tbody>\n",
       "    <tr>\n",
       "      <th>1692</th>\n",
       "      <td>10137.8701</td>\n",
       "      <td>0.9564</td>\n",
       "      <td>0.0436</td>\n",
       "      <td>0.0000</td>\n",
       "    </tr>\n",
       "    <tr>\n",
       "      <th>1693</th>\n",
       "      <td>10083.5400</td>\n",
       "      <td>0.9756</td>\n",
       "      <td>0.0244</td>\n",
       "      <td>0.0000</td>\n",
       "    </tr>\n",
       "    <tr>\n",
       "      <th>1694</th>\n",
       "      <td>9916.7402</td>\n",
       "      <td>0.9771</td>\n",
       "      <td>0.0229</td>\n",
       "      <td>0.0000</td>\n",
       "    </tr>\n",
       "    <tr>\n",
       "      <th>1695</th>\n",
       "      <td>9684.7197</td>\n",
       "      <td>0.9460</td>\n",
       "      <td>0.0540</td>\n",
       "      <td>0.0000</td>\n",
       "    </tr>\n",
       "    <tr>\n",
       "      <th>1696</th>\n",
       "      <td>9760.8799</td>\n",
       "      <td>0.8344</td>\n",
       "      <td>0.1656</td>\n",
       "      <td>0.0000</td>\n",
       "    </tr>\n",
       "    <tr>\n",
       "      <th>1697</th>\n",
       "      <td>9647.5400</td>\n",
       "      <td>0.6454</td>\n",
       "      <td>0.3546</td>\n",
       "      <td>0.0000</td>\n",
       "    </tr>\n",
       "    <tr>\n",
       "      <th>1698</th>\n",
       "      <td>9707.0400</td>\n",
       "      <td>0.5302</td>\n",
       "      <td>0.4698</td>\n",
       "      <td>0.0000</td>\n",
       "    </tr>\n",
       "    <tr>\n",
       "      <th>1699</th>\n",
       "      <td>9816.4502</td>\n",
       "      <td>0.5316</td>\n",
       "      <td>0.4684</td>\n",
       "      <td>0.0000</td>\n",
       "    </tr>\n",
       "    <tr>\n",
       "      <th>1700</th>\n",
       "      <td>9858.7598</td>\n",
       "      <td>0.5616</td>\n",
       "      <td>0.4384</td>\n",
       "      <td>0.0000</td>\n",
       "    </tr>\n",
       "    <tr>\n",
       "      <th>1701</th>\n",
       "      <td>9774.1602</td>\n",
       "      <td>0.5559</td>\n",
       "      <td>0.4441</td>\n",
       "      <td>0.0000</td>\n",
       "    </tr>\n",
       "    <tr>\n",
       "      <th>1702</th>\n",
       "      <td>9787.5303</td>\n",
       "      <td>0.5232</td>\n",
       "      <td>0.4768</td>\n",
       "      <td>0.0000</td>\n",
       "    </tr>\n",
       "    <tr>\n",
       "      <th>1703</th>\n",
       "      <td>9718.8203</td>\n",
       "      <td>0.4930</td>\n",
       "      <td>0.5070</td>\n",
       "      <td>0.0000</td>\n",
       "    </tr>\n",
       "    <tr>\n",
       "      <th>1704</th>\n",
       "      <td>9783.2100</td>\n",
       "      <td>0.4733</td>\n",
       "      <td>0.5267</td>\n",
       "      <td>0.0000</td>\n",
       "    </tr>\n",
       "    <tr>\n",
       "      <th>1705</th>\n",
       "      <td>9674.5195</td>\n",
       "      <td>0.4697</td>\n",
       "      <td>0.5303</td>\n",
       "      <td>0.0000</td>\n",
       "    </tr>\n",
       "    <tr>\n",
       "      <th>1706</th>\n",
       "      <td>9676.6699</td>\n",
       "      <td>0.4590</td>\n",
       "      <td>0.5410</td>\n",
       "      <td>0.0000</td>\n",
       "    </tr>\n",
       "    <tr>\n",
       "      <th>1707</th>\n",
       "      <td>9639.7002</td>\n",
       "      <td>0.4309</td>\n",
       "      <td>0.5691</td>\n",
       "      <td>0.0000</td>\n",
       "    </tr>\n",
       "    <tr>\n",
       "      <th>1708</th>\n",
       "      <td>9527.0898</td>\n",
       "      <td>0.3597</td>\n",
       "      <td>0.6403</td>\n",
       "      <td>0.0000</td>\n",
       "    </tr>\n",
       "    <tr>\n",
       "      <th>1709</th>\n",
       "      <td>9478.9902</td>\n",
       "      <td>0.3074</td>\n",
       "      <td>0.6926</td>\n",
       "      <td>0.0000</td>\n",
       "    </tr>\n",
       "    <tr>\n",
       "      <th>1710</th>\n",
       "      <td>9641.5596</td>\n",
       "      <td>0.3225</td>\n",
       "      <td>0.6775</td>\n",
       "      <td>0.0000</td>\n",
       "    </tr>\n",
       "    <tr>\n",
       "      <th>1711</th>\n",
       "      <td>9727.4102</td>\n",
       "      <td>0.4610</td>\n",
       "      <td>0.5390</td>\n",
       "      <td>0.0000</td>\n",
       "    </tr>\n",
       "  </tbody>\n",
       "</table>\n",
       "</div>"
      ],
      "text/plain": [
       "          Close  HOLD%   BUY%  SELL%\n",
       "1692 10137.8701 0.9564 0.0436 0.0000\n",
       "1693 10083.5400 0.9756 0.0244 0.0000\n",
       "1694  9916.7402 0.9771 0.0229 0.0000\n",
       "1695  9684.7197 0.9460 0.0540 0.0000\n",
       "1696  9760.8799 0.8344 0.1656 0.0000\n",
       "1697  9647.5400 0.6454 0.3546 0.0000\n",
       "1698  9707.0400 0.5302 0.4698 0.0000\n",
       "1699  9816.4502 0.5316 0.4684 0.0000\n",
       "1700  9858.7598 0.5616 0.4384 0.0000\n",
       "1701  9774.1602 0.5559 0.4441 0.0000\n",
       "1702  9787.5303 0.5232 0.4768 0.0000\n",
       "1703  9718.8203 0.4930 0.5070 0.0000\n",
       "1704  9783.2100 0.4733 0.5267 0.0000\n",
       "1705  9674.5195 0.4697 0.5303 0.0000\n",
       "1706  9676.6699 0.4590 0.5410 0.0000\n",
       "1707  9639.7002 0.4309 0.5691 0.0000\n",
       "1708  9527.0898 0.3597 0.6403 0.0000\n",
       "1709  9478.9902 0.3074 0.6926 0.0000\n",
       "1710  9641.5596 0.3225 0.6775 0.0000\n",
       "1711  9727.4102 0.4610 0.5390 0.0000"
      ]
     },
     "execution_count": 50,
     "metadata": {},
     "output_type": "execute_result"
    }
   ],
   "source": [
    "import pandas as pd\n",
    "# Set the float_format option to not use scientific notation\n",
    "pd.set_option('display.float_format', '{:.4f}'.format)\n",
    "np.set_printoptions(suppress=True)\n",
    "C['HOLD%'] = model.predict(X_test)[:,0]\n",
    "C['BUY%'] = model.predict(X_test)[:,1]\n",
    "C['SELL%'] = model.predict(X_test)[:,2]\n",
    "C.drop(['SIGNAL'],axis=1).tail(20)"
   ]
  },
  {
   "cell_type": "markdown",
   "metadata": {
    "id": "uzCeo-ctGg-o"
   },
   "source": [
    "# 保存模型"
   ]
  },
  {
   "cell_type": "code",
   "execution_count": 51,
   "metadata": {
    "colab": {
     "base_uri": "https://localhost:8080/"
    },
    "id": "M2fvxlPnBG7r",
    "outputId": "fb742186-2c87-4302-cd2b-d42e51f6cfde"
   },
   "outputs": [
    {
     "name": "stdout",
     "output_type": "stream",
     "text": [
      "2/2 [==============================] - 0s 5ms/step\n"
     ]
    },
    {
     "data": {
      "text/plain": [
       "array([[0.4308976 , 0.5691025 , 0.        ],\n",
       "       [0.35971883, 0.6402811 , 0.00000001],\n",
       "       [0.30744323, 0.69255674, 0.00000001],\n",
       "       [0.32251748, 0.6774825 , 0.00000001],\n",
       "       [0.4609852 , 0.5390148 , 0.00000001]], dtype=float32)"
      ]
     },
     "execution_count": 51,
     "metadata": {},
     "output_type": "execute_result"
    }
   ],
   "source": [
    "model.save('model.h5')\n",
    "del model\n",
    "from keras.models import load_model\n",
    "model = load_model('model.h5')\n",
    "predict = model.predict(X_test)\n",
    "predict[-5:]"
   ]
  },
  {
   "cell_type": "code",
   "execution_count": null,
   "metadata": {
    "id": "e51I2mMLHKe1"
   },
   "outputs": [],
   "source": []
  }
 ],
 "metadata": {
  "accelerator": "GPU",
  "colab": {
   "provenance": []
  },
  "kernelspec": {
   "display_name": "Python 3 (ipykernel)",
   "language": "python",
   "name": "python3"
  },
  "language_info": {
   "codemirror_mode": {
    "name": "ipython",
    "version": 3
   },
   "file_extension": ".py",
   "mimetype": "text/x-python",
   "name": "python",
   "nbconvert_exporter": "python",
   "pygments_lexer": "ipython3",
   "version": "3.9.13"
  },
  "toc": {
   "base_numbering": 1,
   "nav_menu": {},
   "number_sections": true,
   "sideBar": true,
   "skip_h1_title": false,
   "title_cell": "Table of Contents",
   "title_sidebar": "Contents",
   "toc_cell": false,
   "toc_position": {},
   "toc_section_display": true,
   "toc_window_display": false
  },
  "vscode": {
   "interpreter": {
    "hash": "57bc2b6ce032b5f0e93daa91901b7ea38a856826ef43aa9e95b6d3999f5310df"
   }
  }
 },
 "nbformat": 4,
 "nbformat_minor": 1
}
